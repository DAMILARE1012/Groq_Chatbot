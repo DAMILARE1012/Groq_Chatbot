{
 "cells": [
  {
   "cell_type": "code",
   "execution_count": 168,
   "metadata": {},
   "outputs": [
    {
     "name": "stderr",
     "output_type": "stream",
     "text": [
      "\n",
      "[notice] A new release of pip is available: 24.0 -> 24.3.1\n",
      "[notice] To update, run: python.exe -m pip install --upgrade pip\n",
      "\n",
      "[notice] A new release of pip is available: 24.0 -> 24.3.1\n",
      "[notice] To update, run: python.exe -m pip install --upgrade pip\n"
     ]
    },
    {
     "name": "stdout",
     "output_type": "stream",
     "text": [
      "Dataset URL: https://www.kaggle.com/datasets/adilmohammed/medical-data\n",
      "License(s): MIT\n",
      "medical-data.zip: Skipping, found more recently modified local copy (use --force to force download)\n"
     ]
    }
   ],
   "source": [
    "!pip install -q kaggle unzip datasets\n",
    "!pip install -q langchain_groq\n",
    "\n",
    "#!/bin/bash\n",
    "!kaggle datasets download adilmohammed/medical-data"
   ]
  },
  {
   "cell_type": "code",
   "execution_count": 169,
   "metadata": {},
   "outputs": [],
   "source": [
    "# Necessary libraries \n",
    "import datasets\n",
    "from datasets import load_dataset\n",
    "from dotenv import load_dotenv\n",
    "import os\n",
    "from langchain_groq import ChatGroq"
   ]
  },
  {
   "cell_type": "code",
   "execution_count": 170,
   "metadata": {},
   "outputs": [
    {
     "data": {
      "text/plain": [
       "'The current President of Rwanda is Paul Kagame. He has been in office since 2000 and was re-elected for a third term in 2017 and then again for a fourth term in 2024 is not yet confirmed but he has been serving since 2000.'"
      ]
     },
     "execution_count": 170,
     "metadata": {},
     "output_type": "execute_result"
    }
   ],
   "source": [
    "llm = ChatGroq(model=\"llama-3.3-70b-versatile\", api_key=os.environ.get(\"GROQ_API_KEY\"))\n",
    "llm.invoke(\"Who's the current present of Rwanda ?\").content"
   ]
  },
  {
   "cell_type": "code",
   "execution_count": 180,
   "metadata": {},
   "outputs": [],
   "source": [
    "context = \"There are two populations: One is found in the Virunga volcanic \" \\\n",
    "          \"mountains of Central/East Africa, within three National Parks: Mgahinga, in southwest Uganda; Volcanoes, \" \\\n",
    "          \"in northwest Rwanda; and Virunga, in the eastern Democratic Republic of Congo (DRC). \" \\\n",
    "          \"The other population is found in Uganda's Bwindi Impenetrable National Park. \" \\\n",
    "          \"Some primatologists speculate the Bwindi population is a separate subspecies,[3] \" \\\n",
    "          \"though no description has been finalized. The latest population count, \" \\\n",
    "          \"released in 2019, revealed there to be approximately 1060 mountain \" \\\n",
    "          \"gorillas in the wild[4]\""
   ]
  },
  {
   "cell_type": "code",
   "execution_count": 159,
   "metadata": {},
   "outputs": [],
   "source": [
    "# Langchain \n",
    "from langchain.prompts import ChatPromptTemplate, PromptTemplate\n",
    "from langchain.output_parsers import ResponseSchema, StructuredOutputParser"
   ]
  },
  {
   "cell_type": "code",
   "execution_count": 182,
   "metadata": {},
   "outputs": [],
   "source": [
    "response_schemas = [\n",
    "    ResponseSchema(name=\"Question\", description=\"The generated question from the provided context\"),\n",
    "    ResponseSchema(name=\"Answer\", description=\"The corresponding answer from the provided context\")\n",
    "]\n",
    "\n",
    "output_parser = StructuredOutputParser.from_response_schemas(response_schemas)\n",
    "format_instructions = output_parser.get_format_instructions(only_json=True)"
   ]
  },
  {
   "cell_type": "code",
   "execution_count": 161,
   "metadata": {},
   "outputs": [],
   "source": [
    "TEMPLATE = \"\"\" You are a helpful agent. Your task is to generate about 50 different or multiple meaningful questions with their corresponding answers using the following provided \"{context}\" \\n\\n\n",
    "\"You MUST obey the following criteria:\\n\"\n",
    "\"- No pre-amble.\\n\"\n",
    "\"- Restrict the question to the context information provided.\\n\"\n",
    "\"- Do NOT create a question that cannot be answered from the context.\\n\"\n",
    "\"- Phrase the question so that it does NOT refer to specific context.\\n\"\n",
    "\"- For instance, do NOT use phrases like 'given the provided context' or 'in this work' in the question or 'according to the text' in the answer becuse if the question is asked elsewher it would not be provided specific context. Replace these terms with specific details.\\n\"\n",
    "\"- Please do NOT repeat the provided context.\\n\"\n",
    "\"- Please follow JSON recommended format below.\\n\"\n",
    "\"- Please ensure that the ouput is a valid JSON object.\\n\"\n",
    "\"{format_instructions}\"\"\"\n",
    "\n",
    "prompt = ChatPromptTemplate.from_template(template=TEMPLATE)\n"
   ]
  },
  {
   "cell_type": "code",
   "execution_count": 162,
   "metadata": {},
   "outputs": [
    {
     "data": {
      "text/plain": [
       "AIMessage(content='```json\\n[\\n  {\\n    \"Question\": \"Where are mountain gorillas primarily found?\",\\n    \"Answer\": \"Central/East Africa\"\\n  },\\n  {\\n    \"Question\": \"What are the names of the National Parks where mountain gorillas are found?\",\\n    \"Answer\": \"Mgahinga, Volcanoes, and Virunga\"\\n  },\\n  {\\n    \"Question\": \"In which countries are the Virunga volcanic mountains located?\",\\n    \"Answer\": \"Uganda, Rwanda, and the Democratic Republic of Congo\"\\n  },\\n  {\\n    \"Question\": \"What is the name of the National Park in Uganda where the other population of mountain gorillas is found?\",\\n    \"Answer\": \"Bwindi Impenetrable National Park\"\\n  },\\n  {\\n    \"Question\": \"Do some primatologists consider the Bwindi population to be a separate subspecies?\",\\n    \"Answer\": \"Yes\"\\n  },\\n  {\\n    \"Question\": \"Has a description of the Bwindi population as a separate subspecies been finalized?\",\\n    \"Answer\": \"No\"\\n  },\\n  {\\n    \"Question\": \"What was the approximate number of mountain gorillas in the wild in 2019?\",\\n    \"Answer\": \"1060\"\\n  },\\n  {\\n    \"Question\": \"In which year was the latest population count of mountain gorillas released?\",\\n    \"Answer\": \"2019\"\\n  },\\n  {\\n    \"Question\": \"How many National Parks are home to mountain gorillas?\",\\n    \"Answer\": \"Four\"\\n  },\\n  {\\n    \"Question\": \"What type of mountains are the mountain gorillas found in?\",\\n    \"Answer\": \"Volcanic mountains\"\\n  },\\n  {\\n    \"Question\": \"Are mountain gorillas found in only one country?\",\\n    \"Answer\": \"No\"\\n  },\\n  {\\n    \"Question\": \"What is the location of the Mgahinga National Park?\",\\n    \"Answer\": \"Southwest Uganda\"\\n  },\\n  {\\n    \"Question\": \"Where is the Volcanoes National Park located?\",\\n    \"Answer\": \"Northwest Rwanda\"\\n  },\\n  {\\n    \"Question\": \"In which part of the Democratic Republic of Congo is the Virunga National Park located?\",\\n    \"Answer\": \"Eastern\"\\n  },\\n  {\\n    \"Question\": \"What is the name of the other population of mountain gorillas?\",\\n    \"Answer\": \"Bwindi population\"\\n  },\\n  {\\n    \"Question\": \"Who considers the Bwindi population to be a separate subspecies?\",\\n    \"Answer\": \"Some primatologists\"\\n  },\\n  {\\n    \"Question\": \"Is the Bwindi population considered a separate subspecies by all primatologists?\",\\n    \"Answer\": \"No\"\\n  },\\n  {\\n    \"Question\": \"What is the current status of the description of the Bwindi population as a separate subspecies?\",\\n    \"Answer\": \"Not finalized\"\\n  },\\n  {\\n    \"Question\": \"How often are population counts of mountain gorillas released?\",\\n    \"Answer\": \"Not specified\"\\n  },\\n  {\\n    \"Question\": \"What is the significance of the 2019 population count of mountain gorillas?\",\\n    \"Answer\": \"It revealed the approximate number of mountain gorillas in the wild\"\\n  },\\n  {\\n    \"Question\": \"Are mountain gorillas found in multiple countries?\",\\n    \"Answer\": \"Yes\"\\n  },\\n  {\\n    \"Question\": \"What is the total number of mountain gorillas in the wild?\",\\n    \"Answer\": \"Approximately 1060\"\\n  },\\n  {\\n    \"Question\": \"Are all mountain gorillas found in the same National Park?\",\\n    \"Answer\": \"No\"\\n  },\\n  {\\n    \"Question\": \"What type of information is provided by the 2019 population count?\",\\n    \"Answer\": \"The approximate number of mountain gorillas in the wild\"\\n  },\\n  {\\n    \"Question\": \"Is the population of mountain gorillas increasing or decreasing?\",\\n    \"Answer\": \"Not specified\"\\n  },\\n  {\\n    \"Question\": \"What is the location of the Bwindi Impenetrable National Park?\",\\n    \"Answer\": \"Uganda\"\\n  },\\n  {\\n    \"Question\": \"Are mountain gorillas found in the Virunga volcanic mountains?\",\\n    \"Answer\": \"Yes\"\\n  },\\n  {\\n    \"Question\": \"How many populations of mountain gorillas are there?\",\\n    \"Answer\": \"Two\"\\n  },\\n  {\\n    \"Question\": \"What is the name of the mountain range where mountain gorillas are found?\",\\n    \"Answer\": \"Virunga volcanic mountains\"\\n  },\\n  {\\n    \"Question\": \"Are mountain gorillas found in the wild?\",\\n    \"Answer\": \"Yes\"\\n  },\\n  {\\n    \"Question\": \"What is the approximate number of mountain gorillas in the wild?\",\\n    \"Answer\": \"1060\"\\n  },\\n  {\\n    \"Question\": \"In which region are mountain gorillas primarily found?\",\\n    \"Answer\": \"Central/East Africa\"\\n  },\\n  {\\n    \"Question\": \"What is the status of the Bwindi population as a separate subspecies?\",\\n    \"Answer\": \"Not finalized\"\\n  },\\n  {\\n    \"Question\": \"Are some primatologists speculating about the Bwindi population?\",\\n    \"Answer\": \"Yes\"\\n  },\\n  {\\n    \"Question\": \"What is the name of the National Parks where the two populations of mountain gorillas are found?\",\\n    \"Answer\": \"Mgahinga, Volcanoes, Virunga, and Bwindi Impenetrable\"\\n  },\\n  {\\n    \"Question\": \"How many mountain gorillas are found in the wild?\",\\n    \"Answer\": \"Approximately 1060\"\\n  },\\n  {\\n    \"Question\": \"What is the year of the latest population count of mountain gorillas?\",\\n    \"Answer\": \"2019\"\\n  },\\n  {\\n    \"Question\": \"Are mountain gorillas found in multiple National Parks?\",\\n    \"Answer\": \"Yes\"\\n  },\\n  {\\n    \"Question\": \"What is the location of the Virunga National Park?\",\\n    \"Answer\": \"Eastern Democratic Republic of Congo\"\\n  },\\n  {\\n    \"Question\": \"What type of information is provided by the population count of mountain gorillas?\",\\n    \"Answer\": \"The approximate number of mountain gorillas in the wild\"\\n  },\\n  {\\n    \"Question\": \"Is the population count of mountain gorillas important?\",\\n    \"Answer\": \"Yes\"\\n  },\\n  {\\n    \"Question\": \"What is the significance of the Virunga volcanic mountains for mountain gorillas?\",\\n    \"Answer\": \"It is their primary habitat\"\\n  },\\n  {\\n    \"Question\": \"Are mountain gorillas found in the same region as other gorilla species?\",\\n    \"Answer\": \"Not specified\"\\n  },\\n  {\\n    \"Question\": \"What is the name of the region where the Bwindi Impenetrable National Park is located?\",\\n    \"Answer\": \"Uganda\"\\n  },\\n  {\\n    \"Question\": \"Is the Bwindi population of mountain gorillas found in the same region as the other population?\",\\n    \"Answer\": \"No\"\\n  }\\n]\\n```', additional_kwargs={}, response_metadata={'token_usage': {'completion_tokens': 1478, 'prompt_tokens': 379, 'total_tokens': 1857, 'completion_time': 5.374545455, 'prompt_time': 0.043680957, 'queue_time': 0.003396294000000001, 'total_time': 5.418226412}, 'model_name': 'llama-3.3-70b-versatile', 'system_fingerprint': 'fp_2f487c4013', 'finish_reason': 'stop', 'logprobs': None}, id='run-d9af1496-c5c0-452e-9235-265bc9b88de3-0', usage_metadata={'input_tokens': 379, 'output_tokens': 1478, 'total_tokens': 1857})"
      ]
     },
     "execution_count": 162,
     "metadata": {},
     "output_type": "execute_result"
    }
   ],
   "source": [
    "messages = prompt.format_messages(context=context, format_instructions=format_instructions)\n",
    "response = llm.invoke(messages)\n",
    "response"
   ]
  },
  {
   "cell_type": "code",
   "execution_count": 163,
   "metadata": {},
   "outputs": [
    {
     "name": "stdout",
     "output_type": "stream",
     "text": [
      "Q: Where are mountain gorillas primarily found?\n",
      "A: Central/East Africa\n",
      "\n",
      "Q: What are the names of the National Parks where mountain gorillas are found?\n",
      "A: Mgahinga, Volcanoes, and Virunga\n",
      "\n",
      "Q: In which countries are the Virunga volcanic mountains located?\n",
      "A: Uganda, Rwanda, and the Democratic Republic of Congo\n",
      "\n",
      "Q: What is the name of the National Park in Uganda where the other population of mountain gorillas is found?\n",
      "A: Bwindi Impenetrable National Park\n",
      "\n",
      "Q: Do some primatologists consider the Bwindi population to be a separate subspecies?\n",
      "A: Yes\n",
      "\n",
      "Q: Has a description of the Bwindi population as a separate subspecies been finalized?\n",
      "A: No\n",
      "\n",
      "Q: What was the approximate number of mountain gorillas in the wild in 2019?\n",
      "A: 1060\n",
      "\n",
      "Q: In which year was the latest population count of mountain gorillas released?\n",
      "A: 2019\n",
      "\n",
      "Q: How many National Parks are home to mountain gorillas?\n",
      "A: Four\n",
      "\n",
      "Q: What type of mountains are the mountain gorillas found in?\n",
      "A: Volcanic mountains\n",
      "\n",
      "Q: Are mountain gorillas found in only one country?\n",
      "A: No\n",
      "\n",
      "Q: What is the location of the Mgahinga National Park?\n",
      "A: Southwest Uganda\n",
      "\n",
      "Q: Where is the Volcanoes National Park located?\n",
      "A: Northwest Rwanda\n",
      "\n",
      "Q: In which part of the Democratic Republic of Congo is the Virunga National Park located?\n",
      "A: Eastern\n",
      "\n",
      "Q: What is the name of the other population of mountain gorillas?\n",
      "A: Bwindi population\n",
      "\n",
      "Q: Who considers the Bwindi population to be a separate subspecies?\n",
      "A: Some primatologists\n",
      "\n",
      "Q: Is the Bwindi population considered a separate subspecies by all primatologists?\n",
      "A: No\n",
      "\n",
      "Q: What is the current status of the description of the Bwindi population as a separate subspecies?\n",
      "A: Not finalized\n",
      "\n",
      "Q: How often are population counts of mountain gorillas released?\n",
      "A: Not specified\n",
      "\n",
      "Q: What is the significance of the 2019 population count of mountain gorillas?\n",
      "A: It revealed the approximate number of mountain gorillas in the wild\n",
      "\n",
      "Q: Are mountain gorillas found in multiple countries?\n",
      "A: Yes\n",
      "\n",
      "Q: What is the total number of mountain gorillas in the wild?\n",
      "A: Approximately 1060\n",
      "\n",
      "Q: Are all mountain gorillas found in the same National Park?\n",
      "A: No\n",
      "\n",
      "Q: What type of information is provided by the 2019 population count?\n",
      "A: The approximate number of mountain gorillas in the wild\n",
      "\n",
      "Q: Is the population of mountain gorillas increasing or decreasing?\n",
      "A: Not specified\n",
      "\n",
      "Q: What is the location of the Bwindi Impenetrable National Park?\n",
      "A: Uganda\n",
      "\n",
      "Q: Are mountain gorillas found in the Virunga volcanic mountains?\n",
      "A: Yes\n",
      "\n",
      "Q: How many populations of mountain gorillas are there?\n",
      "A: Two\n",
      "\n",
      "Q: What is the name of the mountain range where mountain gorillas are found?\n",
      "A: Virunga volcanic mountains\n",
      "\n",
      "Q: Are mountain gorillas found in the wild?\n",
      "A: Yes\n",
      "\n",
      "Q: What is the approximate number of mountain gorillas in the wild?\n",
      "A: 1060\n",
      "\n",
      "Q: In which region are mountain gorillas primarily found?\n",
      "A: Central/East Africa\n",
      "\n",
      "Q: What is the status of the Bwindi population as a separate subspecies?\n",
      "A: Not finalized\n",
      "\n",
      "Q: Are some primatologists speculating about the Bwindi population?\n",
      "A: Yes\n",
      "\n",
      "Q: What is the name of the National Parks where the two populations of mountain gorillas are found?\n",
      "A: Mgahinga, Volcanoes, Virunga, and Bwindi Impenetrable\n",
      "\n",
      "Q: How many mountain gorillas are found in the wild?\n",
      "A: Approximately 1060\n",
      "\n",
      "Q: What is the year of the latest population count of mountain gorillas?\n",
      "A: 2019\n",
      "\n",
      "Q: Are mountain gorillas found in multiple National Parks?\n",
      "A: Yes\n",
      "\n",
      "Q: What is the location of the Virunga National Park?\n",
      "A: Eastern Democratic Republic of Congo\n",
      "\n",
      "Q: What type of information is provided by the population count of mountain gorillas?\n",
      "A: The approximate number of mountain gorillas in the wild\n",
      "\n",
      "Q: Is the population count of mountain gorillas important?\n",
      "A: Yes\n",
      "\n",
      "Q: What is the significance of the Virunga volcanic mountains for mountain gorillas?\n",
      "A: It is their primary habitat\n",
      "\n",
      "Q: Are mountain gorillas found in the same region as other gorilla species?\n",
      "A: Not specified\n",
      "\n",
      "Q: What is the name of the region where the Bwindi Impenetrable National Park is located?\n",
      "A: Uganda\n",
      "\n",
      "Q: Is the Bwindi population of mountain gorillas found in the same region as the other population?\n",
      "A: No\n",
      "\n"
     ]
    }
   ],
   "source": [
    "import json\n",
    "\n",
    "# Extract the content from the AIMessage object\n",
    "response_content = response.content\n",
    "\n",
    "# Remove the Markdown code block markers (```json and ```)\n",
    "if response_content.startswith('```json') and response_content.endswith('```'):\n",
    "    response_content = response_content[7:-3].strip()  # Remove ```json and ```\n",
    "\n",
    "# Parse the JSON string\n",
    "try:\n",
    "    data = json.loads(response_content)\n",
    "    \n",
    "    # Iterate through the list and print each question-answer pair\n",
    "    for item in data:\n",
    "        question = item.get(\"Question\", \"No Question Found\")\n",
    "        answer = item.get(\"Answer\", \"No Answer Found\")\n",
    "        print(f\"Q: {question}\")\n",
    "        print(f\"A: {answer}\")\n",
    "        print()\n",
    "except json.JSONDecodeError as e:\n",
    "    print(\"Error decoding JSON:\", e)"
   ]
  },
  {
   "cell_type": "code",
   "execution_count": 164,
   "metadata": {},
   "outputs": [
    {
     "name": "stdout",
     "output_type": "stream",
     "text": [
      "The capital city of Rwanda is Kigali.\n"
     ]
    }
   ],
   "source": [
    "import os\n",
    "\n",
    "from groq import Groq\n",
    "\n",
    "client = Groq(\n",
    "    api_key=os.environ.get(\"GROQ_API_KEY\"),\n",
    ")\n",
    "\n",
    "chat_completion = client.chat.completions.create(\n",
    "    messages=[\n",
    "        {\n",
    "            \"role\": \"user\",\n",
    "            \"content\": \"What is the capital city of Rwanda ?\",\n",
    "        }\n",
    "    ],\n",
    "    model=\"llama-3.3-70b-versatile\",\n",
    ")\n",
    "\n",
    "print(chat_completion.choices[0].message.content)"
   ]
  },
  {
   "cell_type": "code",
   "execution_count": 165,
   "metadata": {},
   "outputs": [],
   "source": [
    "ds = load_dataset(\"lavita/medical-qa-datasets\", \"chatdoctor-icliniq\")"
   ]
  },
  {
   "cell_type": "code",
   "execution_count": 166,
   "metadata": {},
   "outputs": [
    {
     "data": {
      "text/plain": [
       "{'input': 'Hello doctor,I had mumps five months ago and after that, I started to have an infection in my left testes. It was swollen and now it has shrunk to almost half the size of the other one. As I am sexually active, I feel a pain in each of the vas deferens after sex. If I do not have sex for days, they become sensitive. I was treated with Ceftum 500 mg, the first time I had an infection. Now my question is, is there any chance that the infection is still in my body? And, do I need to get examined for it? For the time being, please suggest some precautionary antibiotics for my relief.',\n",
       " 'answer_icliniq': 'Hello, Welcome to Chat Doctor forum. I can understand your concern. You had mumps and this is a viral infection known to cause an inflammation of the testis in some cases. Take care. For more information consult a sexologist online',\n",
       " 'answer_chatgpt': \"It is possible that you still have an infection in your testes, especially if you have been experiencing pain and sensitivity in your vas deferens. It is recommended that you consult with a doctor or urologist for an examination and further testing to determine if there is an ongoing infection.\\\\n\\\\nAs an AI language model, I cannot prescribe medications or antibiotics. However, taking antibiotics without a doctor's prescription is not recommended. It is important to consult with a healthcare professional for proper diagnosis and treatment.\",\n",
       " 'answer_chatdoctor': '1) There is no need to worry about reinfection as the infection caused by Mumps virus does not persist in the body and is completely cleared up by the immune system.2) The swelling at your scrotum is due to inflammation of epididymis or vas deferens which is a result of mumps infection.3) There is no need to take antibiotics for this problem. You can take anti-inflammatory medicines like Ibuprofen for symptomatic relief.4) Doing cool compresses over the scrotal area will help in reducing the inflammation and pain.'}"
      ]
     },
     "execution_count": 166,
     "metadata": {},
     "output_type": "execute_result"
    }
   ],
   "source": [
    "ds['test'][0]"
   ]
  },
  {
   "cell_type": "code",
   "execution_count": 167,
   "metadata": {},
   "outputs": [
    {
     "data": {
      "text/plain": [
       "{'input': 'Hello doctor,I am trying to conceive but my husband and I did cocaine a week ago. How long should my husband and I wait to safely continue to try to get pregnant? How long until it is out of our system? How long does cocaine stay in sperm? Thanks in advance.',\n",
       " 'answer_icliniq': 'Hello, Wellcome to ChatDoctor. There are few researches/studies on cocaine use by males and its effect on pregnancy. Few suggest that cocaine by itself has limited effects as most of the time it is taken along with other  ChatDoctor.  So, most of the people take not just cocaine but a combination of',\n",
       " 'answer_chatgpt': 'Hello! Thank you for reaching out.\\\\n\\\\nCocaine use can have negative effects on fertility and pregnancy. Both you and your husband should wait until the drug has completely cleared from your systems before trying to conceive. \\\\n\\\\nCocaine and its metabolites can be detected in urine for up to 72 hours after use, but it can take longer for the drug to clear from the system completely. The length of time it takes for cocaine to clear from the system can vary depending on factors such as the amount used, frequency of use, and individual metabolism.\\\\n\\\\nRegarding your question about cocain in sperm, cocaine can be present in seminal fluid up to 48 hours after use. \\\\n\\\\nI would highly recommend seeking medical advice from a healthcare professional who can provide you and your husband with personalized recommendations based on your individual health histories, usage patterns, and a full medical evaluation.',\n",
       " 'answer_chatdoctor': '1) Cocaine use can affect fertility by causing male infertility due to decreased sperm motility and morphology as well as increased abnormal semen parameters (especially pH). However, there is insufficient evidence to suggest that cocaine causes significant changes in female fertility.2) It is not clear how long cocaine remains in semen or blood after use. Therefore, it is difficult to say exactly when it will be completely gone from your husbands body.3) There is no data regarding the amount of time that couples need to abstain from sexual activity before attempting conception.4) In conclusion, if you want to become pregnant, then you should avoid coke for at least three months before trying to conceive. Hope this helps'}"
      ]
     },
     "execution_count": 167,
     "metadata": {},
     "output_type": "execute_result"
    }
   ],
   "source": [
    "ds['test'][1]"
   ]
  }
 ],
 "metadata": {
  "kernelspec": {
   "display_name": "Python 3",
   "language": "python",
   "name": "python3"
  },
  "language_info": {
   "codemirror_mode": {
    "name": "ipython",
    "version": 3
   },
   "file_extension": ".py",
   "mimetype": "text/x-python",
   "name": "python",
   "nbconvert_exporter": "python",
   "pygments_lexer": "ipython3",
   "version": "3.11.0"
  }
 },
 "nbformat": 4,
 "nbformat_minor": 2
}
