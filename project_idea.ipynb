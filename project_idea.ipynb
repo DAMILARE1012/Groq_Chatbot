{
 "cells": [
  {
   "cell_type": "code",
   "execution_count": 2,
   "metadata": {},
   "outputs": [
    {
     "name": "stdout",
     "output_type": "stream",
     "text": [
      "Dataset URL: https://www.kaggle.com/datasets/jithinanievarghese/drugs-side-effects-and-medical-condition\n",
      "License(s): CC0-1.0\n",
      "Downloading drugs-side-effects-and-medical-condition.zip to c:\\Users\\Damilare\\Desktop\\AIMS_Chatbot Workshop\n",
      "\n"
     ]
    },
    {
     "name": "stderr",
     "output_type": "stream",
     "text": [
      "\n",
      "  0%|          | 0.00/1.17M [00:00<?, ?B/s]\n",
      " 85%|████████▌ | 1.00M/1.17M [00:01<00:00, 738kB/s]\n",
      "100%|██████████| 1.17M/1.17M [00:01<00:00, 828kB/s]\n"
     ]
    }
   ],
   "source": [
    "#!/bin/bash\n",
    "!kaggle datasets download jithinanievarghese/drugs-side-effects-and-medical-condition"
   ]
  },
  {
   "cell_type": "code",
   "execution_count": 3,
   "metadata": {},
   "outputs": [
    {
     "name": "stdout",
     "output_type": "stream",
     "text": [
      "Extraction complete\n"
     ]
    }
   ],
   "source": [
    "import zipfile\n",
    "\n",
    "zip_file_path = \"./drugs-side-effects-and-medical-condition.zip\"\n",
    "extract_to_path = \"./\"\n",
    "\n",
    "with zipfile.ZipFile(zip_file_path, 'r') as zip_ref:\n",
    "    zip_ref.extractall(extract_to_path)\n",
    "    \n",
    "print(\"Extraction complete\")"
   ]
  },
  {
   "cell_type": "code",
   "execution_count": 6,
   "metadata": {},
   "outputs": [],
   "source": [
    "# Important libraries\n",
    "from dotenv import load_dotenv\n",
    "import os\n",
    "import pandas as pd\n",
    "from langchain_groq import ChatGroq\n",
    "\n",
    "# Langchain \n",
    "from langchain.prompts import ChatPromptTemplate, PromptTemplate\n",
    "from langchain.output_parsers import ResponseSchema, StructuredOutputParser"
   ]
  },
  {
   "cell_type": "code",
   "execution_count": 7,
   "metadata": {},
   "outputs": [],
   "source": [
    "# Initialize the model\n",
    "llm_model = ChatGroq(model=\"llama-3.3-70b-versatile\", api_key=os.environ.get(\"GROQ_API_KEY\"))"
   ]
  },
  {
   "cell_type": "code",
   "execution_count": 16,
   "metadata": {},
   "outputs": [
    {
     "data": {
      "text/html": [
       "<div>\n",
       "<style scoped>\n",
       "    .dataframe tbody tr th:only-of-type {\n",
       "        vertical-align: middle;\n",
       "    }\n",
       "\n",
       "    .dataframe tbody tr th {\n",
       "        vertical-align: top;\n",
       "    }\n",
       "\n",
       "    .dataframe thead th {\n",
       "        text-align: right;\n",
       "    }\n",
       "</style>\n",
       "<table border=\"1\" class=\"dataframe\">\n",
       "  <thead>\n",
       "    <tr style=\"text-align: right;\">\n",
       "      <th></th>\n",
       "      <th>drug_name</th>\n",
       "      <th>medical_condition</th>\n",
       "      <th>side_effects</th>\n",
       "      <th>generic_name</th>\n",
       "      <th>drug_classes</th>\n",
       "      <th>brand_names</th>\n",
       "      <th>activity</th>\n",
       "      <th>rx_otc</th>\n",
       "      <th>pregnancy_category</th>\n",
       "      <th>csa</th>\n",
       "      <th>alcohol</th>\n",
       "      <th>related_drugs</th>\n",
       "      <th>medical_condition_description</th>\n",
       "      <th>rating</th>\n",
       "      <th>no_of_reviews</th>\n",
       "      <th>drug_link</th>\n",
       "      <th>medical_condition_url</th>\n",
       "    </tr>\n",
       "  </thead>\n",
       "  <tbody>\n",
       "    <tr>\n",
       "      <th>0</th>\n",
       "      <td>doxycycline</td>\n",
       "      <td>Acne</td>\n",
       "      <td>(hives, difficult breathing, swelling in your ...</td>\n",
       "      <td>doxycycline</td>\n",
       "      <td>Miscellaneous antimalarials, Tetracyclines</td>\n",
       "      <td>Acticlate, Adoxa CK, Adoxa Pak, Adoxa TT, Alod...</td>\n",
       "      <td>87%</td>\n",
       "      <td>Rx</td>\n",
       "      <td>D</td>\n",
       "      <td>N</td>\n",
       "      <td>X</td>\n",
       "      <td>amoxicillin: https://www.drugs.com/amoxicillin...</td>\n",
       "      <td>Acne Other names: Acne Vulgaris; Blackheads; B...</td>\n",
       "      <td>6.8</td>\n",
       "      <td>760.0</td>\n",
       "      <td>https://www.drugs.com/doxycycline.html</td>\n",
       "      <td>https://www.drugs.com/condition/acne.html</td>\n",
       "    </tr>\n",
       "    <tr>\n",
       "      <th>1</th>\n",
       "      <td>spironolactone</td>\n",
       "      <td>Acne</td>\n",
       "      <td>hives ; difficulty breathing; swelling of your...</td>\n",
       "      <td>spironolactone</td>\n",
       "      <td>Aldosterone receptor antagonists, Potassium-sp...</td>\n",
       "      <td>Aldactone, CaroSpir</td>\n",
       "      <td>82%</td>\n",
       "      <td>Rx</td>\n",
       "      <td>C</td>\n",
       "      <td>N</td>\n",
       "      <td>X</td>\n",
       "      <td>amlodipine: https://www.drugs.com/amlodipine.h...</td>\n",
       "      <td>Acne Other names: Acne Vulgaris; Blackheads; B...</td>\n",
       "      <td>7.2</td>\n",
       "      <td>449.0</td>\n",
       "      <td>https://www.drugs.com/spironolactone.html</td>\n",
       "      <td>https://www.drugs.com/condition/acne.html</td>\n",
       "    </tr>\n",
       "  </tbody>\n",
       "</table>\n",
       "</div>"
      ],
      "text/plain": [
       "        drug_name medical_condition  \\\n",
       "0     doxycycline              Acne   \n",
       "1  spironolactone              Acne   \n",
       "\n",
       "                                        side_effects    generic_name  \\\n",
       "0  (hives, difficult breathing, swelling in your ...     doxycycline   \n",
       "1  hives ; difficulty breathing; swelling of your...  spironolactone   \n",
       "\n",
       "                                        drug_classes  \\\n",
       "0         Miscellaneous antimalarials, Tetracyclines   \n",
       "1  Aldosterone receptor antagonists, Potassium-sp...   \n",
       "\n",
       "                                         brand_names activity rx_otc  \\\n",
       "0  Acticlate, Adoxa CK, Adoxa Pak, Adoxa TT, Alod...      87%     Rx   \n",
       "1                                Aldactone, CaroSpir      82%     Rx   \n",
       "\n",
       "  pregnancy_category csa alcohol  \\\n",
       "0                  D   N       X   \n",
       "1                  C   N       X   \n",
       "\n",
       "                                       related_drugs  \\\n",
       "0  amoxicillin: https://www.drugs.com/amoxicillin...   \n",
       "1  amlodipine: https://www.drugs.com/amlodipine.h...   \n",
       "\n",
       "                       medical_condition_description  rating  no_of_reviews  \\\n",
       "0  Acne Other names: Acne Vulgaris; Blackheads; B...     6.8          760.0   \n",
       "1  Acne Other names: Acne Vulgaris; Blackheads; B...     7.2          449.0   \n",
       "\n",
       "                                   drug_link  \\\n",
       "0     https://www.drugs.com/doxycycline.html   \n",
       "1  https://www.drugs.com/spironolactone.html   \n",
       "\n",
       "                       medical_condition_url  \n",
       "0  https://www.drugs.com/condition/acne.html  \n",
       "1  https://www.drugs.com/condition/acne.html  "
      ]
     },
     "execution_count": 16,
     "metadata": {},
     "output_type": "execute_result"
    }
   ],
   "source": [
    "context = pd.read_csv(\"./drugs_side_effects_drugs_com.csv\")\n",
    "context.head(2)"
   ]
  },
  {
   "cell_type": "code",
   "execution_count": 12,
   "metadata": {},
   "outputs": [],
   "source": [
    "response_schemas = [\n",
    "    ResponseSchema(name=\"Question\", description=\"The generated question from the provided context\"),\n",
    "    ResponseSchema(name=\"Answer\", description=\"The corresponding answer from the provided context\")\n",
    "]\n",
    "\n",
    "output_parser = StructuredOutputParser.from_response_schemas(response_schemas)\n",
    "format_instructions = output_parser.get_format_instructions(only_json=True)"
   ]
  },
  {
   "cell_type": "code",
   "execution_count": 16,
   "metadata": {},
   "outputs": [],
   "source": [
    "TEMPLATE = \"\"\" You are a helpful agent. Your task is to generate about 50 different or multiple meaningful questions with their corresponding answers using the following provided \"{context}\" \\n\\n\n",
    "\"You MUST obey the following criteria:\\n\"\n",
    "\"- Only focus on different drugs and their side-effects. \\n\"\n",
    "\"- No pre-amble.\\n\"\n",
    "\"- Restrict the question to the context information provided.\\n\"\n",
    "\"- Do NOT create a question that cannot be answered from the context.\\n\"\n",
    "\"- Phrase the question so that it does NOT refer to specific context.\\n\"\n",
    "\"- For instance, do NOT use phrases like 'given the provided context' or 'in this work' in the question or 'according to the text' in the answer becuse if the question is asked elsewher it would not be provided specific context. Replace these terms with specific details.\\n\"\n",
    "\"- Please do NOT repeat the provided context.\\n\"\n",
    "\"- Please follow JSON recommended format below.\\n\"\n",
    "\"- Please ensure that the ouput is a valid JSON object.\\n\"\n",
    "\"{format_instructions}\"\"\"\n",
    "\n",
    "prompt = ChatPromptTemplate.from_template(template=TEMPLATE)\n"
   ]
  },
  {
   "cell_type": "code",
   "execution_count": 24,
   "metadata": {},
   "outputs": [
    {
     "data": {
      "text/plain": [
       "AIMessage(content='```json\\n{\\n  \"Question\": \"What are the possible side effects of a drug used to treat Acne?\",\\n  \"Answer\": \"Possible side effects include hives, difficulty breathing, swelling of the face, lips, tongue, or throat.\"\\n}\\n\\n{\\n  \"Question\": \"What is a common side effect of a weight loss medication?\",\\n  \"Answer\": \"A common side effect is difficulty breathing.\"\\n}\\n\\n{\\n  \"Question\": \"What are the potential side effects of a tetracycline antibiotic?\",\\n  \"Answer\": \"Potential side effects include skin rash, fever, swollen glands, and flu-like symptoms.\"\\n}\\n\\n{\\n  \"Question\": \"Can a medication used to treat Acne cause vision or hearing problems?\",\\n  \"Answer\": \"Yes, some medications used to treat Acne can cause problems with vision or hearing.\"\\n}\\n\\n{\\n  \"Question\": \"What are the possible side effects of a medication that belongs to the class of Anorexiants?\",\\n  \"Answer\": \"Possible side effects include hives, difficulty breathing, and swelling of the face, lips, tongue, or throat.\"\\n}\\n\\n{\\n  \"Question\": \"Can a medication used to treat Weight Loss cause serious side effects?\",\\n  \"Answer\": \"Yes, some medications used to treat Weight Loss can cause serious side effects, including hives and difficulty breathing.\"\\n}\\n\\n{\\n  \"Question\": \"What is a potential side effect of a medication that is a CNS stimulant?\",\\n  \"Answer\": \"A potential side effect is difficulty breathing.\"\\n}\\n\\n{\\n  \"Question\": \"Can a medication used to treat Acne cause muscle pain?\",\\n  \"Answer\": \"Yes, some medications used to treat Acne can cause muscle pain.\"\\n}\\n\\n{\\n  \"Question\": \"What are the possible side effects of a medication that belongs to the class of Melanocortin receptor agonists?\",\\n  \"Answer\": \"Possible side effects include serious side effects, such as those that affect the face, lips, tongue, or throat.\"\\n}\\n\\n{\\n  \"Question\": \"Can a medication used to treat Weight Loss cause swelling of the face, lips, tongue, or throat?\",\\n  \"Answer\": \"Yes, some medications used to treat Weight Loss can cause swelling of the face, lips, tongue, or throat.\"\\n}\\n\\n{\\n  \"Question\": \"What are the potential side effects of a medication that is an Aldosterone receptor antagonist?\",\\n  \"Answer\": \"Potential side effects include hives, difficulty breathing, and swelling of the face, lips, tongue, or throat.\"\\n}\\n\\n{\\n  \"Question\": \"Can a medication used to treat Acne cause flu-like symptoms?\",\\n  \"Answer\": \"Yes, some medications used to treat Acne can cause flu-like symptoms.\"\\n}\\n\\n{\\n  \"Question\": \"What is a potential side effect of a medication that is a Topical acne agent?\",\\n  \"Answer\": \"A potential side effect is hives.\"\\n}\\n\\n{\\n  \"Question\": \"Can a medication used to treat Weight Loss cause hives?\",\\n  \"Answer\": \"Yes, some medications used to treat Weight Loss can cause hives.\"\\n}\\n\\n{\\n  \"Question\": \"What are the possible side effects of a medication that belongs to the class of Miscellaneous antimalarials?\",\\n  \"Answer\": \"Possible side effects include hives, difficulty breathing, and swelling of the face, lips, tongue, or throat.\"\\n}\\n\\n{\\n  \"Question\": \"Can a medication used to treat Acne cause swollen glands?\",\\n  \"Answer\": \"Yes, some medications used to treat Acne can cause swollen glands.\"\\n}\\n\\n{\\n  \"Question\": \"What are the potential side effects of a medication that is a Vaginal anti-infective?\",\\n  \"Answer\": \"Potential side effects include hives, difficulty breathing, and swelling of the face, lips, tongue, or throat.\"\\n}\\n\\n{\\n  \"Question\": \"Can a medication used to treat Weight Loss cause skin rash?\",\\n  \"Answer\": \"Yes, some medications used to treat Weight Loss can cause skin rash.\"\\n}\\n\\n{\\n  \"Question\": \"What is a potential side effect of a medication that belongs to the class of Anorexiants and CNS stimulants?\",\\n  \"Answer\": \"A potential side effect is difficulty breathing.\"\\n}\\n\\n{\\n  \"Question\": \"Can a medication used to treat Acne cause fever?\",\\n  \"Answer\": \"Yes, some medications used to treat Acne can cause fever.\"\\n}\\n\\n{\\n  \"Question\": \"What are the possible side effects of a medication that is a Melanocortin receptor agonist?\",\\n  \"Answer\": \"Possible side effects include serious side effects, such as those that affect the face, lips, tongue, or throat.\"\\n}\\n\\n{\\n  \"Question\": \"Can a medication used to treat Weight Loss cause serious side effects that affect the face, lips, tongue, or throat?\",\\n  \"Answer\": \"Yes, some medications used to treat Weight Loss can cause serious side effects that affect the face, lips, tongue, or throat.\"\\n}\\n```', additional_kwargs={}, response_metadata={'token_usage': {'completion_tokens': 1016, 'prompt_tokens': 1853, 'total_tokens': 2869, 'completion_time': 3.694545455, 'prompt_time': 0.255125064, 'queue_time': 0.27846072899999996, 'total_time': 3.949670519}, 'model_name': 'llama-3.3-70b-versatile', 'system_fingerprint': 'fp_4e32347616', 'finish_reason': 'stop', 'logprobs': None}, id='run-ae10c2d9-587d-4341-92fb-300bc44ae4c6-0', usage_metadata={'input_tokens': 1853, 'output_tokens': 1016, 'total_tokens': 2869})"
      ]
     },
     "execution_count": 24,
     "metadata": {},
     "output_type": "execute_result"
    }
   ],
   "source": [
    "messages = prompt.format_messages(context=context, format_instructions=format_instructions)\n",
    "response = llm_model.invoke(messages)\n",
    "response"
   ]
  },
  {
   "cell_type": "code",
   "execution_count": 25,
   "metadata": {},
   "outputs": [
    {
     "data": {
      "text/plain": [
       "'```json\\n{\\n  \"Question\": \"What are the possible side effects of a drug used to treat Acne?\",\\n  \"Answer\": \"Possible side effects include hives, difficulty breathing, swelling of the face, lips, tongue, or throat.\"\\n}\\n\\n{\\n  \"Question\": \"What is a common side effect of a weight loss medication?\",\\n  \"Answer\": \"A common side effect is difficulty breathing.\"\\n}\\n\\n{\\n  \"Question\": \"What are the potential side effects of a tetracycline antibiotic?\",\\n  \"Answer\": \"Potential side effects include skin rash, fever, swollen glands, and flu-like symptoms.\"\\n}\\n\\n{\\n  \"Question\": \"Can a medication used to treat Acne cause vision or hearing problems?\",\\n  \"Answer\": \"Yes, some medications used to treat Acne can cause problems with vision or hearing.\"\\n}\\n\\n{\\n  \"Question\": \"What are the possible side effects of a medication that belongs to the class of Anorexiants?\",\\n  \"Answer\": \"Possible side effects include hives, difficulty breathing, and swelling of the face, lips, tongue, or throat.\"\\n}\\n\\n{\\n  \"Question\": \"Can a medication used to treat Weight Loss cause serious side effects?\",\\n  \"Answer\": \"Yes, some medications used to treat Weight Loss can cause serious side effects, including hives and difficulty breathing.\"\\n}\\n\\n{\\n  \"Question\": \"What is a potential side effect of a medication that is a CNS stimulant?\",\\n  \"Answer\": \"A potential side effect is difficulty breathing.\"\\n}\\n\\n{\\n  \"Question\": \"Can a medication used to treat Acne cause muscle pain?\",\\n  \"Answer\": \"Yes, some medications used to treat Acne can cause muscle pain.\"\\n}\\n\\n{\\n  \"Question\": \"What are the possible side effects of a medication that belongs to the class of Melanocortin receptor agonists?\",\\n  \"Answer\": \"Possible side effects include serious side effects, such as those that affect the face, lips, tongue, or throat.\"\\n}\\n\\n{\\n  \"Question\": \"Can a medication used to treat Weight Loss cause swelling of the face, lips, tongue, or throat?\",\\n  \"Answer\": \"Yes, some medications used to treat Weight Loss can cause swelling of the face, lips, tongue, or throat.\"\\n}\\n\\n{\\n  \"Question\": \"What are the potential side effects of a medication that is an Aldosterone receptor antagonist?\",\\n  \"Answer\": \"Potential side effects include hives, difficulty breathing, and swelling of the face, lips, tongue, or throat.\"\\n}\\n\\n{\\n  \"Question\": \"Can a medication used to treat Acne cause flu-like symptoms?\",\\n  \"Answer\": \"Yes, some medications used to treat Acne can cause flu-like symptoms.\"\\n}\\n\\n{\\n  \"Question\": \"What is a potential side effect of a medication that is a Topical acne agent?\",\\n  \"Answer\": \"A potential side effect is hives.\"\\n}\\n\\n{\\n  \"Question\": \"Can a medication used to treat Weight Loss cause hives?\",\\n  \"Answer\": \"Yes, some medications used to treat Weight Loss can cause hives.\"\\n}\\n\\n{\\n  \"Question\": \"What are the possible side effects of a medication that belongs to the class of Miscellaneous antimalarials?\",\\n  \"Answer\": \"Possible side effects include hives, difficulty breathing, and swelling of the face, lips, tongue, or throat.\"\\n}\\n\\n{\\n  \"Question\": \"Can a medication used to treat Acne cause swollen glands?\",\\n  \"Answer\": \"Yes, some medications used to treat Acne can cause swollen glands.\"\\n}\\n\\n{\\n  \"Question\": \"What are the potential side effects of a medication that is a Vaginal anti-infective?\",\\n  \"Answer\": \"Potential side effects include hives, difficulty breathing, and swelling of the face, lips, tongue, or throat.\"\\n}\\n\\n{\\n  \"Question\": \"Can a medication used to treat Weight Loss cause skin rash?\",\\n  \"Answer\": \"Yes, some medications used to treat Weight Loss can cause skin rash.\"\\n}\\n\\n{\\n  \"Question\": \"What is a potential side effect of a medication that belongs to the class of Anorexiants and CNS stimulants?\",\\n  \"Answer\": \"A potential side effect is difficulty breathing.\"\\n}\\n\\n{\\n  \"Question\": \"Can a medication used to treat Acne cause fever?\",\\n  \"Answer\": \"Yes, some medications used to treat Acne can cause fever.\"\\n}\\n\\n{\\n  \"Question\": \"What are the possible side effects of a medication that is a Melanocortin receptor agonist?\",\\n  \"Answer\": \"Possible side effects include serious side effects, such as those that affect the face, lips, tongue, or throat.\"\\n}\\n\\n{\\n  \"Question\": \"Can a medication used to treat Weight Loss cause serious side effects that affect the face, lips, tongue, or throat?\",\\n  \"Answer\": \"Yes, some medications used to treat Weight Loss can cause serious side effects that affect the face, lips, tongue, or throat.\"\\n}\\n```'"
      ]
     },
     "execution_count": 25,
     "metadata": {},
     "output_type": "execute_result"
    }
   ],
   "source": [
    "response_out = response.content\n",
    "response_out"
   ]
  },
  {
   "cell_type": "code",
   "execution_count": 27,
   "metadata": {},
   "outputs": [
    {
     "name": "stdout",
     "output_type": "stream",
     "text": [
      "{\n",
      "  \"Question\": \"What are the possible side effects of a drug used to treat Acne?\",\n",
      "  \"Answer\": \"Possible side effects include hives, difficulty breathing, swelling of the face, lips, tongue, or throat.\"\n",
      "}\n",
      "\n",
      "{\n",
      "  \"Question\": \"What is a common side effect of a weight loss medication?\",\n",
      "  \"Answer\": \"A common side effect is difficulty breathing.\"\n",
      "}\n",
      "\n",
      "{\n",
      "  \"Question\": \"What are the potential side effects of a tetracycline antibiotic?\",\n",
      "  \"Answer\": \"Potential side effects include skin rash, fever, swollen glands, and flu-like symptoms.\"\n",
      "}\n",
      "\n",
      "{\n",
      "  \"Question\": \"Can a medication used to treat Acne cause vision or hearing problems?\",\n",
      "  \"Answer\": \"Yes, some medications used to treat Acne can cause problems with vision or hearing.\"\n",
      "}\n",
      "\n",
      "{\n",
      "  \"Question\": \"What are the possible side effects of a medication that belongs to the class of Anorexiants?\",\n",
      "  \"Answer\": \"Possible side effects include hives, difficulty breathing, and swelling of the face, lips, tongue, or throat.\"\n",
      "}\n",
      "\n",
      "{\n",
      "  \"Question\": \"Can a medication used to treat Weight Loss cause serious side effects?\",\n",
      "  \"Answer\": \"Yes, some medications used to treat Weight Loss can cause serious side effects, including hives and difficulty breathing.\"\n",
      "}\n",
      "\n",
      "{\n",
      "  \"Question\": \"What is a potential side effect of a medication that is a CNS stimulant?\",\n",
      "  \"Answer\": \"A potential side effect is difficulty breathing.\"\n",
      "}\n",
      "\n",
      "{\n",
      "  \"Question\": \"Can a medication used to treat Acne cause muscle pain?\",\n",
      "  \"Answer\": \"Yes, some medications used to treat Acne can cause muscle pain.\"\n",
      "}\n",
      "\n",
      "{\n",
      "  \"Question\": \"What are the possible side effects of a medication that belongs to the class of Melanocortin receptor agonists?\",\n",
      "  \"Answer\": \"Possible side effects include serious side effects, such as those that affect the face, lips, tongue, or throat.\"\n",
      "}\n",
      "\n",
      "{\n",
      "  \"Question\": \"Can a medication used to treat Weight Loss cause swelling of the face, lips, tongue, or throat?\",\n",
      "  \"Answer\": \"Yes, some medications used to treat Weight Loss can cause swelling of the face, lips, tongue, or throat.\"\n",
      "}\n",
      "\n",
      "{\n",
      "  \"Question\": \"What are the potential side effects of a medication that is an Aldosterone receptor antagonist?\",\n",
      "  \"Answer\": \"Potential side effects include hives, difficulty breathing, and swelling of the face, lips, tongue, or throat.\"\n",
      "}\n",
      "\n",
      "{\n",
      "  \"Question\": \"Can a medication used to treat Acne cause flu-like symptoms?\",\n",
      "  \"Answer\": \"Yes, some medications used to treat Acne can cause flu-like symptoms.\"\n",
      "}\n",
      "\n",
      "{\n",
      "  \"Question\": \"What is a potential side effect of a medication that is a Topical acne agent?\",\n",
      "  \"Answer\": \"A potential side effect is hives.\"\n",
      "}\n",
      "\n",
      "{\n",
      "  \"Question\": \"Can a medication used to treat Weight Loss cause hives?\",\n",
      "  \"Answer\": \"Yes, some medications used to treat Weight Loss can cause hives.\"\n",
      "}\n",
      "\n",
      "{\n",
      "  \"Question\": \"What are the possible side effects of a medication that belongs to the class of Miscellaneous antimalarials?\",\n",
      "  \"Answer\": \"Possible side effects include hives, difficulty breathing, and swelling of the face, lips, tongue, or throat.\"\n",
      "}\n",
      "\n",
      "{\n",
      "  \"Question\": \"Can a medication used to treat Acne cause swollen glands?\",\n",
      "  \"Answer\": \"Yes, some medications used to treat Acne can cause swollen glands.\"\n",
      "}\n",
      "\n",
      "{\n",
      "  \"Question\": \"What are the potential side effects of a medication that is a Vaginal anti-infective?\",\n",
      "  \"Answer\": \"Potential side effects include hives, difficulty breathing, and swelling of the face, lips, tongue, or throat.\"\n",
      "}\n",
      "\n",
      "{\n",
      "  \"Question\": \"Can a medication used to treat Weight Loss cause skin rash?\",\n",
      "  \"Answer\": \"Yes, some medications used to treat Weight Loss can cause skin rash.\"\n",
      "}\n",
      "\n",
      "{\n",
      "  \"Question\": \"What is a potential side effect of a medication that belongs to the class of Anorexiants and CNS stimulants?\",\n",
      "  \"Answer\": \"A potential side effect is difficulty breathing.\"\n",
      "}\n",
      "\n",
      "{\n",
      "  \"Question\": \"Can a medication used to treat Acne cause fever?\",\n",
      "  \"Answer\": \"Yes, some medications used to treat Acne can cause fever.\"\n",
      "}\n",
      "\n",
      "{\n",
      "  \"Question\": \"What are the possible side effects of a medication that is a Melanocortin receptor agonist?\",\n",
      "  \"Answer\": \"Possible side effects include serious side effects, such as those that affect the face, lips, tongue, or throat.\"\n",
      "}\n",
      "\n",
      "{\n",
      "  \"Question\": \"Can a medication used to treat Weight Loss cause serious side effects that affect the face, lips, tongue, or throat?\",\n",
      "  \"Answer\": \"Yes, some medications used to treat Weight Loss can cause serious side effects that affect the face, lips, tongue, or throat.\"\n",
      "}\n"
     ]
    }
   ],
   "source": [
    "\n",
    "import json\n",
    "\n",
    "# Extract the content from the AIMessage object\n",
    "response_content = response.content\n",
    "\n",
    "# Remove the Markdown code block markers (```json and ```)\n",
    "if response_content.startswith('```json') and response_content.endswith('```'):\n",
    "    response_content = response_content[7:-3].strip()  # Remove ```json and ```\n",
    "    \n",
    "print(response_content)\n"
   ]
  },
  {
   "cell_type": "code",
   "execution_count": 49,
   "metadata": {},
   "outputs": [
    {
     "name": "stdout",
     "output_type": "stream",
     "text": [
      "Formatted JSON content saved to formatted_response_content.json\n"
     ]
    }
   ],
   "source": [
    "import json\n",
    "\n",
    "# Extract the content from the AIMessage object\n",
    "response_content = response.content\n",
    "\n",
    "# Remove the Markdown code block markers (```json and ```)\n",
    "if response_content.startswith('```json') and response_content.endswith('```'):\n",
    "    response_content = response_content[7:-3].strip()  # Remove ```json and ```\n",
    "\n",
    "# Split the content into individual JSON objects\n",
    "json_objects = response_content.split('\\n\\n')\n",
    "\n",
    "# Parse and format each JSON object\n",
    "formatted_content = []\n",
    "for obj in json_objects:\n",
    "    try:\n",
    "        parsed_obj = json.loads(obj)\n",
    "        formatted_item = {\n",
    "            \"Question\": parsed_obj.get(\"Question\", \"\"),\n",
    "            \"Answer\": parsed_obj.get(\"Answer\", \"\")\n",
    "        }\n",
    "        formatted_content.append(formatted_item)\n",
    "    except json.JSONDecodeError as e:\n",
    "        print(f\"Error parsing JSON object: {e}\")\n",
    "\n",
    "# Save the formatted JSON data to a file\n",
    "with open('formatted_response_content.json', 'w') as json_file:\n",
    "    json.dump(formatted_content, json_file, indent=4)\n",
    "\n",
    "print(\"Formatted JSON content saved to formatted_response_content.json\")"
   ]
  },
  {
   "cell_type": "code",
   "execution_count": 58,
   "metadata": {},
   "outputs": [],
   "source": [
    "import json\n",
    "\n",
    "# Read the JSON file\n",
    "with open('formatted_response_content.json', 'r') as json_file:\n",
    "    data = json.load(json_file)\n",
    "\n",
    "# Extract only the questions\n",
    "questions = [item['Question'] for item in data if 'Question' in item]\n",
    "\n",
    "qu_ans_list = []\n",
    "\n",
    "\n",
    "# Print the extracted questions\n",
    "for question in questions:\n",
    "    llm_answer = llm_model.invoke(question).content\n",
    "    qu_ans_pair = {}\n",
    "    qu_ans_pair[\"Question\"] = question\n",
    "    qu_ans_pair[\"Answer\"] = llm_answer\n",
    "    qu_ans_list.append(qu_ans_pair)\n",
    "    "
   ]
  },
  {
   "cell_type": "code",
   "execution_count": 61,
   "metadata": {},
   "outputs": [],
   "source": [
    "# Save the formatted JSON data to a file\n",
    "with open('llm_formatted_response_content.json', 'w') as json_file:\n",
    "    json.dump(qu_ans_list, json_file, indent=4)"
   ]
  },
  {
   "cell_type": "markdown",
   "metadata": {},
   "source": [
    "#### Evaluation"
   ]
  },
  {
   "cell_type": "code",
   "execution_count": 64,
   "metadata": {},
   "outputs": [],
   "source": [
    "import sacrebleu\n",
    "from rouge_score import rouge_scorer"
   ]
  },
  {
   "cell_type": "code",
   "execution_count": 74,
   "metadata": {},
   "outputs": [
    {
     "name": "stdout",
     "output_type": "stream",
     "text": [
      "['Possible side effects include hives, difficulty breathing, swelling of the face, lips, tongue, or throat.', 'A common side effect is difficulty breathing.', 'Potential side effects include skin rash, fever, swollen glands, and flu-like symptoms.', 'Yes, some medications used to treat Acne can cause problems with vision or hearing.', 'Possible side effects include hives, difficulty breathing, and swelling of the face, lips, tongue, or throat.', 'Yes, some medications used to treat Weight Loss can cause serious side effects, including hives and difficulty breathing.', 'A potential side effect is difficulty breathing.', 'Yes, some medications used to treat Acne can cause muscle pain.', 'Possible side effects include serious side effects, such as those that affect the face, lips, tongue, or throat.', 'Yes, some medications used to treat Weight Loss can cause swelling of the face, lips, tongue, or throat.', 'Potential side effects include hives, difficulty breathing, and swelling of the face, lips, tongue, or throat.', 'Yes, some medications used to treat Acne can cause flu-like symptoms.', 'A potential side effect is hives.', 'Yes, some medications used to treat Weight Loss can cause hives.', 'Possible side effects include hives, difficulty breathing, and swelling of the face, lips, tongue, or throat.', 'Yes, some medications used to treat Acne can cause swollen glands.', 'Potential side effects include hives, difficulty breathing, and swelling of the face, lips, tongue, or throat.', 'Yes, some medications used to treat Weight Loss can cause skin rash.', 'A potential side effect is difficulty breathing.', 'Yes, some medications used to treat Acne can cause fever.', 'Possible side effects include serious side effects, such as those that affect the face, lips, tongue, or throat.', 'Yes, some medications used to treat Weight Loss can cause serious side effects that affect the face, lips, tongue, or throat.']\n",
      "[\"Drugs used to treat acne can have various side effects, depending on the type of medication, its strength, and individual tolerance. Here are some possible side effects of common acne treatments:\\n\\n**Topical treatments:**\\n\\n1. **Benzoyl peroxide**: dryness, redness, irritation, itching, stinging, and burning.\\n2. **Salicylic acid**: dryness, redness, irritation, and peeling.\\n3. **Retinoids** (e.g., adapalene, tretinoin): redness, irritation, dryness, itching, and sensitivity to the sun.\\n4. **Antibiotics** (e.g., clindamycin, erythromycin): skin irritation, redness, itching, and dryness.\\n\\n**Oral antibiotics:**\\n\\n1. **Doxycycline**: nausea, vomiting, diarrhea, stomach upset, and increased sensitivity to the sun.\\n2. **Minocycline**: dizziness, nausea, vomiting, and stomach upset.\\n3. **Erythromycin**: nausea, vomiting, diarrhea, and stomach upset.\\n\\n**Hormonal treatments:**\\n\\n1. **Birth control pills**: mood changes, breast tenderness, nausea, and weight gain.\\n2. **Spironolactone**: breast tenderness, menstrual irregularities, and fatigue.\\n\\n**Isotretinoin (Accutane):**\\n\\n1. **Dryness**: dry skin, lips, eyes, and nose.\\n2. **Inflammatory bowel disease**: increased risk of inflammatory bowel disease, such as Crohn's disease and ulcerative colitis.\\n3. **Mood changes**: depression, anxiety, and mood swings.\\n4. **Fatigue**: feeling tired and weak.\\n5. **Hair loss**: hair thinning or loss.\\n6. **Muscle and joint pain**: pain and stiffness in muscles and joints.\\n7. **Increased risk of sunburn**: increased sensitivity to the sun.\\n\\n**Other side effects:**\\n\\n1. **Allergic reactions**: rare, but can occur with any medication, causing symptoms such as hives, itching, and difficulty breathing.\\n2. **Photosensitivity**: increased risk of sunburn and skin discoloration.\\n3. **Skin discoloration**: changes in skin pigmentation, such as hyperpigmentation or hypopigmentation.\\n\\nIt's essential to note that not everyone will experience side effects, and the severity of side effects can vary from person to person. If you're concerned about side effects or have questions, consult your doctor or dermatologist. They can help you weigh the benefits and risks of a particular medication and monitor you for any potential side effects.\", \"Common side effects of weight loss medications can vary depending on the specific medication, but some common side effects include:\\n\\n1. Nausea and vomiting\\n2. Diarrhea or constipation\\n3. Headache\\n4. Dizziness or lightheadedness\\n5. Fatigue or tiredness\\n6. Dry mouth\\n7. Increased heart rate or blood pressure\\n8. Insomnia or sleep disturbances\\n9. Anxiety or jitteriness\\n\\nSome weight loss medications can also have more serious side effects, such as:\\n\\n1. Liver damage or increased liver enzymes\\n2. Increased risk of heart attack or stroke\\n3. Pancreatitis or inflammation of the pancreas\\n4. Gallbladder disease\\n5. Suicidal thoughts or behaviors (in rare cases)\\n\\nIt's essential to note that not everyone who takes weight loss medication will experience side effects, and the severity of side effects can vary from person to person. If you're considering taking a weight loss medication, it's crucial to discuss the potential benefits and risks with your healthcare provider and carefully monitor your body's response to the medication.\\n\\nSome examples of weight loss medications and their common side effects include:\\n\\n* Orlistat (Alli, Xenical): gastrointestinal side effects, such as oily stools, diarrhea, and abdominal pain\\n* Phentermine-topiramate (Qsymia): dizziness, insomnia, and constipation\\n* Liraglutide (Saxenda): nausea, vomiting, and diarrhea\\n* Bupropion-naltrexone (Contrave): nausea, headache, and dizziness\\n\\nAlways consult with your healthcare provider before starting any weight loss medication, and report any side effects or concerns to ensure safe and effective treatment.\", \"Tetracycline antibiotics are a class of broad-spectrum antibiotics that can be effective against a wide range of bacterial infections. However, like all medications, they can cause potential side effects. Here are some possible side effects of tetracycline antibiotics:\\n\\n**Common side effects:**\\n\\n1. Nausea and vomiting\\n2. Diarrhea or loose stools\\n3. Abdominal pain or cramps\\n4. Headache\\n5. Dizziness or lightheadedness\\n6. Fatigue or weakness\\n7. Sore mouth or throat\\n8. Increased sensitivity to the sun (photosensitivity)\\n\\n**Less common side effects:**\\n\\n1. Allergic reactions (hives, itching, swelling, or difficulty breathing)\\n2. Yeast infections (vaginal or oral thrush)\\n3. Stomach ulcers or inflammation\\n4. Liver damage or elevated liver enzymes\\n5. Kidney damage or impairment\\n6. Increased risk of Clostridioides difficile (C. diff) infection\\n7. Tooth discoloration (especially in children)\\n8. Inhibition of bone growth (in children and adolescents)\\n\\n**Rare but serious side effects:**\\n\\n1. Anaphylaxis (severe allergic reaction)\\n2. Stevens-Johnson syndrome (a severe skin and mucous membrane disorder)\\n3. Toxic epidermal necrolysis (a life-threatening skin condition)\\n4. Hepatic failure (liver failure)\\n5. Renal failure (kidney failure)\\n6. Pseudotumor cerebri (increased pressure in the brain)\\n7. Blood disorders (e.g., anemia, thrombocytopenia)\\n\\n**Special considerations:**\\n\\n1. Tetracyclines can interact with other medications, such as blood thinners, and decrease their effectiveness.\\n2. They can also increase the risk of sunburn and skin cancer when taken with certain medications or exposed to UV radiation.\\n3. Tetracyclines are generally not recommended during pregnancy or breastfeeding, as they can affect fetal development or infant growth.\\n4. Children under 8 years old should not take tetracyclines, as they can cause permanent tooth discoloration.\\n\\nIt's essential to consult your healthcare provider or pharmacist if you experience any side effects or have concerns about taking a tetracycline antibiotic. They can help you weigh the benefits and risks of treatment and provide guidance on managing potential side effects.\", \"Yes, some medications used to treat acne can potentially cause vision or hearing problems, although this is rare. Here are some examples:\\n\\n**Vision problems:**\\n\\n1. **Isotretinoin (Accutane)**: This oral retinoid is commonly used to treat severe acne. It can cause eye problems such as dry eyes, blurred vision, and increased sensitivity to light. In rare cases, it may also cause more serious eye issues like cataracts, glaucoma, or even permanent vision loss.\\n2. **Tetracyclines (e.g., doxycycline, minocycline)**: These antibiotics are often used to treat acne. They can cause blurred vision, double vision, or sensitivity to light. In rare cases, they may also cause more serious eye problems like papilledema (swelling of the optic disc).\\n3. **Hormonal therapies (e.g., spironolactone)**: These medications can cause changes in vision, including blurred vision or double vision, in some individuals.\\n\\n**Hearing problems:**\\n\\n1. **Minocycline**: This antibiotic has been associated with hearing loss, tinnitus (ringing in the ears), or vertigo (dizziness) in rare cases.\\n2. **Isotretinoin (Accutane)**: Although rare, isotretinoin has been linked to hearing loss, tinnitus, or vertigo in some individuals.\\n3. **Doxycycline**: This antibiotic may cause tinnitus or hearing loss in rare cases.\\n\\n**Important notes:**\\n\\n* These side effects are rare and usually reversible once the medication is stopped.\\n* If you experience any vision or hearing problems while taking acne medication, contact your doctor or dermatologist immediately.\\n* Regular monitoring and follow-up appointments with your doctor can help identify any potential issues early on.\\n* It's essential to weigh the benefits and risks of any medication with your doctor before starting treatment.\\n\\nRemember, it's crucial to discuss any concerns or questions you have with your doctor or dermatologist before starting or continuing any acne treatment. They can help you make informed decisions about your treatment and monitor you for any potential side effects.\", \"Anorexiants, also known as appetite suppressants, are a class of medications that are used to treat obesity and weight loss. The possible side effects of anorexiants can vary depending on the specific medication, dosage, and individual response. Here are some common and potential side effects of anorexiants:\\n\\n**Common side effects:**\\n\\n1. Dry mouth\\n2. Insomnia (difficulty sleeping)\\n3. Anxiety or nervousness\\n4. Restlessness or irritability\\n5. Headache\\n6. Dizziness or lightheadedness\\n7. Nausea or vomiting\\n8. Constipation or diarrhea\\n9. Increased heart rate or blood pressure\\n10. Fatigue or weakness\\n\\n**Less common side effects:**\\n\\n1. Seizures or convulsions\\n2. Hallucinations or psychosis\\n3. Depression or mood changes\\n4. Increased risk of addiction or dependence\\n5. Skin rash or hives\\n6. Hair loss\\n7. Changes in libido (sex drive)\\n8. Menstrual irregularities\\n9. Increased risk of osteoporosis (bone thinning)\\n10. Liver damage or elevated liver enzymes\\n\\n**Rare but serious side effects:**\\n\\n1. Pulmonary hypertension (high blood pressure in the lungs)\\n2. Heart valve problems\\n3. Cardiac arrhythmias (abnormal heart rhythms)\\n4. Stroke or heart attack\\n5. Serotonin syndrome (a life-threatening condition caused by excessive serotonin levels)\\n6. Neuroleptic malignant syndrome (a rare but life-threatening condition caused by certain medications)\\n\\n**Long-term side effects:**\\n\\n1. Dependence or addiction\\n2. Weight gain after stopping the medication\\n3. Metabolic changes, such as decreased insulin sensitivity\\n4. Increased risk of osteoporosis or bone fractures\\n5. Potential increased risk of certain cancers, such as breast or colon cancer\\n\\nIt's essential to note that not all anorexiants are created equal, and the side effect profile may vary depending on the specific medication. Some anorexiants, such as phentermine, have been associated with a higher risk of cardiovascular side effects, while others, such as orlistat, may have a higher risk of gastrointestinal side effects.\\n\\nIf you are taking an anorexiants medication, it's crucial to follow your doctor's instructions, monitor your side effects, and report any concerns to your healthcare provider. Regular check-ups and monitoring can help minimize the risk of side effects and ensure the safe use of these medications.\", \"Yes, medications used to treat weight loss can cause serious side effects. While these medications can be effective in helping people lose weight, they can also have significant risks and potential complications. Here are some examples of serious side effects associated with certain weight loss medications:\\n\\n1. **Orlistat (Alli, Xenical)**: This medication can cause gastrointestinal side effects such as diarrhea, abdominal pain, and bowel movements that are oily or fatty. Rare but serious side effects include liver damage, kidney stones, and pancreatitis.\\n2. **Phentermine (Adipex-P)**: This medication can increase the risk of heart problems, including high blood pressure, heart palpitations, and arrhythmias. It can also cause anxiety, insomnia, and dry mouth.\\n3. **Qsymia (Phentermine-Topiramate)**: This medication can increase the risk of birth defects, particularly cleft lip and palate, if taken during pregnancy. It can also cause suicidal thoughts, depression, and anxiety.\\n4. **Belviq (Lorcaserin)**: This medication can increase the risk of cancer, particularly breast, lung, and prostate cancer. It can also cause suicidal thoughts, depression, and anxiety.\\n5. **Contrave (Bupropion-Naltrexone)**: This medication can increase the risk of suicidal thoughts, depression, and anxiety. It can also cause seizures, high blood pressure, and liver damage.\\n6. **Saxenda (Liraglutide)**: This medication can increase the risk of pancreatitis, thyroid cancer, and kidney damage. It can also cause nausea, vomiting, and diarrhea.\\n7. **Wegovy (Semaglutide)**: This medication can increase the risk of pancreatitis, thyroid cancer, and kidney damage. It can also cause nausea, vomiting, and diarrhea.\\n\\nIt's essential to note that these medications should only be used under the guidance of a healthcare professional and with careful monitoring. Before starting any weight loss medication, it's crucial to discuss the potential risks and benefits with your doctor and to carefully review the medication's label and instructions.\\n\\nTo minimize the risk of serious side effects, it's essential to:\\n\\n* Follow the recommended dosage and usage instructions\\n* Monitor your health closely while taking the medication\\n* Report any side effects or concerns to your doctor promptly\\n* Combine the medication with a healthy diet and regular exercise\\n* Regularly review your medication regimen with your doctor to ensure it's still necessary and effective\\n\\nRemember, weight loss medications should not be used as a substitute for a healthy lifestyle. A balanced diet and regular exercise are essential for achieving and maintaining a healthy weight.\", \"A potential side effect of a medication that is a Central Nervous System (CNS) stimulant is insomnia or difficulty sleeping. CNS stimulants can increase alertness and arousal, making it hard to fall asleep or stay asleep. Other potential side effects of CNS stimulants may include:\\n\\n* Anxiety or jitteriness\\n* Increased heart rate or blood pressure\\n* Nervousness or restlessness\\n* Dry mouth\\n* Loss of appetite\\n* Headaches\\n* Dizziness or lightheadedness\\n\\nIt's essential to consult with a healthcare professional to discuss the potential side effects of a specific medication and to determine the best course of treatment. They can help weigh the benefits and risks of the medication and monitor for any adverse effects.\", \"Yes, some medications used to treat acne can cause muscle pain as a side effect. Here are a few examples:\\n\\n1. **Isotretinoin**: This is a powerful oral retinoid commonly used to treat severe acne. Muscle pain (myalgia) is a known side effect of isotretinoin, especially in the first few weeks of treatment. It's usually mild to moderate, but in rare cases, it can be severe.\\n2. **Tetracyclines**: These are a class of antibiotics used to treat moderate to severe acne. Some people taking tetracyclines, such as doxycycline or minocycline, may experience muscle pain, especially in the legs.\\n3. **Hormonal therapies**: Certain hormonal medications, like spironolactone, can be used to treat acne in women with hormonal imbalances. These medications can sometimes cause muscle pain, particularly in the legs and back.\\n4. **Retinoids**: Topical retinoids, such as adapalene, tretinoin, or tazarotene, can cause muscle pain in some individuals, although this is less common than with oral retinoids like isotretinoin.\\n\\nIt's essential to note that muscle pain can also be a sign of an underlying condition, such as a vitamin D deficiency or a muscle disorder, which may be unrelated to the acne medication.\\n\\nIf you're experiencing muscle pain while taking an acne medication, it's crucial to discuss this with your doctor or dermatologist. They can help determine the cause of the muscle pain and adjust your treatment plan if necessary.\\n\\nIn the meantime, here are some tips to help manage muscle pain:\\n\\n* Stay hydrated by drinking plenty of water.\\n* Engage in gentle exercises, such as yoga or stretching, to help relax your muscles.\\n* Consider taking over-the-counter pain relievers, like acetaminophen or ibuprofen, under the guidance of your doctor.\\n* Get enough rest and prioritize a balanced diet.\\n\\nRemember, it's always better to consult with your healthcare provider if you're experiencing muscle pain or any other side effects while taking an acne medication.\", \"Melanocortin receptor agonists are a class of medications that activate melanocortin receptors, which play a role in various physiological processes, including energy homeostasis, inflammation, and skin pigmentation. The possible side effects of medications belonging to this class can vary depending on the specific medication, dosage, and individual response. Here are some potential side effects associated with melanocortin receptor agonists:\\n\\n1. **Skin darkening**: Melanocortin receptor agonists can stimulate melanin production, leading to skin darkening, which may be desirable in some cases (e.g., for treating vitiligo) but unwanted in others.\\n2. **Nausea and vomiting**: Some melanocortin receptor agonists can cause gastrointestinal side effects, including nausea, vomiting, and diarrhea.\\n3. **Headache**: Headaches are a common side effect of melanocortin receptor agonists, possibly due to the stimulation of melanocortin receptors in the brain.\\n4. **Flushing**: Increased blood flow and vasodilation can cause flushing, which may be accompanied by a feeling of warmth or redness in the skin.\\n5. **Increased heart rate and blood pressure**: Melanocortin receptor agonists can increase heart rate and blood pressure, which may be a concern for individuals with pre-existing cardiovascular conditions.\\n6. **Allergic reactions**: Rarely, melanocortin receptor agonists can cause allergic reactions, including anaphylaxis, which is a severe and potentially life-threatening condition.\\n7. **Cushing's syndrome**: Long-term use of melanocortin receptor agonists can lead to Cushing's syndrome, a condition characterized by excess cortisol production, weight gain, and other symptoms.\\n8. **Adrenal insufficiency**: Melanocortin receptor agonists can also cause adrenal insufficiency, particularly when used at high doses or for extended periods.\\n9. **Mood changes**: Some individuals may experience mood changes, such as anxiety, depression, or irritability, while taking melanocortin receptor agonists.\\n10. ** Injection site reactions**: If administered via injection, melanocortin receptor agonists can cause injection site reactions, including pain, redness, and swelling.\\n11. **Elevated liver enzymes**: Rarely, melanocortin receptor agonists can cause elevations in liver enzymes, which may indicate liver damage or dysfunction.\\n12. **Hypokalemia**: Melanocortin receptor agonists can cause hypokalemia (low potassium levels), which may lead to muscle weakness, fatigue, and other symptoms.\\n\\nIt is essential to note that not all melanocortin receptor agonists are approved for the same indications, and the side effect profile may vary depending on the specific medication and its approved use. If you are taking a medication belonging to this class, it is crucial to discuss potential side effects with your healthcare provider and report any concerns or adverse reactions promptly.\", \"Yes, some medications used to treat weight loss can cause swelling of the face, lips, tongue, or throat, although this is relatively rare. This type of reaction is known as angioedema.\\n\\nSome weight loss medications that may cause angioedema include:\\n\\n1. Orlistat (Alli, Xenical): This medication works by reducing fat absorption in the gut. While rare, orlistat has been associated with cases of angioedema.\\n2. Phentermine (Adipex-P, Suprenza): This is an appetite suppressant that can increase the risk of angioedema, particularly when combined with other medications.\\n3. Liraglutide (Saxenda): This medication is an injectable glucagon-like peptide-1 (GLP-1) receptor agonist used for weight management. Angioedema has been reported as a rare side effect.\\n4. Qsymia (phentermine and topiramate): This combination medication is used for weight loss and has been associated with a higher risk of angioedema compared to phentermine alone.\\n\\nIt's essential to note that angioedema is a rare but potentially life-threatening side effect. If you experience any symptoms such as:\\n\\n* Swelling of the face, lips, tongue, or throat\\n* Difficulty breathing or swallowing\\n* Hoarseness or a change in voice\\n* Rapid heartbeat or palpitations\\n\\nSeek medical attention immediately. If you're taking a weight loss medication and experience any of these symptoms, contact your healthcare provider or go to the emergency room.\\n\\nTo minimize the risk of angioedema, it's crucial to:\\n\\n* Follow the prescribed dosage and instructions\\n* Inform your healthcare provider about any pre-existing medical conditions or allergies\\n* Monitor your body's response to the medication and report any unusual symptoms\\n\\nRemember, it's always better to err on the side of caution when it comes to your health. If you have concerns about a weight loss medication or experience any unusual symptoms, consult your healthcare provider for guidance.\", \"Aldosterone receptor antagonists, also known as mineralocorticoid receptor antagonists, are a class of medications that block the action of aldosterone, a hormone involved in regulating electrolyte balance and blood pressure. Examples of aldosterone receptor antagonists include spironolactone, eplerenone, and canrenone.\\n\\nPotential side effects of aldosterone receptor antagonists include:\\n\\n1. **Hyperkalemia**: Elevated potassium levels in the blood, which can be life-threatening in severe cases.\\n2. **Gynecomastia**: Breast tenderness or enlargement in men, due to the anti-androgenic effects of some aldosterone receptor antagonists, such as spironolactone.\\n3. **Menstrual irregularities**: Changes in menstrual cycle or flow in women, also due to the anti-androgenic effects of some medications in this class.\\n4. **Dizziness or lightheadedness**: Due to the diuretic effect of these medications, which can lead to dehydration and electrolyte imbalances.\\n5. **Headache**: A common side effect, possibly related to changes in blood pressure or electrolyte balance.\\n6. **Nausea and vomiting**: Gastrointestinal side effects, which can be mild or severe.\\n7. **Diarrhea or constipation**: Changes in bowel habits, possibly related to the medication's effect on electrolyte balance.\\n8. **Fatigue or weakness**: Due to the diuretic effect and potential electrolyte imbalances.\\n9. **Increased urine production**: A expected side effect, as these medications increase urine output to help reduce blood pressure.\\n10. **Allergic reactions**: Rare but potentially severe reactions, such as anaphylaxis or angioedema, can occur in some individuals.\\n\\nLess common but more serious side effects may include:\\n\\n1. **Renal impairment**: Worsening of kidney function, particularly in patients with pre-existing kidney disease.\\n2. **Hypotension**: Excessive lowering of blood pressure, which can lead to dizziness, lightheadedness, or fainting.\\n3. **Electrolyte imbalance**: Severe disturbances in electrolyte levels, such as hyperkalemia or hypokalemia, which can be life-threatening.\\n\\nIt's essential to monitor patients taking aldosterone receptor antagonists for these potential side effects and adjust the medication or dosage as needed to minimize risks. Regular blood tests to check electrolyte levels and kidney function are also crucial to ensure safe use of these medications.\", \"Yes, some medications used to treat acne can cause flu-like symptoms as a side effect. Here are a few examples:\\n\\n1. **Isotretinoin (Accutane)**: This oral retinoid is commonly used to treat severe acne. One of its known side effects is the development of flu-like symptoms, such as fatigue, headache, and muscle aches, in some patients.\\n2. **Minocycline**: This antibiotic is often prescribed to treat moderate to severe acne. Some people taking minocycline may experience flu-like symptoms, including fever, chills, and body aches.\\n3. **Doxycycline**: Another antibiotic used to treat acne, doxycycline, can also cause flu-like symptoms in some individuals, such as fever, headache, and fatigue.\\n4. **Hormonal therapies**: Certain hormonal treatments, like spironolactone, can cause flu-like symptoms, including fatigue, headache, and muscle aches, especially when first starting the medication.\\n5. **Retinoids**: Topical retinoids, such as adapalene, tretinoin, or tazarotene, can cause flu-like symptoms, like redness, irritation, and sensitivity, especially during the initial treatment phase.\\n\\nIt's essential to note that these flu-like symptoms are usually mild and temporary, and they often resolve on their own within a few days to a week after starting the medication. However, if you experience severe or persistent symptoms, you should consult your doctor or dermatologist for guidance.\\n\\nTo minimize the risk of flu-like symptoms, it's crucial to:\\n\\n* Follow your doctor's instructions and dosage recommendations\\n* Start with a low dose and gradually increase as needed\\n* Monitor your body's response to the medication and report any concerns to your doctor\\n* Stay hydrated and get plenty of rest to help your body adjust to the medication\\n\\nRemember, it's always better to consult your doctor or dermatologist if you have any concerns about your acne treatment or experience any unusual symptoms.\", \"A potential side effect of a medication that is a topical acne agent can be skin irritation, including:\\n\\n1. Redness\\n2. Itching\\n3. Burning\\n4. Dryness\\n5. Peeling\\n\\nSome topical acne agents, such as retinoids and benzoyl peroxide, can also cause:\\n\\n1. Sensitivity to the sun, increasing the risk of sunburn\\n2. Post-inflammatory hyperpigmentation (PIH), which is a darkening of the skin in the treated area\\n\\nIt's essential to follow the instructions provided by your doctor or the medication's label and start with a low concentration to minimize the risk of side effects. If you experience any side effects, you should consult your doctor or dermatologist for advice on how to manage them.\", \"Yes, some medications used to treat weight loss can cause hives as a side effect. Hives, also known as urticaria, are itchy, raised welts on the skin that can be caused by an allergic reaction or other factors.\\n\\nHere are some weight loss medications that may cause hives:\\n\\n1. **Orlistat (Alli, Xenical)**: This medication works by reducing fat absorption in the gut. In rare cases, it can cause an allergic reaction, which may lead to hives.\\n2. **Phentermine (Adipex-P, Suprenza)**: This is an appetite suppressant that can cause hives, itching, and other skin reactions in some people.\\n3. **Lorcaserin (Belviq)**: This medication helps reduce hunger and increase feelings of fullness. While rare, it can cause skin reactions, including hives.\\n4. **Qsymia (phentermine and topiramate)**: This combination medication can cause skin reactions, including hives, in some individuals.\\n5. **Saxenda (liraglutide)**: This injectable medication helps with weight loss by reducing hunger and increasing feelings of fullness. While rare, it can cause allergic reactions, including hives.\\n\\nIt's essential to note that hives can be a sign of a more serious allergic reaction, such as anaphylaxis. If you experience any of the following symptoms while taking a weight loss medication, seek medical attention immediately:\\n\\n* Difficulty breathing or swallowing\\n* Swelling of the face, lips, tongue, or throat\\n* Abdominal cramps\\n* Nausea or vomiting\\n* Rapid heartbeat\\n\\nIf you develop hives or any other skin reaction while taking a weight loss medication, talk to your doctor or pharmacist. They may recommend:\\n\\n* Discontinuing the medication\\n* Switching to a different medication\\n* Prescribing an antihistamine or other medication to relieve symptoms\\n* Monitoring your condition closely to prevent more severe reactions\\n\\nRemember, it's crucial to discuss any concerns or side effects with your healthcare provider before starting a weight loss medication. They can help you weigh the benefits and risks and determine the best course of treatment for your individual needs.\", \"Miscellaneous antimalarials are a class of medications used to treat and prevent malaria. Since this class is quite broad, I'll provide you with a general overview of possible side effects associated with some of the medications in this category. Keep in mind that not all medications in this class will have the same side effects, and the severity of these side effects can vary depending on the specific medication and individual factors.\\n\\nSome possible side effects of miscellaneous antimalarials include:\\n\\n1. **Gastrointestinal issues**: Nausea, vomiting, diarrhea, abdominal pain, and stomach upset.\\n2. **Neurological effects**: Headache, dizziness, fatigue, insomnia, and vivid dreams or nightmares.\\n3. **Cardiovascular issues**: Changes in heart rate, palpitations, and QT interval prolongation (a change in the heart's electrical activity).\\n4. **Hematological effects**: Anemia, thrombocytopenia (low platelet count), and leukopenia (low white blood cell count).\\n5. **Skin reactions**: Rash, itching, and photosensitivity (increased sensitivity to sunlight).\\n6. **Musculoskeletal issues**: Muscle weakness, muscle cramps, and joint pain.\\n7. **Liver and kidney problems**: Elevated liver enzymes, liver damage, and kidney damage (in rare cases).\\n8. **Allergic reactions**: Anaphylaxis, angioedema, and Stevens-Johnson syndrome (a severe skin and mucous membrane disorder).\\n9. **Psychiatric effects**: Anxiety, depression, psychosis, and hallucinations (in rare cases).\\n10. **Eye problems**: Blurred vision, double vision, and eye pain.\\n\\nSome specific medications in the miscellaneous antimalarials class, such as:\\n\\n* **Hydroxychloroquine**: may cause retinal toxicity, cardiomyopathy, and neuromuscular weakness.\\n* **Primaquine**: may cause hemolytic anemia (a condition where red blood cells are destroyed) in individuals with glucose-6-phosphate dehydrogenase (G6PD) deficiency.\\n* **Mefloquine**: may cause psychiatric effects, such as anxiety, depression, and psychosis, as well as cardiac issues, like QT interval prolongation.\\n\\nIt's essential to note that this is not an exhaustive list, and the specific side effects associated with a particular medication may vary. If you're taking a medication in the miscellaneous antimalarials class, it's crucial to discuss the potential side effects with your healthcare provider and report any concerns or issues that arise during treatment.\", \"Yes, some medications used to treat acne can cause swollen glands as a side effect. Here are a few examples:\\n\\n1. **Isotretinoin (Accutane)**: This oral retinoid is commonly used to treat severe acne. Swollen lymph nodes or glands in the neck, armpits, or groin area can be a rare but possible side effect of isotretinoin.\\n2. **Tetracyclines (e.g., doxycycline, minocycline)**: These antibiotics are often used to treat moderate to severe acne. Swollen lymph nodes or glands can occur in some cases, although this is not a common side effect.\\n3. **Hormonal therapies (e.g., spironolactone)**: Hormonal treatments, such as spironolactone, can be used to treat acne in women. Swollen breasts or lymph nodes can be a side effect of these medications, although this is not typically a common occurrence.\\n4. **Retinoid creams or gels (e.g., adapalene, tretinoin)**: Topical retinoids can cause localized side effects, including redness, itching, or swelling, which may lead to swollen glands or lymph nodes in rare cases.\\n\\nIt's essential to note that swollen glands can also be a sign of an underlying infection or other medical condition. If you're experiencing swollen glands while taking acne medication, it's crucial to consult your doctor or dermatologist to determine the cause and receive proper guidance.\\n\\nTo minimize the risk of swollen glands or other side effects, always:\\n\\n* Follow the prescribed dosage and instructions for your acne medication.\\n* Monitor your body's response to the medication and report any unusual symptoms to your doctor.\\n* Attend regular follow-up appointments with your doctor or dermatologist to discuss any concerns or side effects.\\n\\nRemember, it's always better to err on the side of caution and consult your healthcare provider if you're unsure about any side effects or symptoms you're experiencing.\", \"Vaginal anti-infectives are medications used to treat vaginal infections, such as bacterial vaginosis, yeast infections, and trichomoniasis. While these medications are generally effective, they can cause some side effects. Here are some potential side effects of vaginal anti-infectives:\\n\\n**Common side effects:**\\n\\n1. Vaginal itching, burning, or irritation\\n2. Abdominal pain or cramping\\n3. Nausea or vomiting\\n4. Diarrhea or loose stools\\n5. Headache\\n6. Dizziness or lightheadedness\\n7. Vaginal discharge or odor\\n8. Skin rash or itching\\n\\n**Less common side effects:**\\n\\n1. Allergic reactions, such as hives or difficulty breathing\\n2. Vaginal bleeding or spotting\\n3. Pelvic pain or tenderness\\n4. Urinary tract infections (UTIs)\\n5. Yeast infections (if the medication is not effective against the specific type of infection)\\n6. Bacterial resistance (if the medication is not used as directed)\\n\\n**Rare but serious side effects:**\\n\\n1. Anaphylaxis (a severe, life-threatening allergic reaction)\\n2. Stevens-Johnson syndrome (a rare, serious skin and mucous membrane disorder)\\n3. Toxic epidermal necrolysis (a rare, serious skin condition)\\n4. Blood clots or thrombophlebitis (if the medication is used for an extended period)\\n\\n**Specific side effects by medication:**\\n\\n1. Metronidazole (Flagyl): metallic taste, dry mouth, and dark urine\\n2. Clindamycin (Cleocin): diarrhea, abdominal pain, and nausea\\n3. Terconazole (Terazol): vaginal burning, itching, and discharge\\n4. Fluconazole (Diflucan): nausea, vomiting, and abdominal pain\\n\\n**Important notes:**\\n\\n1. If you experience any severe or persistent side effects, contact your healthcare provider immediately.\\n2. Always follow the instructions for use and complete the full course of treatment, even if symptoms improve before finishing the medication.\\n3. Inform your healthcare provider about any other medications you are taking, as some interactions may occur.\\n4. If you are pregnant or breastfeeding, consult your healthcare provider before using any vaginal anti-infective medication.\\n\\nRemember, it's essential to discuss any concerns or questions you have with your healthcare provider before starting treatment with a vaginal anti-infective medication.\", \"Yes, some medications used to treat weight loss can cause skin rash as a side effect. Here are a few examples:\\n\\n1. **Orlistat (Alli, Xenical)**: This medication works by reducing fat absorption in the gut. Skin rash is a rare but possible side effect of orlistat, occurring in about 1-2% of users.\\n2. **Phentermine (Adipex-P)**: This is an appetite suppressant that can cause skin rash, itching, or hives in some individuals. The incidence of skin rash with phentermine is relatively low, around 1-3%.\\n3. **Lorcaserin (Belviq)**: This medication helps reduce hunger and increase feelings of fullness. Skin rash, including allergic reactions like angioedema, has been reported in about 1-2% of users.\\n4. **Qsymia (Phentermine-Topiramate)**: This is a combination medication that can cause skin rash, itching, or hives in some individuals. The incidence of skin rash with Qsymia is around 1-3%.\\n5. **Saxenda (Liraglutide)**: This injection medication helps reduce hunger and increase feelings of fullness. Skin rash, including allergic reactions like angioedema, has been reported in about 1-2% of users.\\n\\nIt's essential to note that these medications can cause a range of side effects, and skin rash is just one of them. If you experience any skin symptoms, such as:\\n\\n* Redness\\n* Itching\\n* Swelling\\n* Blisters\\n* Hives\\n\\nwhile taking a weight loss medication, you should:\\n\\n1. **Stop taking the medication** immediately.\\n2. **Consult your doctor** to discuss the side effect and determine the best course of action.\\n3. **Seek medical attention** if the skin rash is severe, widespread, or accompanied by other symptoms like difficulty breathing or swallowing.\\n\\nRemember, it's crucial to weigh the potential benefits of a weight loss medication against the possible side effects, including skin rash. Always follow your doctor's guidance and monitoring to minimize the risk of adverse reactions.\", \"A potential side effect of a medication that belongs to the class of Anorexiants and CNS stimulants is addiction or dependence. These medications, such as phentermine, can activate the brain's reward system, leading to physical dependence and psychological addiction. Other potential side effects may include:\\n\\n* Insomnia\\n* Anxiety or agitation\\n* Increased heart rate and blood pressure\\n* Dry mouth\\n* Constipation\\n* Nervousness or irritability\\n* Tremors\\n\\nIt's essential to use these medications under the guidance of a healthcare professional and to follow the recommended dosage to minimize the risk of side effects and dependence.\", \"Yes, some medications used to treat acne can cause fever as a side effect. Here are a few examples:\\n\\n1. **Isotretinoin**: This is a powerful oral retinoid used to treat severe acne. Fever is a rare but possible side effect of isotretinoin, especially during the initial stages of treatment.\\n2. **Minocycline**: This is an antibiotic commonly used to treat moderate to severe acne. While rare, minocycline can cause a condition called Drug Reaction with Eosinophilia and Systemic Symptoms (DRESS syndrome), which can include fever, rash, and other symptoms.\\n3. **Doxycycline**: Another antibiotic used to treat acne, doxycycline can cause fever, especially when used in combination with other medications.\\n4. **Sulfonamides**: This class of antibiotics, which includes sulfamethoxazole and trimethoprim, can cause fever, especially in people with a history of sulfa allergies.\\n5. **Hormonal therapies**: Some acne treatments, such as spironolactone, can cause hormonal changes that may lead to fever, especially during the initial stages of treatment.\\n\\nIt's essential to note that fever is a rare side effect of most acne medications. If you're experiencing fever while taking an acne medication, it's crucial to consult your doctor or dermatologist to determine the cause and appropriate course of action.\\n\\nIn general, if you're taking an acne medication and experience any of the following symptoms, seek medical attention:\\n\\n* Fever above 101.5°F (38.6°C)\\n* Chills or shaking\\n* Severe headache or muscle pain\\n* Rash or itching\\n* Difficulty breathing or swallowing\\n\\nYour doctor or dermatologist can help you manage any side effects and adjust your treatment plan if necessary.\", 'Melanocortin receptor agonists are a class of medications that target melanocortin receptors, which play a role in various physiological processes, including energy homeostasis, appetite regulation, and skin pigmentation. The possible side effects of a medication that is a melanocortin receptor agonist can vary depending on the specific medication, dosage, and individual response. Here are some potential side effects:\\n\\n1. **Skin effects**: Increased skin pigmentation (hyperpigmentation), darkening of skin lesions, or new skin lesions (e.g., melanoma) due to stimulation of melanocortin receptors.\\n2. **Cardiovascular effects**: Increased blood pressure, heart rate, or cardiac output due to the activation of melanocortin receptors in the cardiovascular system.\\n3. **Gastrointestinal effects**: Nausea, vomiting, diarrhea, or abdominal pain due to the stimulation of melanocortin receptors in the gut.\\n4. **Appetite and weight changes**: Decreased appetite, weight loss, or changes in body composition due to the regulation of energy homeostasis and appetite.\\n5. **Endocrine effects**: Changes in hormone levels, such as increased adrenocorticotropic hormone (ACTH) or cortisol levels, due to the activation of melanocortin receptors in the hypothalamic-pituitary-adrenal axis.\\n6. **Neurological effects**: Headache, fatigue, dizziness, or insomnia due to the central nervous system effects of melanocortin receptor agonism.\\n7. **Allergic reactions**: Rarely, anaphylaxis, angioedema, or other allergic reactions may occur in response to the medication.\\n8. **Erythema or flushing**: Redness or flushing of the skin, particularly in the face, neck, or upper body, due to increased blood flow.\\n9. **Injection site reactions**: Pain, redness, swelling, or itching at the injection site (if the medication is administered via injection).\\n10. **Immune system effects**: Rarely, immunogenicity (the formation of antibodies against the medication) or immune-mediated reactions, such as autoimmune disorders, may occur.\\n\\nIt is essential to note that not all melanocortin receptor agonists will cause all of these side effects, and the severity and frequency of these effects can vary depending on the specific medication and individual response. If you are taking a medication that is a melanocortin receptor agonist, it is crucial to discuss potential side effects with your healthcare provider and report any concerns or adverse reactions promptly.', \"Yes, some medications used to treat weight loss can cause serious side effects that affect the face, lips, tongue, or throat. These side effects can be potentially life-threatening and require immediate medical attention.\\n\\nOne example is orlistat (Alli, Xenical), a weight loss medication that can cause allergic reactions, including:\\n\\n1. **Angioedema**: A rare but serious condition that causes swelling of the face, lips, tongue, or throat, which can lead to difficulty breathing.\\n2. **Stevens-Johnson syndrome**: A rare but life-threatening condition that causes a severe skin and mucous membrane reaction, including blisters, rash, and swelling of the face, lips, tongue, or throat.\\n\\nOther weight loss medications, such as phentermine-topiramate (Qsymia), can also cause serious side effects, including:\\n\\n1. **Facial swelling**\\n2. **Lip swelling**\\n3. **Tongue swelling**\\n4. **Throat swelling**\\n\\nAdditionally, some weight loss medications can increase the risk of **anaphylaxis**, a severe, life-threatening allergic reaction that can cause symptoms such as:\\n\\n1. Swelling of the face, lips, tongue, or throat\\n2. Difficulty breathing\\n3. Rapid heartbeat\\n4. Dizziness or fainting\\n\\nIf you experience any of these symptoms while taking a weight loss medication, seek medical attention immediately.\\n\\nIt's essential to discuss the potential risks and benefits of any weight loss medication with your healthcare provider before starting treatment. They can help you determine the best course of treatment for your individual needs and monitor you for any potential side effects.\"]\n"
     ]
    }
   ],
   "source": [
    "# Read the JSON file\n",
    "with open('ref_formatted_response_content.json', 'r') as json_file:\n",
    "    reference_data = json.load(json_file)\n",
    "    \n",
    "with open('llm_formatted_response_content.json', 'r') as json_file:\n",
    "    llm_data = json.load(json_file)\n",
    "\n",
    "# Extract only the questions\n",
    "questions = [item['Question'] for item in reference_data if 'Question' in item]\n",
    "\n",
    "# Extract only the answer\n",
    "ref_answers = [item['Answer'] for item in reference_data if 'Answer' in item]\n",
    "llm_answers = [item['Answer'] for item in llm_data if 'Answer' in item]\n",
    "\n",
    "print(ref_answers)\n",
    "print(llm_answers)\n",
    "\n",
    "# for question in questions:\n",
    "    "
   ]
  },
  {
   "cell_type": "code",
   "execution_count": null,
   "metadata": {},
   "outputs": [],
   "source": [
    "for question, ref_ans, llm_ans in zip(questions, ref_answers, llm_answers):\n",
    "    blue_score = sacrebleu.corpus_bleu([ref_ans], [[llm_ans]]).score\n",
    "    data_base = {\n",
    "        \"Question\": f\"{question}\\n\",\n",
    "        \"LLM Answer\": llm_ans,\n",
    "        \"Reference Answer\": ref_ans,\n",
    "        \"Blue Score\": blue_score\n",
    "    }\n",
    "    print(json.dumps(data_base, indent=4))\n",
    "    "
   ]
  },
  {
   "cell_type": "code",
   "execution_count": null,
   "metadata": {},
   "outputs": [],
   "source": [
    "for question, ref_ans, llm_ans in zip(questions, ref_answers, llm_answers):\n",
    "    # Initialize the ROUGE scorer\n",
    "    scorer = rouge_scorer.RougeScorer(['rougeL'], use_stemmer=True)\n",
    "    rogue_scores = scorer.score(ref_ans, llm_ans)\n",
    "    data_base = {\n",
    "        \"Question\": f\"{question}\\n\",\n",
    "        \"LLM Answer\": llm_ans,\n",
    "        \"Reference Answer\": ref_ans,\n",
    "        \"Rouge Score\":rogue_scores\n",
    "    }\n",
    "    print(json.dumps(data_base, indent=4))"
   ]
  },
  {
   "cell_type": "markdown",
   "metadata": {},
   "source": [
    "**Yes or No Question**"
   ]
  },
  {
   "cell_type": "code",
   "execution_count": 84,
   "metadata": {},
   "outputs": [],
   "source": [
    "results = []\n",
    "\n",
    "for question, ref_ans, llm_ans in zip(questions, ref_answers, llm_answers):\n",
    "    data_base = {\n",
    "        \"Question\": f\"{question}\\n\",\n",
    "        \"LLM Answer\": llm_ans,\n",
    "        \"Reference Answer\": ref_ans,\n",
    "    }\n",
    "    results.append(data_base)\n",
    "    \n",
    "with open(\"Question_LLM_Ref_Ans.json\", \"w\") as f:\n",
    "    json.dump(results, f, indent=4)"
   ]
  },
  {
   "cell_type": "code",
   "execution_count": 93,
   "metadata": {},
   "outputs": [
    {
     "name": "stdout",
     "output_type": "stream",
     "text": [
      "[\n",
      "    {\n",
      "        \"Question\": \"What are the possible side effects of a drug used to treat Acne?\\n\",\n",
      "        \"LLM Answer\": \"Drugs used to treat acne can have various side effects, depending on the type of medication, its strength, and individual tolerance. Here are some possible side effects of common acne treatments:\\n\\n**Topical treatments:**\\n\\n1. **Benzoyl peroxide**: dryness, redness, irritation, itching, stinging, and burning.\\n2. **Salicylic acid**: dryness, redness, irritation, and peeling.\\n3. **Retinoids** (e.g., adapalene, tretinoin): redness, irritation, dryness, itching, and sensitivity to the sun.\\n4. **Antibiotics** (e.g., clindamycin, erythromycin): skin irritation, redness, itching, and dryness.\\n\\n**Oral antibiotics:**\\n\\n1. **Doxycycline**: nausea, vomiting, diarrhea, stomach upset, and increased sensitivity to the sun.\\n2. **Minocycline**: dizziness, nausea, vomiting, and stomach upset.\\n3. **Erythromycin**: nausea, vomiting, diarrhea, and stomach upset.\\n\\n**Hormonal treatments:**\\n\\n1. **Birth control pills**: mood changes, breast tenderness, nausea, and weight gain.\\n2. **Spironolactone**: breast tenderness, menstrual irregularities, and fatigue.\\n\\n**Isotretinoin (Accutane):**\\n\\n1. **Dryness**: dry skin, lips, eyes, and nose.\\n2. **Inflammatory bowel disease**: increased risk of inflammatory bowel disease, such as Crohn's disease and ulcerative colitis.\\n3. **Mood changes**: depression, anxiety, and mood swings.\\n4. **Fatigue**: feeling tired and weak.\\n5. **Hair loss**: hair thinning or loss.\\n6. **Muscle and joint pain**: pain and stiffness in muscles and joints.\\n7. **Increased risk of sunburn**: increased sensitivity to the sun.\\n\\n**Other side effects:**\\n\\n1. **Allergic reactions**: rare, but can occur with any medication, causing symptoms such as hives, itching, and difficulty breathing.\\n2. **Photosensitivity**: increased risk of sunburn and skin discoloration.\\n3. **Skin discoloration**: changes in skin pigmentation, such as hyperpigmentation or hypopigmentation.\\n\\nIt's essential to note that not everyone will experience side effects, and the severity of side effects can vary from person to person. If you're concerned about side effects or have questions, consult your doctor or dermatologist. They can help you weigh the benefits and risks of a particular medication and monitor you for any potential side effects.\",\n",
      "        \"Reference Answer\": \"Possible side effects include hives, difficulty breathing, swelling of the face, lips, tongue, or throat.\"\n",
      "    },\n",
      "    {\n",
      "        \"Question\": \"What is a common side effect of a weight loss medication?\\n\",\n",
      "        \"LLM Answer\": \"Common side effects of weight loss medications can vary depending on the specific medication, but some common side effects include:\\n\\n1. Nausea and vomiting\\n2. Diarrhea or constipation\\n3. Headache\\n4. Dizziness or lightheadedness\\n5. Fatigue or tiredness\\n6. Dry mouth\\n7. Increased heart rate or blood pressure\\n8. Insomnia or sleep disturbances\\n9. Anxiety or jitteriness\\n\\nSome weight loss medications can also have more serious side effects, such as:\\n\\n1. Liver damage or increased liver enzymes\\n2. Increased risk of heart attack or stroke\\n3. Pancreatitis or inflammation of the pancreas\\n4. Gallbladder disease\\n5. Suicidal thoughts or behaviors (in rare cases)\\n\\nIt's essential to note that not everyone who takes weight loss medication will experience side effects, and the severity of side effects can vary from person to person. If you're considering taking a weight loss medication, it's crucial to discuss the potential benefits and risks with your healthcare provider and carefully monitor your body's response to the medication.\\n\\nSome examples of weight loss medications and their common side effects include:\\n\\n* Orlistat (Alli, Xenical): gastrointestinal side effects, such as oily stools, diarrhea, and abdominal pain\\n* Phentermine-topiramate (Qsymia): dizziness, insomnia, and constipation\\n* Liraglutide (Saxenda): nausea, vomiting, and diarrhea\\n* Bupropion-naltrexone (Contrave): nausea, headache, and dizziness\\n\\nAlways consult with your healthcare provider before starting any weight loss medication, and report any side effects or concerns to ensure safe and effective treatment.\",\n",
      "        \"Reference Answer\": \"A common side effect is difficulty breathing.\"\n",
      "    },\n",
      "    {\n",
      "        \"Question\": \"What are the potential side effects of a tetracycline antibiotic?\\n\",\n",
      "        \"LLM Answer\": \"Tetracycline antibiotics are a class of broad-spectrum antibiotics that can be effective against a wide range of bacterial infections. However, like all medications, they can cause potential side effects. Here are some possible side effects of tetracycline antibiotics:\\n\\n**Common side effects:**\\n\\n1. Nausea and vomiting\\n2. Diarrhea or loose stools\\n3. Abdominal pain or cramps\\n4. Headache\\n5. Dizziness or lightheadedness\\n6. Fatigue or weakness\\n7. Sore mouth or throat\\n8. Increased sensitivity to the sun (photosensitivity)\\n\\n**Less common side effects:**\\n\\n1. Allergic reactions (hives, itching, swelling, or difficulty breathing)\\n2. Yeast infections (vaginal or oral thrush)\\n3. Stomach ulcers or inflammation\\n4. Liver damage or elevated liver enzymes\\n5. Kidney damage or impairment\\n6. Increased risk of Clostridioides difficile (C. diff) infection\\n7. Tooth discoloration (especially in children)\\n8. Inhibition of bone growth (in children and adolescents)\\n\\n**Rare but serious side effects:**\\n\\n1. Anaphylaxis (severe allergic reaction)\\n2. Stevens-Johnson syndrome (a severe skin and mucous membrane disorder)\\n3. Toxic epidermal necrolysis (a life-threatening skin condition)\\n4. Hepatic failure (liver failure)\\n5. Renal failure (kidney failure)\\n6. Pseudotumor cerebri (increased pressure in the brain)\\n7. Blood disorders (e.g., anemia, thrombocytopenia)\\n\\n**Special considerations:**\\n\\n1. Tetracyclines can interact with other medications, such as blood thinners, and decrease their effectiveness.\\n2. They can also increase the risk of sunburn and skin cancer when taken with certain medications or exposed to UV radiation.\\n3. Tetracyclines are generally not recommended during pregnancy or breastfeeding, as they can affect fetal development or infant growth.\\n4. Children under 8 years old should not take tetracyclines, as they can cause permanent tooth discoloration.\\n\\nIt's essential to consult your healthcare provider or pharmacist if you experience any side effects or have concerns about taking a tetracycline antibiotic. They can help you weigh the benefits and risks of treatment and provide guidance on managing potential side effects.\",\n",
      "        \"Reference Answer\": \"Potential side effects include skin rash, fever, swollen glands, and flu-like symptoms.\"\n",
      "    },\n",
      "    {\n",
      "        \"Question\": \"Can a medication used to treat Acne cause vision or hearing problems?\\n\",\n",
      "        \"LLM Answer\": \"Yes, some medications used to treat acne can potentially cause vision or hearing problems, although this is rare. Here are some examples:\\n\\n**Vision problems:**\\n\\n1. **Isotretinoin (Accutane)**: This oral retinoid is commonly used to treat severe acne. It can cause eye problems such as dry eyes, blurred vision, and increased sensitivity to light. In rare cases, it may also cause more serious eye issues like cataracts, glaucoma, or even permanent vision loss.\\n2. **Tetracyclines (e.g., doxycycline, minocycline)**: These antibiotics are often used to treat acne. They can cause blurred vision, double vision, or sensitivity to light. In rare cases, they may also cause more serious eye problems like papilledema (swelling of the optic disc).\\n3. **Hormonal therapies (e.g., spironolactone)**: These medications can cause changes in vision, including blurred vision or double vision, in some individuals.\\n\\n**Hearing problems:**\\n\\n1. **Minocycline**: This antibiotic has been associated with hearing loss, tinnitus (ringing in the ears), or vertigo (dizziness) in rare cases.\\n2. **Isotretinoin (Accutane)**: Although rare, isotretinoin has been linked to hearing loss, tinnitus, or vertigo in some individuals.\\n3. **Doxycycline**: This antibiotic may cause tinnitus or hearing loss in rare cases.\\n\\n**Important notes:**\\n\\n* These side effects are rare and usually reversible once the medication is stopped.\\n* If you experience any vision or hearing problems while taking acne medication, contact your doctor or dermatologist immediately.\\n* Regular monitoring and follow-up appointments with your doctor can help identify any potential issues early on.\\n* It's essential to weigh the benefits and risks of any medication with your doctor before starting treatment.\\n\\nRemember, it's crucial to discuss any concerns or questions you have with your doctor or dermatologist before starting or continuing any acne treatment. They can help you make informed decisions about your treatment and monitor you for any potential side effects.\",\n",
      "        \"Reference Answer\": \"Yes, some medications used to treat Acne can cause problems with vision or hearing.\"\n",
      "    }\n",
      "]\n"
     ]
    }
   ],
   "source": [
    "# Read out the content of the json file...\n",
    "with open(\"Question_LLM_Ref_Ans.json\", \"r\") as read_file:\n",
    "    context = json.load(read_file)\n",
    "    \n",
    "# Print the content\n",
    "print(json.dumps(context, indent=4))"
   ]
  },
  {
   "cell_type": "code",
   "execution_count": 94,
   "metadata": {},
   "outputs": [],
   "source": [
    "response_schemas = [\n",
    "    ResponseSchema(name=\"Question\", description=\"The generated question from the provided context\"),\n",
    "    ResponseSchema(name=\"LLM Answer\", description=\"The generated LLM answer from the provided context\"),\n",
    "    ResponseSchema(name=\"Reference Answer\", description=\"The reference answer from the provided context\"),\n",
    "    ResponseSchema(name=\"Yes or No Answer\", description=\"Either YES or NO answer generated from the provided context\")\n",
    "]\n",
    "\n",
    "output_parser = StructuredOutputParser.from_response_schemas(response_schemas)\n",
    "format_instructions = output_parser.get_format_instructions(only_json=True)"
   ]
  },
  {
   "cell_type": "code",
   "execution_count": 133,
   "metadata": {},
   "outputs": [],
   "source": [
    "# TEMPLATE = \"\"\"You are a helpful agent. Your task is to generate five (5) questions, compare the LLM Answer and Reference Answer, reason on the two, and respond with either a YES or NO answer using the provided \"{context}\". \n",
    "\n",
    "# Please follow these criteria:\n",
    "# - Only generate either a YES or NO answer.\n",
    "# - Give equal weight and probability to NO and YES answers.\n",
    "# - Dont add 'Here are five generated questions with YES or NO answers:\\n\\n'\n",
    "# - Follow the JSON format below.\n",
    "# - Ensure the output is a valid JSON object.\n",
    "\n",
    "# {format_instructions}\"\"\"\n",
    "\n",
    "# prompt = ChatPromptTemplate.from_template(template=TEMPLATE)\n",
    "\n",
    "\n",
    "\n",
    "TEMPLATE = \"\"\"\n",
    "You are a helpful agent. Your task is to generate five (5) questions, compare the LLM Answer and Reference Answer for each question, and reason thoroughly on the two before responding with either a YES or NO answer using the provided \"{context}\".\n",
    "\n",
    "Please follow these criteria:\n",
    "- Only generate either a YES or NO answer.\n",
    "- Ensure that both answers are thoroughly compared and must really tally before choosing YES or NO.\n",
    "- Give equal weight and probability to NO and YES answers.\n",
    "- Dont add 'Here are the generated questions with their corresponding LLM answers, reference answers, and yes or no answers:\\n\\n\\n1.\\n'\n",
    "- Follow the JSON format below.\n",
    "- Ensure the output is a valid JSON object.\n",
    "\n",
    "{format_instructions}\n",
    "\"\"\"\n",
    "\n",
    "prompt = ChatPromptTemplate.from_template(template=TEMPLATE)\n"
   ]
  },
  {
   "cell_type": "code",
   "execution_count": 134,
   "metadata": {},
   "outputs": [],
   "source": [
    "messages = prompt.format_messages(context=context, format_instructions=format_instructions)\n",
    "response = llm_model.invoke(messages)"
   ]
  },
  {
   "cell_type": "code",
   "execution_count": 135,
   "metadata": {},
   "outputs": [
    {
     "data": {
      "text/plain": [
       "'[\\n    {\\n        \"Question\": \"What are the possible side effects of a drug used to treat Acne?\",\\n        \"LLM Answer\": \"Drugs used to treat acne can have various side effects, depending on the type of medication, its strength, and individual tolerance. Here are some possible side effects of common acne treatments: Topical treatments: 1. Benzoyl peroxide: dryness, redness, irritation, itching, stinging, and burning. 2. Salicylic acid: dryness, redness, irritation, and peeling. 3. Retinoids (e.g., adapalene, tretinoin): redness, irritation, dryness, itching, and sensitivity to the sun. 4. Antibiotics (e.g., clindamycin, erythromycin): skin irritation, redness, itching, and dryness. Oral antibiotics: 1. Doxycycline: nausea, vomiting, diarrhea, stomach upset, and increased sensitivity to the sun. 2. Minocycline: dizziness, nausea, vomiting, and stomach upset. 3. Erythromycin: nausea, vomiting, diarrhea, and stomach upset. Hormonal treatments: 1. Birth control pills: mood changes, breast tenderness, nausea, and weight gain. 2. Spironolactone: breast tenderness, menstrual irregularities, and fatigue. Isotretinoin (Accutane): 1. Dryness: dry skin, lips, eyes, and nose. 2. Inflammatory bowel disease: increased risk of inflammatory bowel disease, such as Crohn\\'s disease and ulcerative colitis. 3. Mood changes: depression, anxiety, and mood swings. 4. Fatigue: feeling tired and weak. 5. Hair loss: hair thinning or loss. 6. Muscle and joint pain: pain and stiffness in muscles and joints. 7. Increased risk of sunburn: increased sensitivity to the sun. Other side effects: 1. Allergic reactions: rare, but can occur with any medication, causing symptoms such as hives, itching, and difficulty breathing. 2. Photosensitivity: increased risk of sunburn and skin discoloration. 3. Skin discoloration: changes in skin pigmentation, such as hyperpigmentation or hypopigmentation. It\\'s essential to note that not everyone will experience side effects, and the severity of side effects can vary from person to person. If you\\'re concerned about side effects or have questions, consult your doctor or dermatologist. They can help you weigh the benefits and risks of a particular medication and monitor you for any potential side effects.\",\\n        \"Reference Answer\": \"Possible side effects include hives, difficulty breathing, swelling of the face, lips, tongue, or throat.\",\\n        \"Yes or No Answer\": \"NO\"\\n    },\\n    {\\n        \"Question\": \"What is a common side effect of a weight loss medication?\",\\n        \"LLM Answer\": \"Common side effects of weight loss medications can vary depending on the specific medication, but some common side effects include: 1. Nausea and vomiting 2. Diarrhea or constipation 3. Headache 4. Dizziness or lightheadedness 5. Fatigue or tiredness 6. Dry mouth 7. Increased heart rate or blood pressure 8. Insomnia or sleep disturbances 9. Anxiety or jitteriness Some weight loss medications can also have more serious side effects, such as: 1. Liver damage or increased liver enzymes 2. Increased risk of heart attack or stroke 3. Pancreatitis or inflammation of the pancreas 4. Gallbladder disease 5. Suicidal thoughts or behaviors (in rare cases) It\\'s essential to note that not everyone who takes weight loss medication will experience side effects, and the severity of side effects can vary from person to person. If you\\'re considering taking a weight loss medication, it\\'s crucial to discuss the potential benefits and risks with your healthcare provider and carefully monitor your body\\'s response to the medication. Some examples of weight loss medications and their common side effects include: * Orlistat (Alli, Xenical): gastrointestinal side effects, such as oily stools, diarrhea, and abdominal pain * Phentermine-topiramate (Qsymia): dizziness, insomnia, and constipation * Liraglutide (Saxenda): nausea, vomiting, and diarrhea * Bupropion-naltrexone (Contrave): nausea, headache, and dizziness Always consult with your healthcare provider before starting any weight loss medication, and report any side effects or concerns to ensure safe and effective treatment.\",\\n        \"Reference Answer\": \"A common side effect is difficulty breathing.\",\\n        \"Yes or No Answer\": \"NO\"\\n    },\\n    {\\n        \"Question\": \"What are the potential side effects of a tetracycline antibiotic?\",\\n        \"LLM Answer\": \"Tetracycline antibiotics are a class of broad-spectrum antibiotics that can be effective against a wide range of bacterial infections. However, like all medications, they can cause potential side effects. Here are some possible side effects of tetracycline antibiotics: Common side effects: 1. Nausea and vomiting 2. Diarrhea or loose stools 3. Abdominal pain or cramps 4. Headache 5. Dizziness or lightheadedness 6. Fatigue or weakness 7. Sore mouth or throat 8. Increased sensitivity to the sun (photosensitivity) Less common side effects: 1. Allergic reactions (hives, itching, swelling, or difficulty breathing) 2. Yeast infections (vaginal or oral thrush) 3. Stomach ulcers or inflammation 4. Liver damage or elevated liver enzymes 5. Kidney damage or impairment 6. Increased risk of Clostridioides difficile (C. diff) infection 7. Tooth discoloration (especially in children) 8. Inhibition of bone growth (in children and adolescents) Rare but serious side effects: 1. Anaphylaxis (severe allergic reaction) 2. Stevens-Johnson syndrome (a severe skin and mucous membrane disorder) 3. Toxic epidermal necrolysis (a life-threatening skin condition) 4. Hepatic failure (liver failure) 5. Renal failure (kidney failure) 6. Pseudotumor cerebri (increased pressure in the brain) 7. Blood disorders (e.g., anemia, thrombocytopenia) Special considerations: 1. Tetracyclines can interact with other medications, such as blood thinners, and decrease their effectiveness. 2. They can also increase the risk of sunburn and skin cancer when taken with certain medications or exposed to UV radiation. 3. Tetracyclines are generally not recommended during pregnancy or breastfeeding, as they can affect fetal development or infant growth. 4. Children under 8 years old should not take tetracyclines, as they can cause permanent tooth discoloration. It\\'s essential to consult your healthcare provider or pharmacist if you experience any side effects or have concerns about taking a tetracycline antibiotic. They can help you weigh the benefits and risks of treatment and provide guidance on managing potential side effects.\",\\n        \"Reference Answer\": \"Potential side effects include skin rash, fever, swollen glands, and flu-like symptoms.\",\\n        \"Yes or No Answer\": \"NO\"\\n    },\\n    {\\n        \"Question\": \"Can a medication used to treat Acne cause vision or hearing problems?\",\\n        \"LLM Answer\": \"Yes, some medications used to treat acne can potentially cause vision or hearing problems, although this is rare. Here are some examples: Vision problems: 1. Isotretinoin (Accutane): This oral retinoid is commonly used to treat severe acne. It can cause eye problems such as dry eyes, blurred vision, and increased sensitivity to light. In rare cases, it may also cause more serious eye issues like cataracts, glaucoma, or even permanent vision loss. 2. Tetracyclines (e.g., doxycycline, minocycline): These antibiotics are often used to treat acne. They can cause blurred vision, double vision, or sensitivity to light. In rare cases, they may also cause more serious eye problems like papilledema (swelling of the optic disc). 3. Hormonal therapies (e.g., spironolactone): These medications can cause changes in vision, including blurred vision or double vision, in some individuals. Hearing problems: 1. Minocycline: This antibiotic has been associated with hearing loss, tinnitus (ringing in the ears), or vertigo (dizziness) in rare cases. 2. Isotretinoin (Accutane): Although rare, isotretinoin has been linked to hearing loss, tinnitus, or vertigo in some individuals. 3. Doxycycline: This antibiotic may cause tinnitus or hearing loss in rare cases. Important notes: * These side effects are rare and usually reversible once the medication is stopped. * If you experience any vision or hearing problems while taking acne medication, contact your doctor or dermatologist immediately. * Regular monitoring and follow-up appointments with your doctor can help identify any potential issues early on. * It\\'s essential to weigh the benefits and risks of any medication with your doctor before starting treatment. Remember, it\\'s crucial to discuss any concerns or questions you have with your doctor or dermatologist before starting or continuing any acne treatment. They can help you make informed decisions about your treatment and monitor you for any potential side effects.\",\\n        \"Reference Answer\": \"Yes, some medications used to treat Acne can cause problems with vision or hearing.\",\\n        \"Yes or No Answer\": \"YES\"\\n    },\\n    {\\n        \"Question\": \"Can a medication used to treat Acne cause vision or hearing problems?\",\\n        \"LLM Answer\": \"Yes, some medications used to treat acne can potentially cause vision or hearing problems, although this is rare. Here are some examples: Vision problems: 1. Isotretinoin (Accutane): This oral retinoid is commonly used to treat severe acne. It can cause eye problems such as dry eyes, blurred vision, and increased sensitivity to light. In rare cases, it may also cause more serious eye issues like cataracts, glaucoma, or even permanent vision loss. 2. Tetracyclines (e.g., doxycycline, minocycline): These antibiotics are often used to treat acne. They can cause blurred vision, double vision, or sensitivity to light. In rare cases, they may also cause more serious eye problems like papilledema (swelling of the optic disc). 3. Hormonal therapies (e.g., spironolactone): These medications can cause changes in vision, including blurred vision or double vision, in some individuals. Hearing problems: 1. Minocycline: This antibiotic has been associated with hearing loss, tinnitus (ringing in the ears), or vertigo (dizziness) in rare cases. 2. Isotretinoin (Accutane): Although rare, isotretinoin has been linked to hearing loss, tinnitus, or vertigo in some individuals. 3. Doxycycline: This antibiotic may cause tinnitus or hearing loss in rare cases. Important notes: * These side effects are rare and usually reversible once the medication is stopped. * If you experience any vision or hearing problems while taking acne medication, contact your doctor or dermatologist immediately. * Regular monitoring and follow-up appointments with your doctor can help identify any potential issues early on. * It\\'s essential to weigh the benefits and risks of any medication with your doctor before starting treatment. Remember, it\\'s crucial to discuss any concerns or questions you have with your doctor or dermatologist before starting or continuing any acne treatment. They can help you make informed decisions about your treatment and monitor you for any potential side effects.\",\\n        \"Reference Answer\": \"Yes, some medications used to treat Acne can cause problems with vision or hearing.\",\\n        \"Yes or No Answer\": \"YES\"\\n    }\\n]'"
      ]
     },
     "execution_count": 135,
     "metadata": {},
     "output_type": "execute_result"
    }
   ],
   "source": [
    "# Extract the content from the AIMessage object\n",
    "response_content = response.content\n",
    "response_content"
   ]
  },
  {
   "cell_type": "code",
   "execution_count": 137,
   "metadata": {},
   "outputs": [
    {
     "name": "stdout",
     "output_type": "stream",
     "text": [
      "[\n",
      "    {\n",
      "        \"Question\": \"What are the possible side effects of a drug used to treat Acne?\",\n",
      "        \"LLM Answer\": \"Drugs used to treat acne can have various side effects, depending on the type of medication, its strength, and individual tolerance. Here are some possible side effects of common acne treatments: Topical treatments: 1. Benzoyl peroxide: dryness, redness, irritation, itching, stinging, and burning. 2. Salicylic acid: dryness, redness, irritation, and peeling. 3. Retinoids (e.g., adapalene, tretinoin): redness, irritation, dryness, itching, and sensitivity to the sun. 4. Antibiotics (e.g., clindamycin, erythromycin): skin irritation, redness, itching, and dryness. Oral antibiotics: 1. Doxycycline: nausea, vomiting, diarrhea, stomach upset, and increased sensitivity to the sun. 2. Minocycline: dizziness, nausea, vomiting, and stomach upset. 3. Erythromycin: nausea, vomiting, diarrhea, and stomach upset. Hormonal treatments: 1. Birth control pills: mood changes, breast tenderness, nausea, and weight gain. 2. Spironolactone: breast tenderness, menstrual irregularities, and fatigue. Isotretinoin (Accutane): 1. Dryness: dry skin, lips, eyes, and nose. 2. Inflammatory bowel disease: increased risk of inflammatory bowel disease, such as Crohn's disease and ulcerative colitis. 3. Mood changes: depression, anxiety, and mood swings. 4. Fatigue: feeling tired and weak. 5. Hair loss: hair thinning or loss. 6. Muscle and joint pain: pain and stiffness in muscles and joints. 7. Increased risk of sunburn: increased sensitivity to the sun. Other side effects: 1. Allergic reactions: rare, but can occur with any medication, causing symptoms such as hives, itching, and difficulty breathing. 2. Photosensitivity: increased risk of sunburn and skin discoloration. 3. Skin discoloration: changes in skin pigmentation, such as hyperpigmentation or hypopigmentation. It's essential to note that not everyone will experience side effects, and the severity of side effects can vary from person to person. If you're concerned about side effects or have questions, consult your doctor or dermatologist. They can help you weigh the benefits and risks of a particular medication and monitor you for any potential side effects.\",\n",
      "        \"Reference Answer\": \"Possible side effects include hives, difficulty breathing, swelling of the face, lips, tongue, or throat.\",\n",
      "        \"Yes or No Answer\": \"NO\"\n",
      "    },\n",
      "    {\n",
      "        \"Question\": \"What is a common side effect of a weight loss medication?\",\n",
      "        \"LLM Answer\": \"Common side effects of weight loss medications can vary depending on the specific medication, but some common side effects include: 1. Nausea and vomiting 2. Diarrhea or constipation 3. Headache 4. Dizziness or lightheadedness 5. Fatigue or tiredness 6. Dry mouth 7. Increased heart rate or blood pressure 8. Insomnia or sleep disturbances 9. Anxiety or jitteriness Some weight loss medications can also have more serious side effects, such as: 1. Liver damage or increased liver enzymes 2. Increased risk of heart attack or stroke 3. Pancreatitis or inflammation of the pancreas 4. Gallbladder disease 5. Suicidal thoughts or behaviors (in rare cases) It's essential to note that not everyone who takes weight loss medication will experience side effects, and the severity of side effects can vary from person to person. If you're considering taking a weight loss medication, it's crucial to discuss the potential benefits and risks with your healthcare provider and carefully monitor your body's response to the medication. Some examples of weight loss medications and their common side effects include: * Orlistat (Alli, Xenical): gastrointestinal side effects, such as oily stools, diarrhea, and abdominal pain * Phentermine-topiramate (Qsymia): dizziness, insomnia, and constipation * Liraglutide (Saxenda): nausea, vomiting, and diarrhea * Bupropion-naltrexone (Contrave): nausea, headache, and dizziness Always consult with your healthcare provider before starting any weight loss medication, and report any side effects or concerns to ensure safe and effective treatment.\",\n",
      "        \"Reference Answer\": \"A common side effect is difficulty breathing.\",\n",
      "        \"Yes or No Answer\": \"NO\"\n",
      "    },\n",
      "    {\n",
      "        \"Question\": \"What are the potential side effects of a tetracycline antibiotic?\",\n",
      "        \"LLM Answer\": \"Tetracycline antibiotics are a class of broad-spectrum antibiotics that can be effective against a wide range of bacterial infections. However, like all medications, they can cause potential side effects. Here are some possible side effects of tetracycline antibiotics: Common side effects: 1. Nausea and vomiting 2. Diarrhea or loose stools 3. Abdominal pain or cramps 4. Headache 5. Dizziness or lightheadedness 6. Fatigue or weakness 7. Sore mouth or throat 8. Increased sensitivity to the sun (photosensitivity) Less common side effects: 1. Allergic reactions (hives, itching, swelling, or difficulty breathing) 2. Yeast infections (vaginal or oral thrush) 3. Stomach ulcers or inflammation 4. Liver damage or elevated liver enzymes 5. Kidney damage or impairment 6. Increased risk of Clostridioides difficile (C. diff) infection 7. Tooth discoloration (especially in children) 8. Inhibition of bone growth (in children and adolescents) Rare but serious side effects: 1. Anaphylaxis (severe allergic reaction) 2. Stevens-Johnson syndrome (a severe skin and mucous membrane disorder) 3. Toxic epidermal necrolysis (a life-threatening skin condition) 4. Hepatic failure (liver failure) 5. Renal failure (kidney failure) 6. Pseudotumor cerebri (increased pressure in the brain) 7. Blood disorders (e.g., anemia, thrombocytopenia) Special considerations: 1. Tetracyclines can interact with other medications, such as blood thinners, and decrease their effectiveness. 2. They can also increase the risk of sunburn and skin cancer when taken with certain medications or exposed to UV radiation. 3. Tetracyclines are generally not recommended during pregnancy or breastfeeding, as they can affect fetal development or infant growth. 4. Children under 8 years old should not take tetracyclines, as they can cause permanent tooth discoloration. It's essential to consult your healthcare provider or pharmacist if you experience any side effects or have concerns about taking a tetracycline antibiotic. They can help you weigh the benefits and risks of treatment and provide guidance on managing potential side effects.\",\n",
      "        \"Reference Answer\": \"Potential side effects include skin rash, fever, swollen glands, and flu-like symptoms.\",\n",
      "        \"Yes or No Answer\": \"NO\"\n",
      "    },\n",
      "    {\n",
      "        \"Question\": \"Can a medication used to treat Acne cause vision or hearing problems?\",\n",
      "        \"LLM Answer\": \"Yes, some medications used to treat acne can potentially cause vision or hearing problems, although this is rare. Here are some examples: Vision problems: 1. Isotretinoin (Accutane): This oral retinoid is commonly used to treat severe acne. It can cause eye problems such as dry eyes, blurred vision, and increased sensitivity to light. In rare cases, it may also cause more serious eye issues like cataracts, glaucoma, or even permanent vision loss. 2. Tetracyclines (e.g., doxycycline, minocycline): These antibiotics are often used to treat acne. They can cause blurred vision, double vision, or sensitivity to light. In rare cases, they may also cause more serious eye problems like papilledema (swelling of the optic disc). 3. Hormonal therapies (e.g., spironolactone): These medications can cause changes in vision, including blurred vision or double vision, in some individuals. Hearing problems: 1. Minocycline: This antibiotic has been associated with hearing loss, tinnitus (ringing in the ears), or vertigo (dizziness) in rare cases. 2. Isotretinoin (Accutane): Although rare, isotretinoin has been linked to hearing loss, tinnitus, or vertigo in some individuals. 3. Doxycycline: This antibiotic may cause tinnitus or hearing loss in rare cases. Important notes: * These side effects are rare and usually reversible once the medication is stopped. * If you experience any vision or hearing problems while taking acne medication, contact your doctor or dermatologist immediately. * Regular monitoring and follow-up appointments with your doctor can help identify any potential issues early on. * It's essential to weigh the benefits and risks of any medication with your doctor before starting treatment. Remember, it's crucial to discuss any concerns or questions you have with your doctor or dermatologist before starting or continuing any acne treatment. They can help you make informed decisions about your treatment and monitor you for any potential side effects.\",\n",
      "        \"Reference Answer\": \"Yes, some medications used to treat Acne can cause problems with vision or hearing.\",\n",
      "        \"Yes or No Answer\": \"YES\"\n",
      "    },\n",
      "    {\n",
      "        \"Question\": \"Can a medication used to treat Acne cause vision or hearing problems?\",\n",
      "        \"LLM Answer\": \"Yes, some medications used to treat acne can potentially cause vision or hearing problems, although this is rare. Here are some examples: Vision problems: 1. Isotretinoin (Accutane): This oral retinoid is commonly used to treat severe acne. It can cause eye problems such as dry eyes, blurred vision, and increased sensitivity to light. In rare cases, it may also cause more serious eye issues like cataracts, glaucoma, or even permanent vision loss. 2. Tetracyclines (e.g., doxycycline, minocycline): These antibiotics are often used to treat acne. They can cause blurred vision, double vision, or sensitivity to light. In rare cases, they may also cause more serious eye problems like papilledema (swelling of the optic disc). 3. Hormonal therapies (e.g., spironolactone): These medications can cause changes in vision, including blurred vision or double vision, in some individuals. Hearing problems: 1. Minocycline: This antibiotic has been associated with hearing loss, tinnitus (ringing in the ears), or vertigo (dizziness) in rare cases. 2. Isotretinoin (Accutane): Although rare, isotretinoin has been linked to hearing loss, tinnitus, or vertigo in some individuals. 3. Doxycycline: This antibiotic may cause tinnitus or hearing loss in rare cases. Important notes: * These side effects are rare and usually reversible once the medication is stopped. * If you experience any vision or hearing problems while taking acne medication, contact your doctor or dermatologist immediately. * Regular monitoring and follow-up appointments with your doctor can help identify any potential issues early on. * It's essential to weigh the benefits and risks of any medication with your doctor before starting treatment. Remember, it's crucial to discuss any concerns or questions you have with your doctor or dermatologist before starting or continuing any acne treatment. They can help you make informed decisions about your treatment and monitor you for any potential side effects.\",\n",
      "        \"Reference Answer\": \"Yes, some medications used to treat Acne can cause problems with vision or hearing.\",\n",
      "        \"Yes or No Answer\": \"YES\"\n",
      "    }\n",
      "]\n"
     ]
    }
   ],
   "source": [
    "# Remove the Markdown code block markers (```json and ```)\n",
    "if response_content.startswith('```json') and response_content.endswith('```'):\n",
    "    response_content = response_content[7:-3].strip()  # Remove ```json and ```\n",
    "\n",
    "# Parse the JSON content\n",
    "parsed_content = json.loads(response_content)\n",
    "\n",
    "# Print the JSON content with indentation\n",
    "print(json.dumps(parsed_content, indent=4))\n"
   ]
  },
  {
   "cell_type": "markdown",
   "metadata": {},
   "source": [
    "**Multiple Choice Question and Answers**"
   ]
  },
  {
   "cell_type": "code",
   "execution_count": 157,
   "metadata": {},
   "outputs": [],
   "source": [
    "response_schemas = [\n",
    "    ResponseSchema(name=\"Question\", description=\"The generated multiple-choice question based on the provided context.\"),\n",
    "    ResponseSchema(name=\"Options\", description=\"The list of options(A., B., C., D.) to choose from for the generated question.\"),\n",
    "    ResponseSchema(name=\"Answer\", description=\"The correct answer from the provided options.\")\n",
    "]\n",
    "\n",
    "output_parser = StructuredOutputParser.from_response_schemas(response_schemas)\n",
    "format_instructions = output_parser.get_format_instructions(only_json=True)"
   ]
  },
  {
   "cell_type": "code",
   "execution_count": 161,
   "metadata": {},
   "outputs": [],
   "source": [
    "TEMPLATE = \"\"\"\n",
    "You are a helpful agent. Your task is to generate 50 different meaningful multiple-choice questions with their corresponding options and correct answers using the provided \"{context}\".\n",
    "\n",
    "You MUST obey the following criteria:\n",
    "- Only focus on different drugs and their side effects.\n",
    "- No preamble.\n",
    "- Restrict the questions to the context information provided.\n",
    "- Do NOT create a question that cannot be answered from the context.\n",
    "- Phrase the questions so that they do NOT refer to specific context.\n",
    "- For instance, do NOT use phrases like 'given the provided context' or 'in this work' in the question or 'according to the text' in the answer because if the question is asked elsewhere it would not be provided specific context. Replace these terms with specific details.\n",
    "- Do NOT repeat the provided context.\n",
    "- Ensure that no two questions are the same.\n",
    "- Randomize the answer options for each question, and ensure no two options are the same.\n",
    "- Each option must be unique and not repeated across different questions.\n",
    "- Follow the JSON format below.\n",
    "- Ensure the output is a valid JSON object.\n",
    "\n",
    "{format_instructions}\n",
    "\"\"\"\n",
    "\n",
    "prompt = ChatPromptTemplate.from_template(template=TEMPLATE)"
   ]
  },
  {
   "cell_type": "code",
   "execution_count": 162,
   "metadata": {},
   "outputs": [
    {
     "data": {
      "text/plain": [
       "'```json\\n{\\n    \"Questions\": [\\n        {\\n            \"Question\": \"What is a common side effect of the drug doxycycline?\",\\n            \"Options\": {\\n                \"A\": \"Hives\",\\n                \"B\": \"Nausea\",\\n                \"C\": \"Headache\",\\n                \"D\": \"Fever\"\\n            },\\n            \"Answer\": \"A\"\\n        },\\n        {\\n            \"Question\": \"Which of the following is a potential side effect of the drug spironolactone?\",\\n            \"Options\": {\\n                \"A\": \"Difficulty breathing\",\\n                \"B\": \"Swollen glands\",\\n                \"C\": \"Flu-like symptoms\",\\n                \"D\": \"Skin rash\"\\n            },\\n            \"Answer\": \"A\"\\n        },\\n        {\\n            \"Question\": \"What is a possible side effect of the drug minocycline?\",\\n            \"Options\": {\\n                \"A\": \"Swelling of the face\",\\n                \"B\": \"Hives\",\\n                \"C\": \"Fever\",\\n            \"D\": \"Muscle pain\"\\n            },\\n            \"Answer\": \"B\"\\n        },\\n        {\\n            \"Question\": \"Which of the following drugs can cause problems with vision or hearing?\",\\n            \"Options\": {\\n                \"A\": \"Doxycycline\",\\n                \"B\": \"Spironolactone\",\\n                \"C\": \"Accutane\",\\n                \"D\": \"Clindamycin\"\\n            },\\n            \"Answer\": \"C\"\\n        },\\n        {\\n            \"Question\": \"What is a potential side effect of the drug clindamycin?\",\\n            \"Options\": {\\n                \"A\": \"Hives\",\\n                \"B\": \"Difficulty breathing\",\\n                \"C\": \"Swelling of the face\",\\n                \"D\": \"Flu-like symptoms\"\\n            },\\n            \"Answer\": \"A\"\\n        },\\n        {\\n            \"Question\": \"Which of the following is a side effect of the drug benzphetamine?\",\\n            \"Options\": {\\n                \"A\": \"Hives\",\\n                \"B\": \"Swollen glands\",\\n                \"C\": \"Flu-like symptoms\",\\n                \"D\": \"Difficulty breathing\"\\n            },\\n            \"Answer\": \"A\"\\n        },\\n        {\\n            \"Question\": \"What is a possible side effect of the drug fenfluramine?\",\\n            \"Options\": {\\n                \"A\": \"Skin rash\",\\n                \"B\": \"Fever\",\\n                \"C\": \"Hives\",\\n                \"D\": \"Difficulty breathing\"\\n            },\\n            \"Answer\": \"D\"\\n        },\\n        {\\n            \"Question\": \"Which of the following drugs can cause serious side effects, including hives?\",\\n            \"Options\": {\\n                \"A\": \"Imcivree\",\\n                \"B\": \"Setmelanotide\",\\n                \"C\": \"Fendique ER\",\\n                \"D\": \"Phentermine\"\\n            },\\n            \"Answer\": \"A\"\\n        },\\n        {\\n            \"Question\": \"What is a potential side effect of the drug setmelanotide?\",\\n            \"Options\": {\\n                \"A\": \"Hives\",\\n                \"B\": \"Swollen glands\",\\n                \"C\": \"Flu-like symptoms\",\\n                \"D\": \"Skin rash\"\\n            },\\n            \"Answer\": \"A\"\\n        },\\n        {\\n            \"Question\": \"Which of the following is a side effect of the drug phendimetrazine?\",\\n            \"Options\": {\\n                \"A\": \"Hives\",\\n                \"B\": \"Difficulty breathing\",\\n                \"C\": \"Swelling of the face\",\\n                \"D\": \"Flu-like symptoms\"\\n            },\\n            \"Answer\": \"A\"\\n        },\\n        {\\n            \"Question\": \"What is a possible side effect of the drug isotretinoin?\",\\n            \"Options\": {\\n                \"A\": \"Problems with vision or hearing\",\\n                \"B\": \"Hives\",\\n                \"C\": \"Difficulty breathing\",\\n                \"D\": \"Swollen glands\"\\n            },\\n            \"Answer\": \"A\"\\n        },\\n        {\\n            \"Question\": \"Which of the following drugs can cause muscle pain?\",\\n            \"Options\": {\\n                \"A\": \"Doxycycline\",\\n                \"B\": \"Spironolactone\",\\n                \"C\": \"Accutane\",\\n                \"D\": \"Clindamycin\"\\n            },\\n            \"Answer\": \"C\"\\n        },\\n        {\\n            \"Question\": \"What is a potential side effect of the drug amoxicillin?\",\\n            \"Options\": {\\n                \"A\": \"Hives\",\\n                \"B\": \"Difficulty breathing\",\\n                \"C\": \"Swelling of the face\",\\n                \"D\": \"Flu-like symptoms\"\\n            },\\n            \"Answer\": \"A\"\\n        },\\n        {\\n            \"Question\": \"Which of the following is a side effect of the drug amlodipine?\",\\n            \"Options\": {\\n                \"A\": \"Hives\",\\n                \"B\": \"Swollen glands\",\\n                \"C\": \"Flu-like symptoms\",\\n                \"D\": \"Skin rash\"\\n            },\\n            \"Answer\": \"A\"\\n        },\\n        {\\n            \"Question\": \"What is a possible side effect of the drug phentermine?\",\\n            \"Options\": {\\n                \"A\": \"Hives\",\\n                \"B\": \"Difficulty breathing\",\\n                \"C\": \"Swelling of the face\",\\n                \"D\": \"Flu-like symptoms\"\\n            },\\n            \"Answer\": \"A\"\\n        },\\n        {\\n            \"Question\": \"Which of the following drugs can cause fever?\",\\n            \"Options\": {\\n                \"A\": \"Doxycycline\",\\n                \"B\": \"Spironolactone\",\\n                \"C\": \"Minocycline\",\\n                \"D\": \"Clindamycin\"\\n            },\\n            \"Answer\": \"C\"\\n        },\\n        {\\n            \"Question\": \"What is a potential side effect of the drug minocycline?\",\\n            \"Options\": {\\n                \"A\": \"Skin rash\",\\n                \"B\": \"Fever\",\\n                \"C\": \"Hives\",\\n                \"D\": \"Difficulty breathing\"\\n            },\\n            \"Answer\": \"B\"\\n        },\\n        {\\n            \"Question\": \"Which of the following is a side effect of the drug benzphetamine?\",\\n            \"Options\": {\\n                \"A\": \"Hives\",\\n                \"B\": \"Swollen glands\",\\n                \"C\": \"Flu-like symptoms\",\\n                \"D\": \"Skin rash\"\\n            },\\n            \"Answer\": \"A\"\\n        },\\n        {\\n            \"Question\": \"What is a possible side effect of the drug fenfluramine?\",\\n            \"Options\": {\\n                \"A\": \"Hives\",\\n                \"B\": \"Difficulty breathing\",\\n                \"C\": \"Swelling of the face\",\\n                \"D\": \"Flu-like symptoms\"\\n            },\\n            \"Answer\": \"A\"\\n        },\\n        {\\n            \"Question\": \"Which of the following drugs can cause hives?\",\\n            \"Options\": {\\n                \"A\": \"Imcivree\",\\n                \"B\": \"Setmelanotide\",\\n                \"C\": \"Fendique ER\",\\n                \"D\": \"All of the above\"\\n            },\\n            \"Answer\": \"D\"\\n        },\\n        {\\n            \"Question\": \"What is a potential side effect of the drug setmelanotide?\",\\n            \"Options\": {\\n                \"A\": \"Skin rash\",\\n                \"B\": \"Fever\",\\n                \"C\": \"Hives\",\\n                \"D\": \"Difficulty breathing\"\\n            },\\n            \"Answer\": \"C\"\\n        },\\n        {\\n            \"Question\": \"Which of the following is a side effect of the drug phendimetrazine?\",\\n            \"Options\": {\\n                \"A\": \"Hives\",\\n                \"B\": \"Swollen glands\",\\n                \"C\": \"Flu-like symptoms\",\\n                \"D\": \"Skin rash\"\\n            },\\n            \"Answer\": \"A\"\\n        },\\n        {\\n            \"Question\": \"What is a possible side effect of the drug isotretinoin?\",\\n            \"Options\": {\\n                \"A\": \"Problems with vision or hearing\",\\n                \"B\": \"Hives\",\\n                \"C\": \"Difficulty breathing\",\\n                \"D\": \"Swollen glands\"\\n            },\\n            \"Answer\": \"A\"\\n        },\\n        {\\n            \"Question\": \"Which of the following drugs can cause muscle pain?\",\\n            \"Options\": {\\n                \"A\": \"Doxycycline\",\\n                \"B\": \"Spironolactone\",\\n                \"C\": \"Accutane\",\\n                \"D\": \"Clindamycin\"\\n            },\\n            \"Answer\": \"C\"\\n        },\\n        {\\n            \"Question\": \"What is a potential side effect of the drug amoxicillin?\",\\n            \"Options\": {\\n                \"A\": \"Hives\",\\n                \"B\": \"Difficulty breathing\",\\n                \"C\": \"Swelling of the face\",\\n                \"D\": \"Flu-like symptoms\"\\n            },\\n            \"Answer\": \"A\"\\n        },\\n        {\\n            \"Question\": \"Which of the following is a side effect of the drug amlodipine?\",\\n            \"Options\": {\\n                \"A\": \"Hives\",\\n                \"B\": \"Swollen glands\",\\n                \"C\": \"Flu-like symptoms\",\\n                \"D\": \"Skin rash\"\\n            },\\n            \"Answer\": \"A\"\\n        },\\n        {\\n            \"Question\": \"What is a possible side effect of the drug phentermine?\",\\n            \"Options\": {\\n                \"A\": \"Hives\",\\n                \"B\": \"Difficulty breathing\",\\n                \"C\": \"Swelling of the face\",\\n                \"D\": \"Flu-like symptoms\"\\n            },\\n            \"Answer\": \"A\"\\n        },\\n        {\\n            \"Question\": \"Which of the following drugs can cause fever?\",\\n            \"Options\": {\\n                \"A\": \"Doxycycline\",\\n                \"B\": \"Spironolactone\",\\n                \"C\": \"Minocycline\",\\n                \"D\": \"All of the above\"\\n            },\\n            \"Answer\": \"D\"\\n        },\\n        {\\n            \"Question\": \"What is a potential side effect of the drug minocycline?\",\\n            \"Options\": {\\n                \"A\": \"Skin rash\",\\n                \"B\": \"Fever\",\\n                \"C\": \"Hives\",\\n                \"D\": \"Difficulty breathing\"\\n            },\\n            \"Answer\": \"B\"\\n        },\\n        {\\n            \"Question\": \"Which of the following is a side effect of the drug benzphetamine?\",\\n            \"Options\": {\\n                \"A\": \"Hives\",\\n                \"B\": \"Swollen glands\",\\n                \"C\": \"Flu-like symptoms\",\\n                \"D\": \"Skin rash\"\\n            },\\n            \"Answer\": \"A\"\\n        },\\n        {\\n            \"Question\": \"What is a possible side effect of the drug fenfluramine?\",\\n            \"Options\": {\\n                \"A\": \"Hives\",\\n                \"B\": \"Difficulty breathing\",\\n                \"C\": \"Swelling of the face\",\\n                \"D\": \"Flu-like symptoms\"\\n            },\\n            \"Answer\": \"A\"\\n        },\\n        {\\n            \"Question\": \"Which of the following drugs can cause hives?\",\\n            \"Options\": {\\n                \"A\": \"Imcivree\",\\n                \"B\": \"Setmelanotide\",\\n                \"C\": \"Fendique ER\",\\n                \"D\": \"All of the above\"\\n            },\\n            \"Answer\": \"D\"\\n        },\\n        {\\n            \"Question\": \"What is a potential side effect of the drug setmelanotide?\",\\n            \"Options\": {\\n                \"A\": \"Skin rash\",\\n                \"B\": \"Fever\",\\n                \"C\": \"Hives\",\\n                \"D\": \"Difficulty breathing\"\\n            },\\n            \"Answer\": \"C\"\\n        },\\n        {\\n            \"Question\": \"Which of the following is a side effect of the drug phendimetrazine?\",\\n            \"Options\": {\\n                \"A\": \"Hives\",\\n                \"B\": \"Swollen glands\",\\n                \"C\": \"Flu-like symptoms\",\\n                \"D\": \"Skin rash\"\\n            },\\n            \"Answer\": \"A\"\\n        },\\n        {\\n            \"Question\": \"What is a possible side effect of the drug isotretinoin?\",\\n            \"Options\": {\\n                \"A\": \"Problems with vision or hearing\",\\n                \"B\": \"Hives\",\\n                \"C\": \"Difficulty breathing\",\\n                \"D\": \"Swollen glands\"\\n            },\\n            \"Answer\": \"A\"\\n        },\\n        {\\n            \"Question\": \"Which of the following drugs can cause muscle pain?\",\\n            \"Options\": {\\n                \"A\": \"Doxycycline\",\\n                \"B\": \"Spironolactone\",\\n                \"C\": \"Accutane\",\\n                \"D\": \"Clindamycin\"\\n            },\\n            \"Answer\": \"C\"\\n        },\\n        {\\n            \"Question\": \"What is a potential side effect of the drug amoxicillin?\",\\n            \"Options\": {\\n                \"A\": \"Hives\",\\n                \"B\": \"Difficulty breathing\",\\n                \"C\": \"Swelling of the face\",\\n                \"D\": \"Flu-like symptoms\"\\n            },\\n            \"Answer\": \"A\"\\n        },\\n        {\\n            \"Question\": \"Which of the following is a side effect of the drug amlodipine?\",\\n            \"Options\": {\\n                \"A\": \"Hives\",\\n                \"B\": \"Swollen glands\",\\n                \"C\": \"Flu-like symptoms\",\\n                \"D\": \"Skin rash\"\\n            },\\n            \"Answer\": \"A\"\\n        },\\n        {\\n            \"Question\": \"What is a possible side effect of the drug phentermine?\",\\n            \"Options\": {\\n                \"A\": \"Hives\",\\n                \"B\": \"Difficulty breathing\",\\n                \"C\": \"Swelling of the face\",\\n                \"D\": \"Flu-like symptoms\"\\n            },\\n            \"Answer\": \"A\"\\n        },\\n        {\\n            \"Question\": \"Which of the following drugs can cause fever?\",\\n            \"Options\": {\\n                \"A\": \"Doxycycline\",\\n                \"B\": \"Spironolactone\",\\n                \"C\": \"Minocycline\",\\n                \"D\": \"All of the above\"\\n            },\\n            \"Answer\": \"D\"\\n        },\\n        {\\n            \"Question\": \"What is a potential side effect of the drug minocycline?\",\\n            \"Options\": {\\n                \"A\": \"Skin rash\",\\n                \"B\": \"Fever\",\\n                \"C\": \"Hives\",\\n                \"D\": \"Difficulty breathing\"\\n            },\\n            \"Answer\": \"B\"\\n        },\\n        {\\n            \"Question\": \"Which of the following is a side effect of the drug benzphetamine?\",\\n            \"Options\": {\\n                \"A\": \"Hives\",\\n                \"B\": \"Swollen glands\",\\n                \"C\": \"Flu-like symptoms\",\\n                \"D\": \"Skin rash\"\\n            },\\n            \"Answer\": \"A\"\\n        },\\n        {\\n            \"Question\": \"What is a possible side effect of the drug fenfluramine?\",\\n            \"Options\": {\\n                \"A\": \"Hives\",\\n                \"B\": \"Difficulty breathing\",\\n                \"C\": \"Swelling of the face\",\\n                \"D\": \"Flu-like symptoms\"\\n            },\\n            \"Answer\": \"A\"\\n        },\\n        {\\n            \"Question\": \"Which of the following drugs can cause hives?\",\\n            \"Options\": {\\n                \"A\": \"Imcivree\",\\n                \"B\": \"Setmelanotide\",\\n                \"C\": \"Fendique ER\",\\n                \"D\": \"All of the above\"\\n            },\\n            \"Answer\": \"D\"\\n        },\\n        {\\n            \"Question\": \"What is a potential side effect of the drug setmelanotide?\",\\n            \"Options\": {\\n                \"A\": \"Skin rash\",\\n                \"B\": \"Fever\",\\n                \"C\": \"Hives\",\\n                \"D\": \"Difficulty breathing\"\\n            },\\n            \"Answer\": \"C\"\\n        },\\n        {\\n            \"Question\": \"Which of the following is a side effect of the drug phendimetrazine?\",\\n            \"Options\": {\\n                \"A\": \"Hives\",\\n                \"B\": \"Swollen glands\",\\n                \"C\": \"Flu-like symptoms\",\\n                \"D\": \"Skin rash\"\\n            },\\n            \"Answer\": \"A\"\\n        },\\n        {\\n            \"Question\": \"What is a possible side effect of the drug isotretinoin?\",\\n            \"Options\": {\\n                \"A\": \"Problems with vision or hearing\",\\n                \"B\": \"Hives\",\\n                \"C\": \"Difficulty breathing\",\\n                \"D\": \"Swollen glands\"\\n            },\\n            \"Answer\": \"A\"\\n        },\\n        {\\n            \"Question\": \"Which of the following drugs can cause muscle pain?\",\\n            \"Options\": {\\n                \"A\": \"Doxycycline\",\\n                \"B\": \"Spironolactone\",\\n                \"C\": \"Accutane\",\\n                \"D\": \"Clindamycin\"\\n            },\\n            \"Answer\": \"C\"\\n        },\\n        {\\n            \"Question\": \"What is a potential side effect of the drug amoxicillin?\",\\n            \"Options\": {\\n                \"A\": \"Hives\",\\n                \"B\": \"Difficulty breathing\",\\n                \"C\": \"Swelling of the face\",\\n                \"D\": \"Flu-like symptoms\"\\n            },\\n            \"Answer\": \"A\"\\n        },\\n        {\\n            \"Question\": \"Which of the following is a side effect of the drug amlodipine?\",\\n            \"Options\": {\\n                \"A\": \"Hives\",\\n                \"B\": \"Swollen glands\",\\n                \"C\": \"Flu-like symptoms\",\\n                \"D\": \"Skin rash\"\\n            },\\n            \"Answer\": \"A\"\\n        },\\n        {\\n            \"Question\": \"What is a possible side effect of the drug phentermine?\",\\n            \"Options\": {\\n                \"A\": \"Hives\",\\n                \"B\": \"Difficulty breathing\",\\n                \"C\": \"Swelling of the face\",\\n                \"D\": \"Flu-like symptoms\"\\n            },\\n            \"Answer\": \"A\"\\n        },\\n        {\\n            \"Question\": \"Which of the following drugs can cause fever?\",\\n            \"Options\": {\\n                \"A\": \"Doxycycline\",\\n                \"B\": \"Spironolactone\",\\n                \"C\": \"Minocycline\",\\n                \"D\": \"All of the above\"\\n            },\\n            \"Answer\": \"D\"\\n        },\\n        {\\n            \"Question\": \"What is a potential side effect of the drug minocycline?\",\\n            \"Options\": {\\n                \"A\": \"Skin rash\",\\n                \"B\": \"Fever\",\\n                \"C\": \"Hives\",\\n                \"D\": \"Difficulty breathing\"\\n            },\\n            \"Answer\": \"B\"\\n        },\\n        {\\n            \"Question\": \"Which of the following is a side effect of the drug benzphetamine?\",\\n            \"Options\": {\\n                \"A\": \"Hives\",\\n                \"B\": \"Swollen glands\",\\n                \"C\": \"Flu-like symptoms\",\\n                \"D\": \"Skin rash\"\\n            },\\n            \"Answer\": \"A\"\\n        },\\n        {\\n            \"Question\": \"What is a possible side effect of the drug fenfluramine?\",\\n            \"Options\": {\\n                \"A\": \"Hives\",\\n                \"B\": \"Difficulty breathing\",\\n                \"C\": \"Swelling of the face\",\\n                \"D\": \"Flu-like symptoms\"\\n            },\\n            \"Answer\": \"A\"\\n        },\\n        {\\n            \"Question\": \"Which of the following drugs can cause hives?\",\\n            \"Options\": {\\n                \"A\": \"Imcivree\",\\n                \"B\": \"Setmelanotide\",\\n                \"C\": \"Fendique ER\",\\n                \"D\": \"All of the above\"\\n            },\\n            \"Answer\": \"D\"\\n        },\\n        {\\n            \"Question\": \"What is a potential side effect of the drug setmelanotide?\",\\n            \"Options\": {\\n                \"A\": \"Skin rash\",\\n                \"B\": \"Fever\",\\n                \"C\": \"Hives\",\\n                \"D\": \"Difficulty breathing\"\\n            },\\n            \"Answer\": \"C\"\\n        },\\n        {\\n            \"Question\": \"Which of the following is a side effect of the drug phendimetrazine?\",\\n            \"Options\": {\\n                \"A\": \"Hives\",\\n                \"B\": \"Swollen glands\",\\n                \"C\": \"Flu-like symptoms\",\\n                \"D\": \"Skin rash\"\\n            },\\n            \"Answer\": \"A\"\\n        },\\n        {\\n            \"Question\": \"What is a possible side effect of the drug isotretinoin?\",\\n            \"Options\": {\\n                \"A\": \"Problems with vision or hearing\",\\n                \"B\": \"Hives\",\\n                \"C\": \"Difficulty breathing\",\\n                \"D\": \"Swollen glands\"\\n            },\\n            \"Answer\": \"A\"\\n        },\\n        {\\n            \"Question\": \"Which of the following drugs can cause muscle pain?\",\\n            \"Options\": {\\n                \"A\": \"Doxycycline\",\\n                \"B\": \"Spironolactone\",\\n                \"C\": \"Accutane\",\\n                \"D\": \"Clindamycin\"\\n            },\\n            \"Answer\": \"C\"\\n        },\\n        {\\n            \"Question\": \"What is a potential side effect of the drug amoxicillin?\",\\n            \"Options\": {\\n                \"A\": \"Hives\",\\n                \"B\": \"Difficulty breathing\",\\n                \"C\": \"Swelling of the face\",\\n                \"D\": \"Flu-like symptoms\"\\n            },\\n            \"Answer\": \"A\"\\n        },\\n        {\\n            \"Question\": \"Which of the following is a side effect of the drug amlodipine?\",\\n            \"Options\": {\\n                \"A\": \"Hives\",\\n                \"B\": \"Swollen glands\",\\n                \"C\": \"Flu-like symptoms\",\\n                \"D\": \"Skin rash\"\\n            },\\n            \"Answer\": \"A\"\\n        },\\n        {\\n            \"Question\": \"What is a possible side effect of the drug phentermine?\",\\n            \"Options\": {\\n                \"A\": \"Hives\",\\n                \"B\": \"Difficulty breathing\",\\n                \"C\": \"Swelling of the face\",\\n                \"D\": \"Flu-like symptoms\"\\n            },\\n            \"Answer\": \"A\"\\n        },\\n        {\\n            \"Question\": \"Which of the following drugs can cause fever?\",\\n            \"Options\": {\\n                \"A\": \"Doxycycline\",\\n                \"B\": \"Spironolactone\",\\n                \"C\": \"Minocycline\",\\n                \"D\": \"All of the above\"\\n            },\\n            \"Answer\": \"D\"\\n        },\\n        {\\n            \"Question\": \"What is a potential side effect of the drug minocycline?\",\\n            \"Options\": {\\n                \"A\": \"Skin rash\",\\n                \"B\": \"Fever\",\\n                \"C\": \"Hives\",\\n                \"D\": \"Difficulty breathing\"\\n            },\\n            \"Answer\": \"B\"\\n        },\\n        {\\n            \"Question\": \"Which of the following is a side effect of the drug benzphetamine?\",\\n            \"Options\": {\\n                \"A\": \"Hives\",\\n                \"B\": \"Swollen glands\",\\n                \"C\": \"Flu-like symptoms\",\\n                \"D\": \"Skin rash\"\\n            },\\n            \"Answer\": \"A\"\\n        },\\n        {\\n            \"Question\": \"What is a possible side effect of the drug fenfluramine?\",\\n            \"Options\": {\\n                \"A\": \"Hives\",\\n                \"B\": \"Difficulty breathing\",\\n                \"C\": \"Swelling of the face\",\\n                \"D\": \"Flu-like symptoms\"\\n            },\\n            \"Answer\": \"A\"\\n        },\\n        {\\n            \"Question\": \"Which of the following drugs can cause hives?\",\\n            \"Options\": {\\n                \"A\": \"Imcivree\",\\n                \"B\": \"Setmelanotide\",\\n                \"C\": \"Fendique ER\",\\n                \"D\": \"All of the above\"\\n            },\\n            \"Answer\": \"D\"\\n        },\\n        {\\n            \"Question\": \"What is a potential side effect of the drug setmelanotide?\",\\n            \"Options\": {\\n                \"A\": \"Skin rash\",\\n                \"B\": \"Fever\",\\n                \"C\": \"Hives\",\\n                \"D\": \"Difficulty breathing\"\\n            },\\n            \"Answer\": \"C\"\\n        },\\n        {\\n            \"Question\": \"Which of the following is a side effect of the drug phendimetrazine?\",\\n            \"Options\": {\\n                \"A\": \"Hives\",\\n                \"B\": \"Swollen glands\",\\n                \"C\": \"Flu-like symptoms\",\\n                \"D\": \"Skin rash\"\\n            },\\n            \"Answer\": \"A\"\\n        },\\n        {\\n            \"Question\": \"What is a possible side effect of the drug isotretinoin?\",\\n            \"Options\": {\\n                \"A\": \"Problems with vision or hearing\",\\n                \"B\": \"Hives\",\\n                \"C\": \"Difficulty breathing\",\\n                \"D\": \"Swollen glands\"\\n            },\\n            \"Answer\": \"A\"\\n        },\\n        {\\n            \"Question\": \"Which of the following drugs can cause muscle pain?\",\\n            \"Options\": {\\n                \"A\": \"Doxycycline\",\\n                \"B\": \"Spironolactone\",\\n                \"C\": \"Accutane\",\\n                \"D\": \"Clindamycin\"\\n            },\\n            \"Answer\": \"C\"\\n        },\\n        {\\n            \"Question\": \"What is a potential side effect of the drug amoxicillin?\",\\n            \"Options\": {\\n                \"A\": \"Hives\",\\n                \"B\": \"Difficulty breathing\",\\n                \"C\": \"Swelling of the face\",\\n                \"D\": \"Flu-like symptoms\"\\n            },\\n            \"Answer\": \"A\"\\n        },\\n        {\\n            \"Question\": \"Which of the following is a side effect of the drug amlodipine?\",\\n            \"Options\": {\\n                \"A\": \"Hives\",\\n                \"B\": \"Swollen glands\",\\n                \"C\": \"Flu-like symptoms\",\\n                \"D\": \"Skin rash\"\\n            },\\n            \"Answer\": \"A\"\\n        },\\n        {\\n            \"Question\": \"What is a possible side effect of the drug phentermine?\",\\n            \"Options\": {\\n                \"A\": \"Hives\",\\n                \"B\": \"Difficulty breathing\",\\n                \"C\": \"Swelling of the face\",\\n                \"D\": \"Flu-like symptoms\"\\n            },\\n            \"Answer\": \"A\"\\n        },\\n        {\\n            \"Question\": \"Which of the following drugs can cause fever?\",\\n            \"Options\": {\\n                \"A\": \"Doxycycline\",\\n                \"B\": \"Spironolactone\",\\n                \"C\": \"Minocycline\",\\n                \"D\": \"All of the above\"\\n            },\\n            \"Answer\": \"D\"\\n        },\\n        {\\n            \"Question\": \"What is a potential side effect of the drug minocycline?\",\\n            \"Options\": {\\n                \"A\": \"Skin rash\",\\n                \"B\": \"Fever\",\\n                \"C\": \"Hives\",\\n                \"D\": \"Difficulty breathing\"\\n            },\\n            \"Answer\": \"B\"\\n        },\\n        {\\n            \"Question\": \"Which of the following is a side effect of the drug benzphetamine?\",\\n            \"Options\": {\\n                \"A\": \"Hives\",\\n                \"B\": \"Swollen glands\",\\n                \"C\": \"Flu-like symptoms\",\\n                \"D\": \"Skin rash\"\\n            },\\n            \"Answer\": \"A\"\\n        },\\n        {\\n            \"Question\": \"What is a possible side effect of the drug fenfluramine?\",\\n            \"Options\": {\\n                \"A\": \"Hives\",\\n                \"B\": \"Difficulty breathing\",\\n                \"C\": \"Swelling of the face\",\\n                \"D\": \"Flu-like symptoms\"\\n            },\\n            \"Answer\": \"A\"\\n        },\\n        {\\n            \"Question\": \"Which of the following drugs can cause hives?\",\\n            \"Options\": {\\n                \"A\": \"Imcivree\",\\n                \"B\": \"Setmelanotide\",\\n                \"C\": \"Fendique ER\",\\n                \"D\": \"All of the above\"\\n            },\\n            \"Answer\": \"D\"\\n        },\\n        {\\n            \"Question\": \"What is a potential side effect of the drug setmelanotide?\",\\n            \"Options\": {\\n                \"A\": \"Skin rash\",\\n                \"B\": \"Fever\",\\n                \"C\": \"Hives\",\\n                \"D\": \"Difficulty breathing\"\\n            },\\n            \"Answer\": \"C\"\\n        },\\n        {\\n            \"Question\": \"Which of the following is a side effect of the drug phendimetrazine?\",\\n            \"Options\": {\\n                \"A\": \"Hives\",\\n                \"B\": \"Swollen glands\",\\n                \"C\": \"Flu-like symptoms\",\\n                \"D\": \"Skin rash\"\\n            },\\n            \"Answer\": \"A\"\\n        },\\n        {\\n            \"Question\": \"What is a possible side effect of the drug isotretinoin?\",\\n            \"Options\": {\\n                \"A\": \"Problems with vision or hearing\",\\n                \"B\": \"Hives\",\\n                \"C\": \"Difficulty breathing\",\\n                \"D\": \"Swollen glands\"\\n            },\\n            \"Answer\": \"A\"\\n        },\\n        {\\n            \"Question\": \"Which of the following drugs can cause muscle pain?\",\\n            \"Options\": {\\n                \"A\": \"Doxycycline\",\\n                \"B\": \"Spironolactone\",\\n                \"C\": \"Accutane\",\\n                \"D\": \"Clindamycin\"\\n            },\\n            \"Answer\": \"C\"\\n        },\\n        {\\n            \"Question\": \"What is a potential side effect of the drug amoxicillin?\",\\n            \"Options\": {\\n                \"A\": \"Hives\",\\n                \"B\": \"Difficulty breathing\",\\n                \"C\": \"Swelling of the face\",\\n                \"D\": \"Flu-like symptoms\"\\n            },\\n            \"Answer\": \"A\"\\n        },\\n        {\\n            \"Question\": \"Which of the following is a side effect of the drug amlodipine?\",\\n            \"Options\": {\\n                \"A\": \"Hives\",\\n                \"B\": \"Swollen glands\",\\n                \"C\": \"Flu-like symptoms\",\\n                \"D\": \"Skin rash\"\\n            },\\n            \"Answer\": \"A\"\\n        },\\n        {\\n            \"Question\": \"What is a possible side effect of the drug phentermine?\",\\n            \"Options\": {\\n                \"A\": \"Hives\",\\n                \"B\": \"Difficulty breathing\",\\n                \"C\": \"Swelling of the face\",\\n                \"D\": \"Flu-like symptoms\"\\n            },\\n            \"Answer\": \"A\"\\n        },\\n        {\\n            \"Question\": \"Which of the following drugs can cause fever?\",\\n            \"Options\": {\\n                \"A\": \"Doxycycline\",\\n                \"B\": \"Spironolactone\",\\n                \"C\": \"Minocycline\",\\n                \"D\": \"All of the above\"\\n            },\\n            \"Answer\": \"D\"\\n        },\\n        {\\n            \"Question\": \"What is a potential side effect of the drug minocycline?\",\\n            \"Options\": {\\n                \"A\": \"Skin rash\",\\n                \"B\": \"Fever\",\\n                \"C\": \"Hives\",\\n                \"D\": \"Difficulty breathing\"\\n            },\\n            \"Answer\": \"B\"\\n        },\\n        {\\n            \"Question\": \"Which of the following is a side effect of the drug benzphetamine?\",\\n            \"Options\": {\\n                \"A\": \"Hives\",\\n                \"B\": \"Swollen glands\",\\n                \"C\": \"Flu-like symptoms\",\\n                \"D\": \"Skin rash\"\\n            },\\n            \"Answer\": \"A\"\\n        },\\n        {\\n            \"Question\": \"What is a possible side effect of the drug fenfluramine?\",\\n            \"Options\": {\\n                \"A\": \"Hives\",\\n                \"B\": \"Difficulty breathing\",\\n                \"C\": \"Swelling of the face\",\\n                \"D\": \"Flu-like symptoms\"\\n            },\\n            \"Answer\": \"A\"\\n        },\\n        {\\n            \"Question\": \"Which of the following drugs can cause hives?\",\\n            \"Options\": {\\n                \"A\": \"Imcivree\",\\n                \"B\": \"Setmelanotide\",\\n                \"C\": \"Fendique ER\",\\n                \"D\": \"All of the above\"\\n            },\\n            \"Answer\": \"D\"\\n        },\\n        {\\n            \"Question\": \"What is a potential side effect of the drug setmelanotide?\",\\n            \"Options\": {\\n                \"A\": \"Skin rash\",\\n                \"B\": \"Fever\",\\n                \"C\": \"Hives\",\\n                \"D\": \"Difficulty breathing\"\\n            },\\n            \"Answer\": \"C\"\\n        },\\n        {\\n            \"Question\": \"Which of the following is a side effect of the drug phendimetrazine?\",\\n            \"Options\": {\\n                \"A\": \"Hives\",\\n                \"B\": \"Swollen glands\",\\n                \"C\": \"Flu-like symptoms\",\\n                \"D\": \"Skin rash\"\\n            },\\n            \"Answer\": \"A\"\\n        },\\n        {\\n            \"Question\": \"What is a possible side effect of the drug isotretinoin?\",\\n            \"Options\": {\\n                \"A\": \"Problems with vision or hearing\",\\n                \"B\": \"Hives\",\\n                \"C\": \"Difficulty breathing\",\\n                \"D\": \"Swollen glands\"\\n            },\\n            \"Answer\": \"A\"\\n        },\\n        {\\n            \"Question\": \"Which of the following drugs can cause muscle pain?\",\\n            \"Options\": {\\n                \"A\": \"Doxycycline\",\\n                \"B\": \"Spironolactone\",\\n                \"C\": \"Accutane\",\\n                \"D\": \"Clindamycin\"\\n            },\\n            \"Answer\": \"C\"\\n        },\\n        {\\n            \"Question\": \"What is a potential side effect of the drug amoxicillin?\",\\n            \"Options\": {\\n                \"A\": \"Hives\",\\n                \"B\": \"Difficulty breathing\",\\n                \"C\": \"Swelling of the face\",\\n                \"D\": \"Flu-like symptoms\"\\n            },\\n            \"Answer\": \"A\"\\n        },\\n        {\\n            \"Question\": \"Which of the following is a side effect of the drug amlodipine?\",\\n            \"Options\": {\\n                \"A\": \"Hives\",\\n                \"B\": \"Swollen glands\",\\n                \"C\": \"Flu-like symptoms\",\\n                \"D\": \"Skin rash\"\\n            },\\n            \"Answer\": \"A\"\\n        },\\n        {\\n            \"Question\": \"What is a possible side effect of the drug phentermine?\",\\n            \"Options\": {\\n                \"A\": \"Hives\",\\n                \"B\": \"Difficulty breathing\",\\n                \"C\": \"Swelling of the face\",\\n                \"D\": \"Flu-like symptoms\"\\n            },\\n            \"Answer\": \"A\"\\n        },\\n        {\\n            \"Question\": \"Which of the following drugs can cause fever?\",\\n            \"Options\": {\\n                \"A\": \"Doxycycline\",\\n                \"B\": \"Spironolactone\",\\n                \"C\": \"Minocycline\",\\n                \"D\": \"All of the above\"\\n            },\\n            \"Answer\": \"D\"\\n        },\\n        {\\n            \"Question\": \"What is a potential side effect of the drug minocycline?\",\\n            \"Options\": {\\n                \"A\": \"Skin rash\",\\n                \"B\": \"Fever\",\\n                \"C\": \"Hives\",\\n                \"D\": \"Difficulty breathing\"\\n            },\\n            \"Answer\": \"B\"\\n        },\\n        {\\n            \"Question\": \"Which of the following is a side effect of the drug benzphetamine?\",\\n            \"Options\": {\\n                \"A\": \"Hives\",\\n                \"B\": \"Swollen glands\",\\n                \"C\": \"Flu-like symptoms\",\\n                \"D\": \"Skin rash\"\\n            },\\n            \"Answer\": \"A\"\\n        },\\n        {\\n            \"Question\": \"What is a possible side effect of the drug fenfluramine?\",\\n            \"Options\": {\\n                \"A\": \"Hives\",\\n                \"B\": \"Difficulty breathing\",\\n                \"C\": \"Swelling of the face\",\\n                \"D\": \"Flu-like symptoms\"\\n            },\\n            \"Answer\": \"A\"\\n        },\\n        {\\n            \"Question\": \"Which of the following drugs can cause hives?\",\\n            \"Options\": {\\n                \"A\": \"Imcivree\",\\n                \"B\": \"Setmelanotide\",\\n                \"C\": \"Fendique ER\",\\n                \"D\": \"All of the above\"\\n            },\\n            \"Answer\": \"D\"\\n        },\\n        {\\n            \"Question\": \"What is a potential side effect of the drug setmelanotide?\",\\n            \"Options\": {\\n                \"A\": \"Skin rash\",\\n                \"B\": \"Fever\",\\n                \"C\": \"Hives\",\\n                \"D\": \"Difficulty breathing\"\\n            },\\n            \"Answer\": \"C\"\\n        },\\n        {\\n            \"Question\": \"Which of the following is a side effect of the drug phendimetrazine?\",\\n            \"Options\": {\\n                \"A\": \"Hives\",\\n                \"B\": \"Swollen glands\",\\n                \"C\": \"Flu-like symptoms\",\\n                \"D\": \"Skin rash\"\\n            },\\n            \"Answer\": \"A\"\\n        },\\n        {\\n            \"Question\": \"What is a possible side effect of the drug isotretinoin?\",\\n            \"Options\": {\\n                \"A\": \"Problems with vision or hearing\",\\n                \"B\": \"Hives\",\\n                \"C\": \"Difficulty breathing\",\\n                \"D\": \"Swollen glands\"\\n            },\\n            \"Answer\": \"A\"\\n        },\\n        {\\n            \"Question\": \"Which of the following drugs can cause muscle pain?\",\\n            \"Options\": {\\n                \"A\": \"Doxycycline\",\\n                \"B\": \"Spironolactone\",\\n                \"C\": \"Accutane\",\\n                \"D\": \"Clindamycin\"\\n            },\\n            \"Answer\": \"C\"\\n        },\\n        {\\n            \"Question\": \"What is a potential side effect of the drug amoxicillin?\",\\n            \"Options\": {\\n                \"A\": \"Hives\",\\n                \"B\": \"Difficulty breathing\",\\n                \"C\": \"Swelling of the face\",\\n                \"D\": \"Flu-like symptoms\"\\n            },\\n            \"Answer\": \"A\"\\n        },\\n        {\\n            \"Question\": \"Which of the following is a side effect of the drug amlodipine?\",\\n            \"Options\": {\\n                \"A\": \"Hives\",\\n                \"B\": \"Swollen glands\",\\n                \"C\": \"Flu-like symptoms\",\\n                \"D\": \"Skin rash\"\\n            },\\n            \"Answer\": \"A\"\\n        },\\n        {\\n            \"Question\": \"What is a possible side effect of the drug phentermine?\",\\n            \"Options\": {\\n                \"A\": \"Hives\",\\n                \"B\": \"Difficulty breathing\",\\n                \"C\": \"Swelling of the face\",\\n                \"D\": \"Flu-like symptoms\"\\n            },\\n            \"Answer\": \"A\"\\n        },\\n        {\\n            \"Question\": \"Which of the following drugs can cause fever?\",\\n            \"Options\": {\\n                \"A\": \"Doxycycline\",\\n                \"B\": \"Spironolactone\",\\n                \"C\": \"Minocycline\",\\n                \"D\": \"All of the above\"\\n            },\\n            \"Answer\": \"D\"\\n        },\\n        {\\n            \"Question\": \"What is a potential side effect of the drug minocycline?\",\\n            \"Options\": {\\n                \"A\": \"Skin rash\",\\n                \"B\": \"Fever\",\\n                \"C\": \"Hives\",\\n                \"D\": \"Difficulty breathing\"\\n            },\\n            \"Answer\": \"B\"\\n        },\\n        {\\n            \"Question\": \"Which of the following is a side effect of the drug benzphetamine?\",\\n            \"Options\": {\\n                \"A\": \"Hives\",\\n                \"B\": \"Swollen glands\",\\n                \"C\": \"Flu-like symptoms\",\\n                \"D\": \"Skin rash\"\\n            },\\n            \"Answer\": \"A\"\\n        },\\n        {\\n            \"Question\": \"What is a possible side effect of the drug fenfluramine?\",\\n            \"Options\": {\\n                \"A\": \"Hives\",\\n                \"B\": \"Difficulty breathing\",\\n                \"C\": \"Swelling of the face\",\\n                \"D\": \"Flu-like symptoms\"\\n            },\\n            \"Answer\": \"A\"\\n        },\\n        {\\n            \"Question\": \"Which of the following drugs can cause hives?\",\\n            \"Options\": {\\n                \"A\": \"Imcivree\",\\n                \"B\": \"Setmelanotide\",\\n                \"C\": \"Fendique ER\",\\n                \"D\": \"All of the above\"\\n            },\\n            \"Answer\": \"D\"\\n        },\\n        {\\n            \"Question\": \"What is a potential side effect of the drug setmelanotide?\",\\n            \"Options\": {\\n                \"A\": \"Skin rash\",\\n                \"B\": \"Fever\",\\n                \"C\": \"Hives\",\\n                \"D\": \"Difficulty breathing\"\\n            },\\n            \"Answer\": \"C\"\\n        },\\n        {\\n            \"Question\": \"Which of the following is a side effect of the drug phendimetrazine?\",\\n            \"Options\": {\\n                \"A\": \"Hives\",\\n                \"B\": \"Swollen glands\",\\n                \"C\": \"Flu-like symptoms\",\\n                \"D\": \"Skin rash\"\\n            },\\n            \"Answer\": \"A\"\\n        },\\n        {\\n            \"Question\": \"What is a possible side effect of the drug isotretinoin?\",\\n            \"Options\": {\\n                \"A\": \"Problems with vision or hearing\",\\n                \"B\": \"Hives\",\\n                \"C\": \"Difficulty breathing\",\\n                \"D\": \"Swollen glands\"\\n            },\\n            \"Answer\": \"A\"\\n        },\\n        {\\n            \"Question\": \"Which of the following drugs can cause muscle pain?\",\\n            \"Options\": {\\n                \"A\": \"Doxycycline\",\\n                \"B\": \"Spironolactone\",\\n                \"C\": \"Accutane\",\\n                \"D\": \"Clindamycin\"\\n            },\\n            \"Answer\": \"C\"\\n        },\\n        {\\n            \"Question\": \"What is a potential side effect of the drug amoxicillin?\",\\n            \"Options\": {\\n                \"A\": \"Hives\",\\n                \"B\": \"Difficulty breathing\",\\n                \"C\": \"Swelling of the face\",\\n                \"D\": \"Flu-like symptoms\"\\n            },\\n            \"Answer\": \"A\"\\n        },\\n        {\\n            \"Question\": \"Which of the following is a side effect of the drug amlodipine?\",\\n            \"Options\": {\\n                \"A\": \"Hives\",\\n                \"B\": \"Swollen glands\",\\n                \"C\": \"Flu-like symptoms\",\\n                \"D\": \"Skin rash\"\\n            },\\n            \"Answer\": \"A\"\\n        },\\n        {\\n            \"Question\": \"What is a possible side effect of the drug phentermine?\",\\n            \"Options\": {\\n                \"A\": \"Hives\",\\n                \"B\": \"Difficulty breathing\",\\n                \"C\": \"Swelling of the face\",\\n                \"D\": \"Flu-like symptoms\"\\n            },\\n            \"Answer\": \"A\"\\n        },\\n        {\\n            \"Question\": \"Which of the following drugs can cause fever?\",\\n            \"Options\": {\\n                \"A\": \"Doxycycline\",\\n                \"B\": \"Spironolactone\",\\n                \"C\": \"Minocycline\",\\n                \"D\": \"All of the above\"\\n            },\\n            \"Answer\": \"D\"\\n        },\\n        {\\n            \"Question\": \"What is a potential side effect of the drug minocycline?\",\\n            \"Options\": {\\n                \"A\": \"Skin rash\",\\n                \"B\": \"Fever\",\\n                \"C\": \"Hives\",\\n                \"D\": \"Difficulty breathing\"\\n            },\\n            \"Answer\": \"B\"\\n        },\\n        {\\n            \"Question\": \"Which of the following is a side effect of the drug benzphetamine?\",\\n            \"Options\": {\\n                \"A\": \"Hives\",\\n                \"B\": \"Swollen glands\",\\n                \"C\": \"Flu-like symptoms\",\\n                \"D\": \"Skin rash\"\\n            },\\n            \"Answer\": \"A\"\\n        },\\n        {\\n            \"Question\": \"What is a possible side effect of the drug fenfluramine?\",\\n            \"Options\": {\\n                \"A\": \"Hives\",\\n                \"B\": \"Difficulty breathing\",\\n                \"C\": \"Swelling of the face\",\\n                \"D\": \"Flu-like symptoms\"\\n            },\\n            \"Answer\": \"A\"\\n        },\\n        {\\n            \"Question\": \"Which of the following drugs can cause hives?\",\\n            \"Options\": {\\n                \"A\": \"Imcivree\",\\n                \"B\": \"Setmelanotide\",\\n                \"C\": \"Fendique ER\",\\n                \"D\": \"All of the above\"\\n            },\\n            \"Answer\": \"D\"\\n        },\\n        {\\n            \"Question\": \"What is a potential side effect of the drug setmelanotide?\",\\n            \"Options\": {\\n                \"A\": \"Skin rash\",\\n                \"B\": \"Fever\",\\n                \"C\": \"Hives\",\\n                \"D\": \"Difficulty breathing\"\\n            },\\n            \"Answer\": \"C\"\\n        },\\n        {\\n            \"Question\": \"Which of the following is a side effect of the drug phendimetrazine?\",\\n            \"Options\": {\\n                \"A\": \"Hives\",\\n                \"B\": \"Swollen glands\",\\n                \"C\": \"Flu-like symptoms\",\\n                \"D\": \"Skin rash\"\\n            },\\n            \"Answer\": \"A\"\\n        },\\n        {\\n            \"Question\": \"What is a possible side effect of the drug isotretinoin?\",\\n            \"Options\": {\\n                \"A\": \"Problems with vision or hearing\",\\n                \"B\": \"Hives\",\\n                \"C\": \"Difficulty breathing\",\\n                \"D\": \"Swollen glands\"\\n            },\\n            \"Answer\": \"A\"\\n        }\\n    ]\\n}\\n```'"
      ]
     },
     "execution_count": 162,
     "metadata": {},
     "output_type": "execute_result"
    }
   ],
   "source": [
    "messages = prompt.format_messages(context=context, format_instructions=format_instructions)\n",
    "response = llm_model.invoke(messages)\n",
    "response_content = response.content\n",
    "response_content"
   ]
  },
  {
   "cell_type": "code",
   "execution_count": null,
   "metadata": {},
   "outputs": [],
   "source": [
    "# Remove the Markdown code block markers (```json and ```)\n",
    "if response_content.startswith('```json') and response_content.endswith('```'):\n",
    "    response_content = response_content[7:-3].strip()  # Remove ```json and ```\n",
    "\n",
    "# Parse the JSON content\n",
    "parsed_content = json.loads(response_content)\n",
    "\n",
    "# Print the JSON content with indentation\n",
    "print(json.dumps(parsed_content, indent=4))"
   ]
  },
  {
   "cell_type": "code",
   "execution_count": 164,
   "metadata": {},
   "outputs": [],
   "source": [
    "with open(\"Multiple_Choice_Question_LLM_Ref_Ans.json\", \"w\") as f:\n",
    "    json.dump(parsed_content, f, indent=4)"
   ]
  },
  {
   "cell_type": "markdown",
   "metadata": {},
   "source": [
    "**Model 2**"
   ]
  },
  {
   "cell_type": "code",
   "execution_count": 166,
   "metadata": {},
   "outputs": [],
   "source": [
    "import warnings\n",
    "warnings.filterwarnings(\"ignore\")   # Ignore all warnings"
   ]
  },
  {
   "cell_type": "code",
   "execution_count": 171,
   "metadata": {},
   "outputs": [],
   "source": [
    "from langchain_community.chat_models import ChatOllama\n",
    "ollama_llm = ChatOllama(model=\"llama3.1:8b-instruct-fp16\", temperature=0.0, format='json')"
   ]
  },
  {
   "cell_type": "code",
   "execution_count": 172,
   "metadata": {},
   "outputs": [],
   "source": [
    "response_schemas = [\n",
    "    ResponseSchema(name=\"Question\", description=\"The generated multiple-choice question based on the provided context.\"),\n",
    "    ResponseSchema(name=\"Options\", description=\"The list of options(A., B., C., D.) to choose from for the generated question.\"),\n",
    "    ResponseSchema(name=\"Answer\", description=\"The correct answer from the provided options.\")\n",
    "]\n",
    "\n",
    "output_parser = StructuredOutputParser.from_response_schemas(response_schemas)\n",
    "format_instructions = output_parser.get_format_instructions(only_json=True)"
   ]
  },
  {
   "cell_type": "code",
   "execution_count": 173,
   "metadata": {},
   "outputs": [],
   "source": [
    "TEMPLATE = \"\"\"\n",
    "You are a helpful agent. Your task is to generate 50 different meaningful multiple-choice questions with their corresponding options and correct answers using the provided \"{context}\".\n",
    "\n",
    "You MUST obey the following criteria:\n",
    "- Only focus on different drugs and their side effects.\n",
    "- No preamble.\n",
    "- Restrict the questions to the context information provided.\n",
    "- Do NOT create a question that cannot be answered from the context.\n",
    "- Phrase the questions so that they do NOT refer to specific context.\n",
    "- For instance, do NOT use phrases like 'given the provided context' or 'in this work' in the question or 'according to the text' in the answer because if the question is asked elsewhere it would not be provided specific context. Replace these terms with specific details.\n",
    "- Do NOT repeat the provided context.\n",
    "- Ensure that no two questions are the same.\n",
    "- Randomize the answer options for each question, and ensure no two options are the same.\n",
    "- Each option must be unique and not repeated across different questions.\n",
    "- Follow the JSON format below.\n",
    "- Ensure the output is a valid JSON object.\n",
    "\n",
    "{format_instructions}\n",
    "\"\"\"\n",
    "\n",
    "prompt = ChatPromptTemplate.from_template(template=TEMPLATE)"
   ]
  },
  {
   "cell_type": "code",
   "execution_count": 177,
   "metadata": {},
   "outputs": [
    {
     "ename": "ValueError",
     "evalue": "Ollama call failed with status code 500. Details: {\"error\":\"model requires more system memory (13.0 GiB) than is available (5.6 GiB)\"}",
     "output_type": "error",
     "traceback": [
      "\u001b[1;31m---------------------------------------------------------------------------\u001b[0m",
      "\u001b[1;31mValueError\u001b[0m                                Traceback (most recent call last)",
      "Cell \u001b[1;32mIn[177], line 2\u001b[0m\n\u001b[0;32m      1\u001b[0m messages \u001b[38;5;241m=\u001b[39m prompt\u001b[38;5;241m.\u001b[39mformat_messages(context\u001b[38;5;241m=\u001b[39mcontext, format_instructions\u001b[38;5;241m=\u001b[39mformat_instructions)\n\u001b[1;32m----> 2\u001b[0m response \u001b[38;5;241m=\u001b[39m \u001b[43mollama_llm\u001b[49m\u001b[38;5;241;43m.\u001b[39;49m\u001b[43minvoke\u001b[49m\u001b[43m(\u001b[49m\u001b[43mmessages\u001b[49m\u001b[43m)\u001b[49m\n\u001b[0;32m      3\u001b[0m response_content \u001b[38;5;241m=\u001b[39m response\u001b[38;5;241m.\u001b[39mcontent\n\u001b[0;32m      4\u001b[0m response_content\n",
      "File \u001b[1;32mc:\\Users\\Damilare\\AppData\\Local\\Programs\\Python\\Python311\\Lib\\site-packages\\langchain_core\\language_models\\chat_models.py:286\u001b[0m, in \u001b[0;36mBaseChatModel.invoke\u001b[1;34m(self, input, config, stop, **kwargs)\u001b[0m\n\u001b[0;32m    275\u001b[0m \u001b[38;5;28;01mdef\u001b[39;00m \u001b[38;5;21minvoke\u001b[39m(\n\u001b[0;32m    276\u001b[0m     \u001b[38;5;28mself\u001b[39m,\n\u001b[0;32m    277\u001b[0m     \u001b[38;5;28minput\u001b[39m: LanguageModelInput,\n\u001b[1;32m   (...)\u001b[0m\n\u001b[0;32m    281\u001b[0m     \u001b[38;5;241m*\u001b[39m\u001b[38;5;241m*\u001b[39mkwargs: Any,\n\u001b[0;32m    282\u001b[0m ) \u001b[38;5;241m-\u001b[39m\u001b[38;5;241m>\u001b[39m BaseMessage:\n\u001b[0;32m    283\u001b[0m     config \u001b[38;5;241m=\u001b[39m ensure_config(config)\n\u001b[0;32m    284\u001b[0m     \u001b[38;5;28;01mreturn\u001b[39;00m cast(\n\u001b[0;32m    285\u001b[0m         ChatGeneration,\n\u001b[1;32m--> 286\u001b[0m         \u001b[38;5;28;43mself\u001b[39;49m\u001b[38;5;241;43m.\u001b[39;49m\u001b[43mgenerate_prompt\u001b[49m\u001b[43m(\u001b[49m\n\u001b[0;32m    287\u001b[0m \u001b[43m            \u001b[49m\u001b[43m[\u001b[49m\u001b[38;5;28;43mself\u001b[39;49m\u001b[38;5;241;43m.\u001b[39;49m\u001b[43m_convert_input\u001b[49m\u001b[43m(\u001b[49m\u001b[38;5;28;43minput\u001b[39;49m\u001b[43m)\u001b[49m\u001b[43m]\u001b[49m\u001b[43m,\u001b[49m\n\u001b[0;32m    288\u001b[0m \u001b[43m            \u001b[49m\u001b[43mstop\u001b[49m\u001b[38;5;241;43m=\u001b[39;49m\u001b[43mstop\u001b[49m\u001b[43m,\u001b[49m\n\u001b[0;32m    289\u001b[0m \u001b[43m            \u001b[49m\u001b[43mcallbacks\u001b[49m\u001b[38;5;241;43m=\u001b[39;49m\u001b[43mconfig\u001b[49m\u001b[38;5;241;43m.\u001b[39;49m\u001b[43mget\u001b[49m\u001b[43m(\u001b[49m\u001b[38;5;124;43m\"\u001b[39;49m\u001b[38;5;124;43mcallbacks\u001b[39;49m\u001b[38;5;124;43m\"\u001b[39;49m\u001b[43m)\u001b[49m\u001b[43m,\u001b[49m\n\u001b[0;32m    290\u001b[0m \u001b[43m            \u001b[49m\u001b[43mtags\u001b[49m\u001b[38;5;241;43m=\u001b[39;49m\u001b[43mconfig\u001b[49m\u001b[38;5;241;43m.\u001b[39;49m\u001b[43mget\u001b[49m\u001b[43m(\u001b[49m\u001b[38;5;124;43m\"\u001b[39;49m\u001b[38;5;124;43mtags\u001b[39;49m\u001b[38;5;124;43m\"\u001b[39;49m\u001b[43m)\u001b[49m\u001b[43m,\u001b[49m\n\u001b[0;32m    291\u001b[0m \u001b[43m            \u001b[49m\u001b[43mmetadata\u001b[49m\u001b[38;5;241;43m=\u001b[39;49m\u001b[43mconfig\u001b[49m\u001b[38;5;241;43m.\u001b[39;49m\u001b[43mget\u001b[49m\u001b[43m(\u001b[49m\u001b[38;5;124;43m\"\u001b[39;49m\u001b[38;5;124;43mmetadata\u001b[39;49m\u001b[38;5;124;43m\"\u001b[39;49m\u001b[43m)\u001b[49m\u001b[43m,\u001b[49m\n\u001b[0;32m    292\u001b[0m \u001b[43m            \u001b[49m\u001b[43mrun_name\u001b[49m\u001b[38;5;241;43m=\u001b[39;49m\u001b[43mconfig\u001b[49m\u001b[38;5;241;43m.\u001b[39;49m\u001b[43mget\u001b[49m\u001b[43m(\u001b[49m\u001b[38;5;124;43m\"\u001b[39;49m\u001b[38;5;124;43mrun_name\u001b[39;49m\u001b[38;5;124;43m\"\u001b[39;49m\u001b[43m)\u001b[49m\u001b[43m,\u001b[49m\n\u001b[0;32m    293\u001b[0m \u001b[43m            \u001b[49m\u001b[43mrun_id\u001b[49m\u001b[38;5;241;43m=\u001b[39;49m\u001b[43mconfig\u001b[49m\u001b[38;5;241;43m.\u001b[39;49m\u001b[43mpop\u001b[49m\u001b[43m(\u001b[49m\u001b[38;5;124;43m\"\u001b[39;49m\u001b[38;5;124;43mrun_id\u001b[39;49m\u001b[38;5;124;43m\"\u001b[39;49m\u001b[43m,\u001b[49m\u001b[43m \u001b[49m\u001b[38;5;28;43;01mNone\u001b[39;49;00m\u001b[43m)\u001b[49m\u001b[43m,\u001b[49m\n\u001b[0;32m    294\u001b[0m \u001b[43m            \u001b[49m\u001b[38;5;241;43m*\u001b[39;49m\u001b[38;5;241;43m*\u001b[39;49m\u001b[43mkwargs\u001b[49m\u001b[43m,\u001b[49m\n\u001b[0;32m    295\u001b[0m \u001b[43m        \u001b[49m\u001b[43m)\u001b[49m\u001b[38;5;241m.\u001b[39mgenerations[\u001b[38;5;241m0\u001b[39m][\u001b[38;5;241m0\u001b[39m],\n\u001b[0;32m    296\u001b[0m     )\u001b[38;5;241m.\u001b[39mmessage\n",
      "File \u001b[1;32mc:\\Users\\Damilare\\AppData\\Local\\Programs\\Python\\Python311\\Lib\\site-packages\\langchain_core\\language_models\\chat_models.py:786\u001b[0m, in \u001b[0;36mBaseChatModel.generate_prompt\u001b[1;34m(self, prompts, stop, callbacks, **kwargs)\u001b[0m\n\u001b[0;32m    778\u001b[0m \u001b[38;5;28;01mdef\u001b[39;00m \u001b[38;5;21mgenerate_prompt\u001b[39m(\n\u001b[0;32m    779\u001b[0m     \u001b[38;5;28mself\u001b[39m,\n\u001b[0;32m    780\u001b[0m     prompts: \u001b[38;5;28mlist\u001b[39m[PromptValue],\n\u001b[1;32m   (...)\u001b[0m\n\u001b[0;32m    783\u001b[0m     \u001b[38;5;241m*\u001b[39m\u001b[38;5;241m*\u001b[39mkwargs: Any,\n\u001b[0;32m    784\u001b[0m ) \u001b[38;5;241m-\u001b[39m\u001b[38;5;241m>\u001b[39m LLMResult:\n\u001b[0;32m    785\u001b[0m     prompt_messages \u001b[38;5;241m=\u001b[39m [p\u001b[38;5;241m.\u001b[39mto_messages() \u001b[38;5;28;01mfor\u001b[39;00m p \u001b[38;5;129;01min\u001b[39;00m prompts]\n\u001b[1;32m--> 786\u001b[0m     \u001b[38;5;28;01mreturn\u001b[39;00m \u001b[38;5;28;43mself\u001b[39;49m\u001b[38;5;241;43m.\u001b[39;49m\u001b[43mgenerate\u001b[49m\u001b[43m(\u001b[49m\u001b[43mprompt_messages\u001b[49m\u001b[43m,\u001b[49m\u001b[43m \u001b[49m\u001b[43mstop\u001b[49m\u001b[38;5;241;43m=\u001b[39;49m\u001b[43mstop\u001b[49m\u001b[43m,\u001b[49m\u001b[43m \u001b[49m\u001b[43mcallbacks\u001b[49m\u001b[38;5;241;43m=\u001b[39;49m\u001b[43mcallbacks\u001b[49m\u001b[43m,\u001b[49m\u001b[43m \u001b[49m\u001b[38;5;241;43m*\u001b[39;49m\u001b[38;5;241;43m*\u001b[39;49m\u001b[43mkwargs\u001b[49m\u001b[43m)\u001b[49m\n",
      "File \u001b[1;32mc:\\Users\\Damilare\\AppData\\Local\\Programs\\Python\\Python311\\Lib\\site-packages\\langchain_core\\language_models\\chat_models.py:643\u001b[0m, in \u001b[0;36mBaseChatModel.generate\u001b[1;34m(self, messages, stop, callbacks, tags, metadata, run_name, run_id, **kwargs)\u001b[0m\n\u001b[0;32m    641\u001b[0m         \u001b[38;5;28;01mif\u001b[39;00m run_managers:\n\u001b[0;32m    642\u001b[0m             run_managers[i]\u001b[38;5;241m.\u001b[39mon_llm_error(e, response\u001b[38;5;241m=\u001b[39mLLMResult(generations\u001b[38;5;241m=\u001b[39m[]))\n\u001b[1;32m--> 643\u001b[0m         \u001b[38;5;28;01mraise\u001b[39;00m e\n\u001b[0;32m    644\u001b[0m flattened_outputs \u001b[38;5;241m=\u001b[39m [\n\u001b[0;32m    645\u001b[0m     LLMResult(generations\u001b[38;5;241m=\u001b[39m[res\u001b[38;5;241m.\u001b[39mgenerations], llm_output\u001b[38;5;241m=\u001b[39mres\u001b[38;5;241m.\u001b[39mllm_output)  \u001b[38;5;66;03m# type: ignore[list-item]\u001b[39;00m\n\u001b[0;32m    646\u001b[0m     \u001b[38;5;28;01mfor\u001b[39;00m res \u001b[38;5;129;01min\u001b[39;00m results\n\u001b[0;32m    647\u001b[0m ]\n\u001b[0;32m    648\u001b[0m llm_output \u001b[38;5;241m=\u001b[39m \u001b[38;5;28mself\u001b[39m\u001b[38;5;241m.\u001b[39m_combine_llm_outputs([res\u001b[38;5;241m.\u001b[39mllm_output \u001b[38;5;28;01mfor\u001b[39;00m res \u001b[38;5;129;01min\u001b[39;00m results])\n",
      "File \u001b[1;32mc:\\Users\\Damilare\\AppData\\Local\\Programs\\Python\\Python311\\Lib\\site-packages\\langchain_core\\language_models\\chat_models.py:633\u001b[0m, in \u001b[0;36mBaseChatModel.generate\u001b[1;34m(self, messages, stop, callbacks, tags, metadata, run_name, run_id, **kwargs)\u001b[0m\n\u001b[0;32m    630\u001b[0m \u001b[38;5;28;01mfor\u001b[39;00m i, m \u001b[38;5;129;01min\u001b[39;00m \u001b[38;5;28menumerate\u001b[39m(messages):\n\u001b[0;32m    631\u001b[0m     \u001b[38;5;28;01mtry\u001b[39;00m:\n\u001b[0;32m    632\u001b[0m         results\u001b[38;5;241m.\u001b[39mappend(\n\u001b[1;32m--> 633\u001b[0m             \u001b[38;5;28;43mself\u001b[39;49m\u001b[38;5;241;43m.\u001b[39;49m\u001b[43m_generate_with_cache\u001b[49m\u001b[43m(\u001b[49m\n\u001b[0;32m    634\u001b[0m \u001b[43m                \u001b[49m\u001b[43mm\u001b[49m\u001b[43m,\u001b[49m\n\u001b[0;32m    635\u001b[0m \u001b[43m                \u001b[49m\u001b[43mstop\u001b[49m\u001b[38;5;241;43m=\u001b[39;49m\u001b[43mstop\u001b[49m\u001b[43m,\u001b[49m\n\u001b[0;32m    636\u001b[0m \u001b[43m                \u001b[49m\u001b[43mrun_manager\u001b[49m\u001b[38;5;241;43m=\u001b[39;49m\u001b[43mrun_managers\u001b[49m\u001b[43m[\u001b[49m\u001b[43mi\u001b[49m\u001b[43m]\u001b[49m\u001b[43m \u001b[49m\u001b[38;5;28;43;01mif\u001b[39;49;00m\u001b[43m \u001b[49m\u001b[43mrun_managers\u001b[49m\u001b[43m \u001b[49m\u001b[38;5;28;43;01melse\u001b[39;49;00m\u001b[43m \u001b[49m\u001b[38;5;28;43;01mNone\u001b[39;49;00m\u001b[43m,\u001b[49m\n\u001b[0;32m    637\u001b[0m \u001b[43m                \u001b[49m\u001b[38;5;241;43m*\u001b[39;49m\u001b[38;5;241;43m*\u001b[39;49m\u001b[43mkwargs\u001b[49m\u001b[43m,\u001b[49m\n\u001b[0;32m    638\u001b[0m \u001b[43m            \u001b[49m\u001b[43m)\u001b[49m\n\u001b[0;32m    639\u001b[0m         )\n\u001b[0;32m    640\u001b[0m     \u001b[38;5;28;01mexcept\u001b[39;00m \u001b[38;5;167;01mBaseException\u001b[39;00m \u001b[38;5;28;01mas\u001b[39;00m e:\n\u001b[0;32m    641\u001b[0m         \u001b[38;5;28;01mif\u001b[39;00m run_managers:\n",
      "File \u001b[1;32mc:\\Users\\Damilare\\AppData\\Local\\Programs\\Python\\Python311\\Lib\\site-packages\\langchain_core\\language_models\\chat_models.py:851\u001b[0m, in \u001b[0;36mBaseChatModel._generate_with_cache\u001b[1;34m(self, messages, stop, run_manager, **kwargs)\u001b[0m\n\u001b[0;32m    849\u001b[0m \u001b[38;5;28;01melse\u001b[39;00m:\n\u001b[0;32m    850\u001b[0m     \u001b[38;5;28;01mif\u001b[39;00m inspect\u001b[38;5;241m.\u001b[39msignature(\u001b[38;5;28mself\u001b[39m\u001b[38;5;241m.\u001b[39m_generate)\u001b[38;5;241m.\u001b[39mparameters\u001b[38;5;241m.\u001b[39mget(\u001b[38;5;124m\"\u001b[39m\u001b[38;5;124mrun_manager\u001b[39m\u001b[38;5;124m\"\u001b[39m):\n\u001b[1;32m--> 851\u001b[0m         result \u001b[38;5;241m=\u001b[39m \u001b[38;5;28;43mself\u001b[39;49m\u001b[38;5;241;43m.\u001b[39;49m\u001b[43m_generate\u001b[49m\u001b[43m(\u001b[49m\n\u001b[0;32m    852\u001b[0m \u001b[43m            \u001b[49m\u001b[43mmessages\u001b[49m\u001b[43m,\u001b[49m\u001b[43m \u001b[49m\u001b[43mstop\u001b[49m\u001b[38;5;241;43m=\u001b[39;49m\u001b[43mstop\u001b[49m\u001b[43m,\u001b[49m\u001b[43m \u001b[49m\u001b[43mrun_manager\u001b[49m\u001b[38;5;241;43m=\u001b[39;49m\u001b[43mrun_manager\u001b[49m\u001b[43m,\u001b[49m\u001b[43m \u001b[49m\u001b[38;5;241;43m*\u001b[39;49m\u001b[38;5;241;43m*\u001b[39;49m\u001b[43mkwargs\u001b[49m\n\u001b[0;32m    853\u001b[0m \u001b[43m        \u001b[49m\u001b[43m)\u001b[49m\n\u001b[0;32m    854\u001b[0m     \u001b[38;5;28;01melse\u001b[39;00m:\n\u001b[0;32m    855\u001b[0m         result \u001b[38;5;241m=\u001b[39m \u001b[38;5;28mself\u001b[39m\u001b[38;5;241m.\u001b[39m_generate(messages, stop\u001b[38;5;241m=\u001b[39mstop, \u001b[38;5;241m*\u001b[39m\u001b[38;5;241m*\u001b[39mkwargs)\n",
      "File \u001b[1;32mc:\\Users\\Damilare\\AppData\\Local\\Programs\\Python\\Python311\\Lib\\site-packages\\langchain_community\\chat_models\\ollama.py:291\u001b[0m, in \u001b[0;36mChatOllama._generate\u001b[1;34m(self, messages, stop, run_manager, **kwargs)\u001b[0m\n\u001b[0;32m    267\u001b[0m \u001b[38;5;28;01mdef\u001b[39;00m \u001b[38;5;21m_generate\u001b[39m(\n\u001b[0;32m    268\u001b[0m     \u001b[38;5;28mself\u001b[39m,\n\u001b[0;32m    269\u001b[0m     messages: List[BaseMessage],\n\u001b[1;32m   (...)\u001b[0m\n\u001b[0;32m    272\u001b[0m     \u001b[38;5;241m*\u001b[39m\u001b[38;5;241m*\u001b[39mkwargs: Any,\n\u001b[0;32m    273\u001b[0m ) \u001b[38;5;241m-\u001b[39m\u001b[38;5;241m>\u001b[39m ChatResult:\n\u001b[0;32m    274\u001b[0m \u001b[38;5;250m    \u001b[39m\u001b[38;5;124;03m\"\"\"Call out to Ollama's generate endpoint.\u001b[39;00m\n\u001b[0;32m    275\u001b[0m \n\u001b[0;32m    276\u001b[0m \u001b[38;5;124;03m    Args:\u001b[39;00m\n\u001b[1;32m   (...)\u001b[0m\n\u001b[0;32m    288\u001b[0m \u001b[38;5;124;03m            ])\u001b[39;00m\n\u001b[0;32m    289\u001b[0m \u001b[38;5;124;03m    \"\"\"\u001b[39;00m\n\u001b[1;32m--> 291\u001b[0m     final_chunk \u001b[38;5;241m=\u001b[39m \u001b[38;5;28;43mself\u001b[39;49m\u001b[38;5;241;43m.\u001b[39;49m\u001b[43m_chat_stream_with_aggregation\u001b[49m\u001b[43m(\u001b[49m\n\u001b[0;32m    292\u001b[0m \u001b[43m        \u001b[49m\u001b[43mmessages\u001b[49m\u001b[43m,\u001b[49m\n\u001b[0;32m    293\u001b[0m \u001b[43m        \u001b[49m\u001b[43mstop\u001b[49m\u001b[38;5;241;43m=\u001b[39;49m\u001b[43mstop\u001b[49m\u001b[43m,\u001b[49m\n\u001b[0;32m    294\u001b[0m \u001b[43m        \u001b[49m\u001b[43mrun_manager\u001b[49m\u001b[38;5;241;43m=\u001b[39;49m\u001b[43mrun_manager\u001b[49m\u001b[43m,\u001b[49m\n\u001b[0;32m    295\u001b[0m \u001b[43m        \u001b[49m\u001b[43mverbose\u001b[49m\u001b[38;5;241;43m=\u001b[39;49m\u001b[38;5;28;43mself\u001b[39;49m\u001b[38;5;241;43m.\u001b[39;49m\u001b[43mverbose\u001b[49m\u001b[43m,\u001b[49m\n\u001b[0;32m    296\u001b[0m \u001b[43m        \u001b[49m\u001b[38;5;241;43m*\u001b[39;49m\u001b[38;5;241;43m*\u001b[39;49m\u001b[43mkwargs\u001b[49m\u001b[43m,\u001b[49m\n\u001b[0;32m    297\u001b[0m \u001b[43m    \u001b[49m\u001b[43m)\u001b[49m\n\u001b[0;32m    298\u001b[0m     chat_generation \u001b[38;5;241m=\u001b[39m ChatGeneration(\n\u001b[0;32m    299\u001b[0m         message\u001b[38;5;241m=\u001b[39mAIMessage(content\u001b[38;5;241m=\u001b[39mfinal_chunk\u001b[38;5;241m.\u001b[39mtext),\n\u001b[0;32m    300\u001b[0m         generation_info\u001b[38;5;241m=\u001b[39mfinal_chunk\u001b[38;5;241m.\u001b[39mgeneration_info,\n\u001b[0;32m    301\u001b[0m     )\n\u001b[0;32m    302\u001b[0m     \u001b[38;5;28;01mreturn\u001b[39;00m ChatResult(generations\u001b[38;5;241m=\u001b[39m[chat_generation])\n",
      "File \u001b[1;32mc:\\Users\\Damilare\\AppData\\Local\\Programs\\Python\\Python311\\Lib\\site-packages\\langchain_community\\chat_models\\ollama.py:222\u001b[0m, in \u001b[0;36mChatOllama._chat_stream_with_aggregation\u001b[1;34m(self, messages, stop, run_manager, verbose, **kwargs)\u001b[0m\n\u001b[0;32m    213\u001b[0m \u001b[38;5;28;01mdef\u001b[39;00m \u001b[38;5;21m_chat_stream_with_aggregation\u001b[39m(\n\u001b[0;32m    214\u001b[0m     \u001b[38;5;28mself\u001b[39m,\n\u001b[0;32m    215\u001b[0m     messages: List[BaseMessage],\n\u001b[1;32m   (...)\u001b[0m\n\u001b[0;32m    219\u001b[0m     \u001b[38;5;241m*\u001b[39m\u001b[38;5;241m*\u001b[39mkwargs: Any,\n\u001b[0;32m    220\u001b[0m ) \u001b[38;5;241m-\u001b[39m\u001b[38;5;241m>\u001b[39m ChatGenerationChunk:\n\u001b[0;32m    221\u001b[0m     final_chunk: Optional[ChatGenerationChunk] \u001b[38;5;241m=\u001b[39m \u001b[38;5;28;01mNone\u001b[39;00m\n\u001b[1;32m--> 222\u001b[0m \u001b[43m    \u001b[49m\u001b[38;5;28;43;01mfor\u001b[39;49;00m\u001b[43m \u001b[49m\u001b[43mstream_resp\u001b[49m\u001b[43m \u001b[49m\u001b[38;5;129;43;01min\u001b[39;49;00m\u001b[43m \u001b[49m\u001b[38;5;28;43mself\u001b[39;49m\u001b[38;5;241;43m.\u001b[39;49m\u001b[43m_create_chat_stream\u001b[49m\u001b[43m(\u001b[49m\u001b[43mmessages\u001b[49m\u001b[43m,\u001b[49m\u001b[43m \u001b[49m\u001b[43mstop\u001b[49m\u001b[43m,\u001b[49m\u001b[43m \u001b[49m\u001b[38;5;241;43m*\u001b[39;49m\u001b[38;5;241;43m*\u001b[39;49m\u001b[43mkwargs\u001b[49m\u001b[43m)\u001b[49m\u001b[43m:\u001b[49m\n\u001b[0;32m    223\u001b[0m \u001b[43m        \u001b[49m\u001b[38;5;28;43;01mif\u001b[39;49;00m\u001b[43m \u001b[49m\u001b[43mstream_resp\u001b[49m\u001b[43m:\u001b[49m\n\u001b[0;32m    224\u001b[0m \u001b[43m            \u001b[49m\u001b[43mchunk\u001b[49m\u001b[43m \u001b[49m\u001b[38;5;241;43m=\u001b[39;49m\u001b[43m \u001b[49m\u001b[43m_chat_stream_response_to_chat_generation_chunk\u001b[49m\u001b[43m(\u001b[49m\u001b[43mstream_resp\u001b[49m\u001b[43m)\u001b[49m\n",
      "File \u001b[1;32mc:\\Users\\Damilare\\AppData\\Local\\Programs\\Python\\Python311\\Lib\\site-packages\\langchain_community\\chat_models\\ollama.py:194\u001b[0m, in \u001b[0;36mChatOllama._create_chat_stream\u001b[1;34m(self, messages, stop, **kwargs)\u001b[0m\n\u001b[0;32m    184\u001b[0m \u001b[38;5;28;01mdef\u001b[39;00m \u001b[38;5;21m_create_chat_stream\u001b[39m(\n\u001b[0;32m    185\u001b[0m     \u001b[38;5;28mself\u001b[39m,\n\u001b[0;32m    186\u001b[0m     messages: List[BaseMessage],\n\u001b[0;32m    187\u001b[0m     stop: Optional[List[\u001b[38;5;28mstr\u001b[39m]] \u001b[38;5;241m=\u001b[39m \u001b[38;5;28;01mNone\u001b[39;00m,\n\u001b[0;32m    188\u001b[0m     \u001b[38;5;241m*\u001b[39m\u001b[38;5;241m*\u001b[39mkwargs: Any,\n\u001b[0;32m    189\u001b[0m ) \u001b[38;5;241m-\u001b[39m\u001b[38;5;241m>\u001b[39m Iterator[\u001b[38;5;28mstr\u001b[39m]:\n\u001b[0;32m    190\u001b[0m     payload \u001b[38;5;241m=\u001b[39m {\n\u001b[0;32m    191\u001b[0m         \u001b[38;5;124m\"\u001b[39m\u001b[38;5;124mmodel\u001b[39m\u001b[38;5;124m\"\u001b[39m: \u001b[38;5;28mself\u001b[39m\u001b[38;5;241m.\u001b[39mmodel,\n\u001b[0;32m    192\u001b[0m         \u001b[38;5;124m\"\u001b[39m\u001b[38;5;124mmessages\u001b[39m\u001b[38;5;124m\"\u001b[39m: \u001b[38;5;28mself\u001b[39m\u001b[38;5;241m.\u001b[39m_convert_messages_to_ollama_messages(messages),\n\u001b[0;32m    193\u001b[0m     }\n\u001b[1;32m--> 194\u001b[0m     \u001b[38;5;28;01myield from\u001b[39;00m \u001b[38;5;28;43mself\u001b[39;49m\u001b[38;5;241;43m.\u001b[39;49m\u001b[43m_create_stream\u001b[49m\u001b[43m(\u001b[49m\n\u001b[0;32m    195\u001b[0m \u001b[43m        \u001b[49m\u001b[43mpayload\u001b[49m\u001b[38;5;241;43m=\u001b[39;49m\u001b[43mpayload\u001b[49m\u001b[43m,\u001b[49m\u001b[43m \u001b[49m\u001b[43mstop\u001b[49m\u001b[38;5;241;43m=\u001b[39;49m\u001b[43mstop\u001b[49m\u001b[43m,\u001b[49m\u001b[43m \u001b[49m\u001b[43mapi_url\u001b[49m\u001b[38;5;241;43m=\u001b[39;49m\u001b[38;5;124;43mf\u001b[39;49m\u001b[38;5;124;43m\"\u001b[39;49m\u001b[38;5;132;43;01m{\u001b[39;49;00m\u001b[38;5;28;43mself\u001b[39;49m\u001b[38;5;241;43m.\u001b[39;49m\u001b[43mbase_url\u001b[49m\u001b[38;5;132;43;01m}\u001b[39;49;00m\u001b[38;5;124;43m/api/chat\u001b[39;49m\u001b[38;5;124;43m\"\u001b[39;49m\u001b[43m,\u001b[49m\u001b[43m \u001b[49m\u001b[38;5;241;43m*\u001b[39;49m\u001b[38;5;241;43m*\u001b[39;49m\u001b[43mkwargs\u001b[49m\n\u001b[0;32m    196\u001b[0m \u001b[43m    \u001b[49m\u001b[43m)\u001b[49m\n",
      "File \u001b[1;32mc:\\Users\\Damilare\\AppData\\Local\\Programs\\Python\\Python311\\Lib\\site-packages\\langchain_community\\llms\\ollama.py:273\u001b[0m, in \u001b[0;36m_OllamaCommon._create_stream\u001b[1;34m(self, api_url, payload, stop, **kwargs)\u001b[0m\n\u001b[0;32m    271\u001b[0m     \u001b[38;5;28;01melse\u001b[39;00m:\n\u001b[0;32m    272\u001b[0m         optional_detail \u001b[38;5;241m=\u001b[39m response\u001b[38;5;241m.\u001b[39mtext\n\u001b[1;32m--> 273\u001b[0m         \u001b[38;5;28;01mraise\u001b[39;00m \u001b[38;5;167;01mValueError\u001b[39;00m(\n\u001b[0;32m    274\u001b[0m             \u001b[38;5;124mf\u001b[39m\u001b[38;5;124m\"\u001b[39m\u001b[38;5;124mOllama call failed with status code \u001b[39m\u001b[38;5;132;01m{\u001b[39;00mresponse\u001b[38;5;241m.\u001b[39mstatus_code\u001b[38;5;132;01m}\u001b[39;00m\u001b[38;5;124m.\u001b[39m\u001b[38;5;124m\"\u001b[39m\n\u001b[0;32m    275\u001b[0m             \u001b[38;5;124mf\u001b[39m\u001b[38;5;124m\"\u001b[39m\u001b[38;5;124m Details: \u001b[39m\u001b[38;5;132;01m{\u001b[39;00moptional_detail\u001b[38;5;132;01m}\u001b[39;00m\u001b[38;5;124m\"\u001b[39m\n\u001b[0;32m    276\u001b[0m         )\n\u001b[0;32m    277\u001b[0m \u001b[38;5;28;01mreturn\u001b[39;00m response\u001b[38;5;241m.\u001b[39miter_lines(decode_unicode\u001b[38;5;241m=\u001b[39m\u001b[38;5;28;01mTrue\u001b[39;00m)\n",
      "\u001b[1;31mValueError\u001b[0m: Ollama call failed with status code 500. Details: {\"error\":\"model requires more system memory (13.0 GiB) than is available (5.6 GiB)\"}"
     ]
    }
   ],
   "source": [
    "messages = prompt.format_messages(context=context, format_instructions=format_instructions)\n",
    "response = ollama_llm.invoke(messages)\n",
    "response_content = response.content\n",
    "response_content"
   ]
  },
  {
   "cell_type": "code",
   "execution_count": null,
   "metadata": {},
   "outputs": [],
   "source": [
    "!pip uninstall torch torchvision transformers -y\n",
    "!pip cache purge\n",
    "!pip install torch torchvision transformers\n"
   ]
  },
  {
   "cell_type": "markdown",
   "metadata": {},
   "source": [
    "**RAG**"
   ]
  },
  {
   "cell_type": "code",
   "execution_count": null,
   "metadata": {},
   "outputs": [],
   "source": [
    "pip install --upgrade transformers"
   ]
  },
  {
   "cell_type": "code",
   "execution_count": 1,
   "metadata": {},
   "outputs": [
    {
     "name": "stderr",
     "output_type": "stream",
     "text": [
      "\n",
      "[notice] A new release of pip is available: 24.0 -> 24.3.1\n",
      "[notice] To update, run: python.exe -m pip install --upgrade pip\n"
     ]
    }
   ],
   "source": [
    "!pip install -q langchain_groq langchain_huggingface langchain_chroma"
   ]
  },
  {
   "cell_type": "code",
   "execution_count": 2,
   "metadata": {},
   "outputs": [
    {
     "name": "stdout",
     "output_type": "stream",
     "text": [
      "WARNING:tensorflow:From c:\\Users\\Damilare\\AppData\\Local\\Programs\\Python\\Python311\\Lib\\site-packages\\keras\\src\\losses.py:2976: The name tf.losses.sparse_softmax_cross_entropy is deprecated. Please use tf.compat.v1.losses.sparse_softmax_cross_entropy instead.\n",
      "\n"
     ]
    }
   ],
   "source": [
    "from transformers.integrations import integration_utils\n"
   ]
  },
  {
   "cell_type": "code",
   "execution_count": 3,
   "metadata": {},
   "outputs": [
    {
     "data": {
      "application/vnd.jupyter.widget-view+json": {
       "model_id": "cd24972d208f4952b980c6ba17585e52",
       "version_major": 2,
       "version_minor": 0
      },
      "text/plain": [
       "modules.json:   0%|          | 0.00/229 [00:00<?, ?B/s]"
      ]
     },
     "metadata": {},
     "output_type": "display_data"
    },
    {
     "name": "stderr",
     "output_type": "stream",
     "text": [
      "c:\\Users\\Damilare\\AppData\\Local\\Programs\\Python\\Python311\\Lib\\site-packages\\huggingface_hub\\file_download.py:140: UserWarning: `huggingface_hub` cache-system uses symlinks by default to efficiently store duplicated files but your machine does not support them in C:\\Users\\Damilare\\.cache\\huggingface\\hub\\models--mixedbread-ai--mxbai-embed-large-v1. Caching files will still work but in a degraded version that might require more space on your disk. This warning can be disabled by setting the `HF_HUB_DISABLE_SYMLINKS_WARNING` environment variable. For more details, see https://huggingface.co/docs/huggingface_hub/how-to-cache#limitations.\n",
      "To support symlinks on Windows, you either need to activate Developer Mode or to run Python as an administrator. In order to activate developer mode, see this article: https://docs.microsoft.com/en-us/windows/apps/get-started/enable-your-device-for-development\n",
      "  warnings.warn(message)\n"
     ]
    },
    {
     "data": {
      "application/vnd.jupyter.widget-view+json": {
       "model_id": "1f2bbcae44014b96acc817e227cdaa08",
       "version_major": 2,
       "version_minor": 0
      },
      "text/plain": [
       "config_sentence_transformers.json:   0%|          | 0.00/266 [00:00<?, ?B/s]"
      ]
     },
     "metadata": {},
     "output_type": "display_data"
    },
    {
     "data": {
      "application/vnd.jupyter.widget-view+json": {
       "model_id": "6bdd49c4d92245d79693486e2f39c934",
       "version_major": 2,
       "version_minor": 0
      },
      "text/plain": [
       "README.md:   0%|          | 0.00/114k [00:00<?, ?B/s]"
      ]
     },
     "metadata": {},
     "output_type": "display_data"
    },
    {
     "data": {
      "application/vnd.jupyter.widget-view+json": {
       "model_id": "79293d2541e041f5922858a511705c1d",
       "version_major": 2,
       "version_minor": 0
      },
      "text/plain": [
       "sentence_bert_config.json:   0%|          | 0.00/53.0 [00:00<?, ?B/s]"
      ]
     },
     "metadata": {},
     "output_type": "display_data"
    },
    {
     "data": {
      "application/vnd.jupyter.widget-view+json": {
       "model_id": "aba40fdea3a04f7b9f92508fc597f4de",
       "version_major": 2,
       "version_minor": 0
      },
      "text/plain": [
       "1_Pooling/config.json:   0%|          | 0.00/297 [00:00<?, ?B/s]"
      ]
     },
     "metadata": {},
     "output_type": "display_data"
    }
   ],
   "source": [
    "# # Import embedding model\n",
    "from langchain_huggingface import HuggingFaceEmbeddings\n",
    "embed_model = HuggingFaceEmbeddings(model_name=\"mixedbread-ai/mxbai-embed-large-v1\")"
   ]
  },
  {
   "cell_type": "code",
   "execution_count": 4,
   "metadata": {},
   "outputs": [
    {
     "data": {
      "text/plain": [
       "dict_keys(['ids', 'embeddings', 'documents', 'uris', 'data', 'metadatas', 'included'])"
      ]
     },
     "execution_count": 4,
     "metadata": {},
     "output_type": "execute_result"
    }
   ],
   "source": [
    "# Create a vector store...\n",
    "from langchain_chroma import Chroma\n",
    "\n",
    "vectorstore = Chroma(\n",
    "    collection_name=\"medical_dataset_store\",\n",
    "    embedding_function=embed_model,\n",
    "    persist_directory=\"./\",\n",
    ")\n",
    "vectorstore.get().keys()"
   ]
  },
  {
   "cell_type": "code",
   "execution_count": 9,
   "metadata": {},
   "outputs": [
    {
     "data": {
      "text/plain": [
       "['3fb3cb0b-f3ab-4113-9d73-8548bc724a90',\n",
       " 'ee4ffec7-cd79-40ed-898b-3830fe098a45',\n",
       " '84179535-4356-491e-bea5-3b830a3c39a5',\n",
       " '48af6677-3417-4bd8-b7b8-13683b0a59da',\n",
       " 'c4f95001-f9fa-4d1f-811a-73a2b187c688',\n",
       " '676a96ce-b155-458b-a455-9dfde49e291c',\n",
       " '9e5122c1-2aa7-477b-bc07-cebf93695f32',\n",
       " 'e97c83d9-1021-4b8b-9ebf-889ba8a1cb2c',\n",
       " '4e60ecec-2a4a-47a6-b5da-9b9f1579ff2f',\n",
       " '68d33a58-1aa1-4aa4-9656-1537b3a33e6f',\n",
       " '76e8e59f-76fe-4b92-b0d5-e1c0518c5762',\n",
       " '224bd77c-504c-4d1d-8584-7b72ad6ad5cf',\n",
       " 'b7abc37f-4e43-4d04-9c0a-8fa8ab478f06',\n",
       " '5b2c4da0-82e6-4939-b7c5-8b866c792919',\n",
       " 'c28d6a1e-1bf1-4c1f-ba4f-deec79165374',\n",
       " 'db8b1908-d791-4097-b811-a67fa892216b',\n",
       " 'af7407b0-aa6a-4e97-a6fc-24bbff80f346']"
      ]
     },
     "execution_count": 9,
     "metadata": {},
     "output_type": "execute_result"
    }
   ],
   "source": [
    "# Because the vector store is empty... Add your context data.\n",
    "vectorstore.add_texts(context)"
   ]
  },
  {
   "cell_type": "code",
   "execution_count": 10,
   "metadata": {},
   "outputs": [
    {
     "name": "stdout",
     "output_type": "stream",
     "text": [
      "side_effects\n"
     ]
    }
   ],
   "source": [
    "query = \"What is a common side effect of the drug doxycycline?\"\n",
    "docs = vectorstore.similarity_search(query)\n",
    "print(docs[0].page_content)\n",
    "retriever = vectorstore.as_retriever()"
   ]
  },
  {
   "cell_type": "code",
   "execution_count": 17,
   "metadata": {},
   "outputs": [],
   "source": [
    "from langchain_core.prompts import PromptTemplate\n",
    "template = (\"\"\"\n",
    "You are a medical expert specializing in pharmacology.\n",
    "Your task is to use the provided context to answer questions about drug side effects for patients.\n",
    "Please follow these guidelines:\n",
    "- Provide accurate and detailed answers based on the context.\n",
    "- If you don't know the answer, clearly state that you don't know.\n",
    "- Do not reference the context directly in your response; just provide the answer.\n",
    "- Ensure your answers are clear, concise, and informative.\n",
    "\n",
    "Context: {context}\n",
    "Question: {question}\n",
    "Answer:\n",
    "\"\"\")\n",
    "rag_prompt = PromptTemplate.from_template(template)"
   ]
  },
  {
   "cell_type": "code",
   "execution_count": 18,
   "metadata": {},
   "outputs": [],
   "source": [
    "from langchain_core.output_parsers import StrOutputParser\n",
    "from langchain_core.runnables import RunnablePassthrough\n",
    "\n",
    "rag_chain = (\n",
    "    {\"context\": retriever, \"question\": RunnablePassthrough()}\n",
    "    | rag_prompt\n",
    "    | llm_model\n",
    "    | StrOutputParser()\n",
    ")"
   ]
  },
  {
   "cell_type": "code",
   "execution_count": 19,
   "metadata": {},
   "outputs": [
    {
     "data": {
      "text/markdown": [
       "One of the common side effects of doxycycline is gastrointestinal upset, which can include symptoms such as nausea, vomiting, and diarrhea. Additionally, doxycycline can also cause photosensitivity, increasing the risk of sunburn and skin rash. Other potential side effects include headache, dizziness, and yeast infections in women. It's essential to note that the severity and frequency of these side effects can vary depending on the individual and the dosage of the medication."
      ],
      "text/plain": [
       "<IPython.core.display.Markdown object>"
      ]
     },
     "execution_count": 19,
     "metadata": {},
     "output_type": "execute_result"
    }
   ],
   "source": [
    "from IPython.display import display, Markdown\n",
    "\n",
    "response = rag_chain.invoke(\"What is a common side effect of the drug doxycycline?\")\n",
    "Markdown(response)"
   ]
  },
  {
   "cell_type": "code",
   "execution_count": 32,
   "metadata": {},
   "outputs": [
    {
     "name": "stderr",
     "output_type": "stream",
     "text": [
      "c:\\Users\\Damilare\\AppData\\Local\\Programs\\Python\\Python311\\Lib\\site-packages\\gradio\\components\\chatbot.py:279: UserWarning: The 'tuples' format for chatbot messages is deprecated and will be removed in a future version of Gradio. Please set type='messages' instead, which uses openai-style 'role' and 'content' keys.\n",
      "  warnings.warn(\n"
     ]
    },
    {
     "name": "stdout",
     "output_type": "stream",
     "text": [
      "* Running on local URL:  http://127.0.0.1:7873\n",
      "* Running on public URL: https://cfe5cce02c00aabc7a.gradio.live\n",
      "\n",
      "This share link expires in 72 hours. For free permanent hosting and GPU upgrades, run `gradio deploy` from the terminal in the working directory to deploy to Hugging Face Spaces (https://huggingface.co/spaces)\n"
     ]
    },
    {
     "data": {
      "text/html": [
       "<div><iframe src=\"https://cfe5cce02c00aabc7a.gradio.live\" width=\"100%\" height=\"500\" allow=\"autoplay; camera; microphone; clipboard-read; clipboard-write;\" frameborder=\"0\" allowfullscreen></iframe></div>"
      ],
      "text/plain": [
       "<IPython.core.display.HTML object>"
      ]
     },
     "metadata": {},
     "output_type": "display_data"
    },
    {
     "data": {
      "text/plain": []
     },
     "execution_count": 32,
     "metadata": {},
     "output_type": "execute_result"
    },
    {
     "name": "stderr",
     "output_type": "stream",
     "text": [
      "Traceback (most recent call last):\n",
      "  File \"c:\\Users\\Damilare\\AppData\\Local\\Programs\\Python\\Python311\\Lib\\site-packages\\gradio\\queueing.py\", line 625, in process_events\n",
      "    response = await route_utils.call_process_api(\n",
      "               ^^^^^^^^^^^^^^^^^^^^^^^^^^^^^^^^^^^\n",
      "  File \"c:\\Users\\Damilare\\AppData\\Local\\Programs\\Python\\Python311\\Lib\\site-packages\\gradio\\route_utils.py\", line 322, in call_process_api\n",
      "    output = await app.get_blocks().process_api(\n",
      "             ^^^^^^^^^^^^^^^^^^^^^^^^^^^^^^^^^^^\n",
      "  File \"c:\\Users\\Damilare\\AppData\\Local\\Programs\\Python\\Python311\\Lib\\site-packages\\gradio\\blocks.py\", line 2042, in process_api\n",
      "    result = await self.call_function(\n",
      "             ^^^^^^^^^^^^^^^^^^^^^^^^^\n",
      "  File \"c:\\Users\\Damilare\\AppData\\Local\\Programs\\Python\\Python311\\Lib\\site-packages\\gradio\\blocks.py\", line 1587, in call_function\n",
      "    prediction = await fn(*processed_input)\n",
      "                 ^^^^^^^^^^^^^^^^^^^^^^^^^^\n",
      "  File \"c:\\Users\\Damilare\\AppData\\Local\\Programs\\Python\\Python311\\Lib\\site-packages\\gradio\\utils.py\", line 850, in async_wrapper\n",
      "    response = await f(*args, **kwargs)\n",
      "               ^^^^^^^^^^^^^^^^^^^^^^^^\n",
      "  File \"c:\\Users\\Damilare\\AppData\\Local\\Programs\\Python\\Python311\\Lib\\site-packages\\gradio\\chat_interface.py\", line 855, in _submit_fn\n",
      "    history = self._append_message_to_history(response, history, \"assistant\")\n",
      "              ^^^^^^^^^^^^^^^^^^^^^^^^^^^^^^^^^^^^^^^^^^^^^^^^^^^^^^^^^^^^^^^\n",
      "  File \"c:\\Users\\Damilare\\AppData\\Local\\Programs\\Python\\Python311\\Lib\\site-packages\\gradio\\chat_interface.py\", line 786, in _append_message_to_history\n",
      "    message_dicts = self._message_as_message_dict(message, role)\n",
      "                    ^^^^^^^^^^^^^^^^^^^^^^^^^^^^^^^^^^^^^^^^^^^^\n",
      "  File \"c:\\Users\\Damilare\\AppData\\Local\\Programs\\Python\\Python311\\Lib\\site-packages\\gradio\\chat_interface.py\", line 824, in _message_as_message_dict\n",
      "    for x in msg.get(\"files\", []):\n",
      "             ^^^^^^^\n",
      "AttributeError: 'tuple' object has no attribute 'get'\n"
     ]
    }
   ],
   "source": [
    "import gradio as gr\n",
    "\n",
    "# def rag_memory_stream(text):\n",
    "#     partial_text = \"\"\n",
    "#     for new_text in rag_chain.stream(text):\n",
    "#         partial_text += new_text\n",
    "#         yield partial_text\n",
    "\n",
    "\n",
    "# title = \"Real-time AI App with Groq API and LangChain to Answer Drug Side Effect Medical Questions\"\n",
    "# demo = gr.Interface(\n",
    "#     title=title,\n",
    "#     fn=rag_memory_stream,\n",
    "#     inputs=\"text\",\n",
    "#     outputs=\"text\",\n",
    "#     allow_flagging=\"never\",\n",
    "# )\n",
    "\n",
    "# demo.launch(share=True)\n",
    "\n",
    "import gradio as gr\n",
    "\n",
    "# Function to handle chatbot logic with memory\n",
    "def chatbot_with_memory(message, history):\n",
    "    \"\"\"\n",
    "    Respond to the latest user message and update the history.\n",
    "\n",
    "    Args:\n",
    "    - message (str): User's latest message.\n",
    "    - history (list): List of past (user, bot) message tuples.\n",
    "\n",
    "    Returns:\n",
    "    - (str, list): Bot response and updated history.\n",
    "    \"\"\"\n",
    "    # Generate bot's response (replace this with your own logic)\n",
    "    bot_response = f\"Echo: {message}\"  # Example response, replace with actual chatbot logic.\n",
    "\n",
    "    # Append user message and bot response to the history\n",
    "    history.append((message, bot_response))\n",
    "\n",
    "    # Return the updated history\n",
    "    return history\n",
    "\n",
    "# Gradio ChatInterface\n",
    "demo = gr.ChatInterface(\n",
    "    fn=chatbot_with_memory,  # Function to process chat\n",
    "    title=\"Chatbot with Memory\",\n",
    "    description=\"This chatbot remembers the conversation history like ChatGPT.\",\n",
    "    examples=[\"What are the side effects of aspirin?\", \"Can you tell me about ibuprofen?\"],\n",
    ")\n",
    "\n",
    "# Launch the application\n",
    "demo.launch(share=True)"
   ]
  },
  {
   "cell_type": "code",
   "execution_count": null,
   "metadata": {},
   "outputs": [],
   "source": []
  }
 ],
 "metadata": {
  "kernelspec": {
   "display_name": "Python 3",
   "language": "python",
   "name": "python3"
  },
  "language_info": {
   "codemirror_mode": {
    "name": "ipython",
    "version": 3
   },
   "file_extension": ".py",
   "mimetype": "text/x-python",
   "name": "python",
   "nbconvert_exporter": "python",
   "pygments_lexer": "ipython3",
   "version": "3.11.0"
  }
 },
 "nbformat": 4,
 "nbformat_minor": 2
}
