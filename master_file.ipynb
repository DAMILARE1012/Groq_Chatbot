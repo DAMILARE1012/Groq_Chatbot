{
 "cells": [
  {
   "cell_type": "code",
   "execution_count": 132,
   "metadata": {},
   "outputs": [],
   "source": [
    "# Important libraries\n",
    "from dotenv import load_dotenv\n",
    "import os\n",
    "import pandas as pd\n",
    "from langchain_groq import ChatGroq\n",
    "\n",
    "# Langchain \n",
    "from langchain.prompts import ChatPromptTemplate, PromptTemplate\n",
    "from langchain.output_parsers import ResponseSchema, StructuredOutputParser\n",
    "from transformers.integrations import integration_utils\n",
    "\n",
    "# # Import embedding model\n",
    "from langchain_huggingface import HuggingFaceEmbeddings\n",
    "from langchain_core.prompts import PromptTemplate\n",
    "\n",
    "# Vector store...\n",
    "from langchain_chroma import Chroma\n",
    "from langchain_core.output_parsers import StrOutputParser\n",
    "from langchain_core.runnables import RunnablePassthrough\n",
    "\n",
    "import warnings         # Ignore all warnings\n",
    "warnings.filterwarnings(\"ignore\")"
   ]
  },
  {
   "cell_type": "code",
   "execution_count": 133,
   "metadata": {},
   "outputs": [
    {
     "data": {
      "text/html": [
       "<div>\n",
       "<style scoped>\n",
       "    .dataframe tbody tr th:only-of-type {\n",
       "        vertical-align: middle;\n",
       "    }\n",
       "\n",
       "    .dataframe tbody tr th {\n",
       "        vertical-align: top;\n",
       "    }\n",
       "\n",
       "    .dataframe thead th {\n",
       "        text-align: right;\n",
       "    }\n",
       "</style>\n",
       "<table border=\"1\" class=\"dataframe\">\n",
       "  <thead>\n",
       "    <tr style=\"text-align: right;\">\n",
       "      <th></th>\n",
       "      <th>drug_name</th>\n",
       "      <th>medical_condition</th>\n",
       "      <th>side_effects</th>\n",
       "      <th>generic_name</th>\n",
       "      <th>drug_classes</th>\n",
       "      <th>brand_names</th>\n",
       "      <th>activity</th>\n",
       "      <th>rx_otc</th>\n",
       "      <th>pregnancy_category</th>\n",
       "      <th>csa</th>\n",
       "      <th>alcohol</th>\n",
       "      <th>related_drugs</th>\n",
       "      <th>medical_condition_description</th>\n",
       "      <th>rating</th>\n",
       "      <th>no_of_reviews</th>\n",
       "      <th>drug_link</th>\n",
       "      <th>medical_condition_url</th>\n",
       "    </tr>\n",
       "  </thead>\n",
       "  <tbody>\n",
       "    <tr>\n",
       "      <th>0</th>\n",
       "      <td>doxycycline</td>\n",
       "      <td>Acne</td>\n",
       "      <td>(hives, difficult breathing, swelling in your ...</td>\n",
       "      <td>doxycycline</td>\n",
       "      <td>Miscellaneous antimalarials, Tetracyclines</td>\n",
       "      <td>Acticlate, Adoxa CK, Adoxa Pak, Adoxa TT, Alod...</td>\n",
       "      <td>87%</td>\n",
       "      <td>Rx</td>\n",
       "      <td>D</td>\n",
       "      <td>N</td>\n",
       "      <td>X</td>\n",
       "      <td>amoxicillin: https://www.drugs.com/amoxicillin...</td>\n",
       "      <td>Acne Other names: Acne Vulgaris; Blackheads; B...</td>\n",
       "      <td>6.8</td>\n",
       "      <td>760.0</td>\n",
       "      <td>https://www.drugs.com/doxycycline.html</td>\n",
       "      <td>https://www.drugs.com/condition/acne.html</td>\n",
       "    </tr>\n",
       "    <tr>\n",
       "      <th>1</th>\n",
       "      <td>spironolactone</td>\n",
       "      <td>Acne</td>\n",
       "      <td>hives ; difficulty breathing; swelling of your...</td>\n",
       "      <td>spironolactone</td>\n",
       "      <td>Aldosterone receptor antagonists, Potassium-sp...</td>\n",
       "      <td>Aldactone, CaroSpir</td>\n",
       "      <td>82%</td>\n",
       "      <td>Rx</td>\n",
       "      <td>C</td>\n",
       "      <td>N</td>\n",
       "      <td>X</td>\n",
       "      <td>amlodipine: https://www.drugs.com/amlodipine.h...</td>\n",
       "      <td>Acne Other names: Acne Vulgaris; Blackheads; B...</td>\n",
       "      <td>7.2</td>\n",
       "      <td>449.0</td>\n",
       "      <td>https://www.drugs.com/spironolactone.html</td>\n",
       "      <td>https://www.drugs.com/condition/acne.html</td>\n",
       "    </tr>\n",
       "  </tbody>\n",
       "</table>\n",
       "</div>"
      ],
      "text/plain": [
       "        drug_name medical_condition  \\\n",
       "0     doxycycline              Acne   \n",
       "1  spironolactone              Acne   \n",
       "\n",
       "                                        side_effects    generic_name  \\\n",
       "0  (hives, difficult breathing, swelling in your ...     doxycycline   \n",
       "1  hives ; difficulty breathing; swelling of your...  spironolactone   \n",
       "\n",
       "                                        drug_classes  \\\n",
       "0         Miscellaneous antimalarials, Tetracyclines   \n",
       "1  Aldosterone receptor antagonists, Potassium-sp...   \n",
       "\n",
       "                                         brand_names activity rx_otc  \\\n",
       "0  Acticlate, Adoxa CK, Adoxa Pak, Adoxa TT, Alod...      87%     Rx   \n",
       "1                                Aldactone, CaroSpir      82%     Rx   \n",
       "\n",
       "  pregnancy_category csa alcohol  \\\n",
       "0                  D   N       X   \n",
       "1                  C   N       X   \n",
       "\n",
       "                                       related_drugs  \\\n",
       "0  amoxicillin: https://www.drugs.com/amoxicillin...   \n",
       "1  amlodipine: https://www.drugs.com/amlodipine.h...   \n",
       "\n",
       "                       medical_condition_description  rating  no_of_reviews  \\\n",
       "0  Acne Other names: Acne Vulgaris; Blackheads; B...     6.8          760.0   \n",
       "1  Acne Other names: Acne Vulgaris; Blackheads; B...     7.2          449.0   \n",
       "\n",
       "                                   drug_link  \\\n",
       "0     https://www.drugs.com/doxycycline.html   \n",
       "1  https://www.drugs.com/spironolactone.html   \n",
       "\n",
       "                       medical_condition_url  \n",
       "0  https://www.drugs.com/condition/acne.html  \n",
       "1  https://www.drugs.com/condition/acne.html  "
      ]
     },
     "execution_count": 133,
     "metadata": {},
     "output_type": "execute_result"
    }
   ],
   "source": [
    "# Load in the dataset\n",
    "context = pd.read_csv(\"./drugs_side_effects_drugs_com.csv\")\n",
    "context.head(2)"
   ]
  },
  {
   "cell_type": "code",
   "execution_count": 134,
   "metadata": {},
   "outputs": [],
   "source": [
    "# Embedding model...\n",
    "embed_model = HuggingFaceEmbeddings(model_name=\"mixedbread-ai/mxbai-embed-large-v1\")\n",
    "\n",
    "# Initialize the model\n",
    "llm_model = ChatGroq(model=\"llama-3.3-70b-versatile\", api_key=os.environ.get(\"GROQ_API_KEY\"))"
   ]
  },
  {
   "cell_type": "code",
   "execution_count": 135,
   "metadata": {},
   "outputs": [
    {
     "data": {
      "text/plain": [
       "['e44a754d-37fc-4547-9043-2a7841221610',\n",
       " 'f29f8a40-f13b-4f70-a8c6-027a5586a9eb',\n",
       " '1d15754d-6456-4502-b08d-acb3e0de03e8',\n",
       " 'b5478677-5770-4c1b-9b54-04bc9cb9f61d',\n",
       " '6a8c3cd7-52ab-4b90-aa2e-34efe41fdc68',\n",
       " 'e1c91251-7e8b-4a11-bf0e-e5787c2431e4',\n",
       " '8b02b816-d210-4f21-bbbe-516e054fc22f',\n",
       " '754c3787-2f1b-40b2-82c9-533df4887988',\n",
       " '169752d5-95cc-4950-bbc0-2671cd0fdaa4',\n",
       " '9bd556e8-352c-419a-9464-8c7407d298f5',\n",
       " 'dd79f815-24af-4735-a112-52a48ddca216',\n",
       " 'da1de8e2-5dfa-4639-9b6c-3c8182a60981',\n",
       " 'ef1bb6b5-72c5-4332-83a0-329537e23ccc',\n",
       " '42b07d45-defe-4969-81d1-4a9c3d4d4cca',\n",
       " '2a34d8a2-75fe-4f94-8949-58c09d7e4a00',\n",
       " '05bcd9fb-a826-4511-9481-9d1a841fabac',\n",
       " '9d4941d8-95c2-4d94-ae92-22be64dca94a']"
      ]
     },
     "execution_count": 135,
     "metadata": {},
     "output_type": "execute_result"
    }
   ],
   "source": [
    "# Database for saving the documents\n",
    "vectorstore = Chroma(\n",
    "    collection_name=\"medical_dataset_store\",\n",
    "    embedding_function=embed_model,\n",
    "    persist_directory=\"./\",\n",
    ")\n",
    "vectorstore.get().keys()\n",
    "\n",
    "# Because the vector store is empty... Add your context data.\n",
    "vectorstore.add_texts(context)"
   ]
  },
  {
   "cell_type": "code",
   "execution_count": 136,
   "metadata": {},
   "outputs": [],
   "source": [
    "# Load the retriever for fetching the data..\n",
    "retriever = vectorstore.as_retriever()"
   ]
  },
  {
   "cell_type": "code",
   "execution_count": 137,
   "metadata": {},
   "outputs": [],
   "source": [
    "template = \"\"\"\n",
    "You are a specialized medical assistant with expertise in pharmacology, evidence-based medicine, and medical diagnostics. Your role is to analyze queries, apply logical reasoning, and deliver accurate, reliable, and well-structured responses using the provided \"{context}\". Follow these guidelines:\n",
    "\n",
    "### Context:\n",
    "{context}\n",
    "\n",
    "### Question:\n",
    "{question}\n",
    "\n",
    "### Answer:\n",
    "\n",
    "1. **Understand the Scope**:\n",
    "   - Ensure you get correctly the first question.\n",
    "   - General questions: Provide a broad response.\n",
    "   - Specific questions: Provide detailed information.\n",
    "   - Unclear questions: Ask for clarification.\n",
    "\n",
    "2. **Critical Thinking**:\n",
    "   - Analyze the question and cross-check with the context.\n",
    "   - Avoid over-specificity unless explicitly requested.\n",
    "\n",
    "3. **Accuracy and Alignment**:\n",
    "   - Align answers with the question's intent.\n",
    "   - Avoid vague responses; confirm facts or state limitations.\n",
    "\n",
    "4. **Professional Tone and Formatting**:\n",
    "   - Use non-technical language for general audiences.\n",
    "   - Structure responses with bullet points or clear paragraphs.\n",
    "   - Summarize long responses for clarity.\n",
    "\n",
    "5. **Error Handling**:\n",
    "   - If unsure, respond honestly: \"Please consult a healthcare professional.\"\n",
    "   - Request clarification for unclear questions.\n",
    "\n",
    "6. **Advanced Reasoning**:\n",
    "   - Side Effects: Categorize as common or severe, and mention when to seek medical attention.\n",
    "   - Drug Interactions: Explain risks and suggest precautions.\n",
    "   - Medical Conditions: Provide causes, symptoms, risks, treatments, and prevention tips.\n",
    "\n",
    "7. **Handling Irrelevant Questions**:\n",
    "   - If unrelated to the context or outside your scope: \"Please consult a healthcare professional.\"\n",
    "   - Correct any missed or irrelevant responses in the next answer.\n",
    "\n",
    "\n",
    "\"\"\"\n",
    "rag_prompt = PromptTemplate.from_template(template)"
   ]
  },
  {
   "cell_type": "code",
   "execution_count": 138,
   "metadata": {},
   "outputs": [],
   "source": [
    "rag_chain = (\n",
    "    {\"context\": retriever, \"question\": RunnablePassthrough()}\n",
    "    | rag_prompt\n",
    "    | llm_model\n",
    "    | StrOutputParser()\n",
    ")"
   ]
  },
  {
   "cell_type": "code",
   "execution_count": 145,
   "metadata": {},
   "outputs": [
    {
     "name": "stdout",
     "output_type": "stream",
     "text": [
      "* Running on local URL:  http://127.0.0.1:7905\n",
      "* Running on public URL: https://6e024a6915dc748c3d.gradio.live\n",
      "\n",
      "This share link expires in 72 hours. For free permanent hosting and GPU upgrades, run `gradio deploy` from the terminal in the working directory to deploy to Hugging Face Spaces (https://huggingface.co/spaces)\n"
     ]
    },
    {
     "data": {
      "text/html": [
       "<div><iframe src=\"https://6e024a6915dc748c3d.gradio.live\" width=\"100%\" height=\"500\" allow=\"autoplay; camera; microphone; clipboard-read; clipboard-write;\" frameborder=\"0\" allowfullscreen></iframe></div>"
      ],
      "text/plain": [
       "<IPython.core.display.HTML object>"
      ]
     },
     "metadata": {},
     "output_type": "display_data"
    },
    {
     "data": {
      "text/plain": []
     },
     "execution_count": 145,
     "metadata": {},
     "output_type": "execute_result"
    }
   ],
   "source": [
    "import gradio as gr\n",
    "\n",
    "def rag_memory_stream(message, history):\n",
    "    partial_text = \"\"\n",
    "    for new_text in rag_chain.stream(message):\n",
    "        partial_text += new_text\n",
    "        yield partial_text\n",
    "\n",
    "examples = [\n",
    "    \"What is a drug ?\", \n",
    "    \"What are the side effects of lisinopril?\"\n",
    "]\n",
    "\n",
    "description = \"Real-Time AI-Powered Medical Assistant: Drug Side Effect Queries Chatbot\"\n",
    "\n",
    "\n",
    "title = \"AI-Powered Medical Chatbot :) Try me!\"\n",
    "demo = gr.ChatInterface(fn=rag_memory_stream,\n",
    "                        type=\"messages\",\n",
    "                        title=title,\n",
    "                        description=description,\n",
    "                        fill_height=True,\n",
    "                        examples=examples,\n",
    "                        theme=\"glass\",\n",
    ")\n",
    "\n",
    "# Launch the application and make it sharable\n",
    "demo.launch(share=True)"
   ]
  },
  {
   "cell_type": "code",
   "execution_count": 151,
   "metadata": {},
   "outputs": [
    {
     "name": "stdout",
     "output_type": "stream",
     "text": [
      "* Running on local URL:  http://127.0.0.1:7907\n",
      "* Running on public URL: https://5c751c57946475b0ce.gradio.live\n",
      "\n",
      "This share link expires in 72 hours. For free permanent hosting and GPU upgrades, run `gradio deploy` from the terminal in the working directory to deploy to Hugging Face Spaces (https://huggingface.co/spaces)\n"
     ]
    },
    {
     "data": {
      "text/html": [
       "<div><iframe src=\"https://5c751c57946475b0ce.gradio.live\" width=\"100%\" height=\"500\" allow=\"autoplay; camera; microphone; clipboard-read; clipboard-write;\" frameborder=\"0\" allowfullscreen></iframe></div>"
      ],
      "text/plain": [
       "<IPython.core.display.HTML object>"
      ]
     },
     "metadata": {},
     "output_type": "display_data"
    },
    {
     "data": {
      "text/plain": []
     },
     "execution_count": 151,
     "metadata": {},
     "output_type": "execute_result"
    }
   ],
   "source": [
    "import gradio as gr\n",
    "\n",
    "def rag_memory_stream(message, history):\n",
    "    try:\n",
    "        # Combine the chat history with the new message\n",
    "        full_query = \"\\n\".join([f\"User: {msg[0]}\\nBot: {msg[1]}\" for msg in history]) + f\"\\nUser: {message}\"\n",
    "        \n",
    "        # Stream the response\n",
    "        partial_text = \"\"\n",
    "        for new_text in rag_chain.stream(full_query):\n",
    "            partial_text += new_text\n",
    "            yield partial_text\n",
    "        \n",
    "        # Add a feedback button after the response\n",
    "        yield partial_text + \"\\n\\nWas this response helpful? [👍] [👎]\"\n",
    "    except Exception as e:\n",
    "        yield f\"An error occurred: {str(e)}. Please try again later.\"\n",
    "\n",
    "examples = [\n",
    "    \"What is a drug ?\", \n",
    "    \"What are the side effects of lisinopril?\"\n",
    "]\n",
    "\n",
    "description = \"Real-Time AI-Powered Medical Assistant: Drug Side Effect Queries Chatbot\"\n",
    "title = \"AI-Powered Medical Chatbot :) Try me!\"\n",
    "\n",
    "demo = gr.ChatInterface(\n",
    "    fn=rag_memory_stream,\n",
    "    type=\"messages\",\n",
    "    title=title,\n",
    "    description=description,\n",
    "    fill_height=True,\n",
    "    examples=examples,\n",
    "    flagging_options=True,\n",
    "    theme=gr.themes.Glass(\n",
    "        primary_hue=\"blue\",\n",
    "        secondary_hue=\"orange\",\n",
    "        neutral_hue=\"gray\"\n",
    "    ),\n",
    "    # system_prompt=\"Welcome! I'm your AI-powered medical assistant. Ask me anything about drugs, side effects, or medical conditions.\",\n",
    "    # clear_btn=\"Clear Chat\",\n",
    "    # retry_btn=\"Retry\",\n",
    "    # undo_btn=\"Undo\"\n",
    ")\n",
    "\n",
    "# Launch the application and make it sharable\n",
    "demo.launch(share=True)"
   ]
  },
  {
   "cell_type": "code",
   "execution_count": 143,
   "metadata": {},
   "outputs": [
    {
     "name": "stdout",
     "output_type": "stream",
     "text": [
      "* Running on local URL:  http://127.0.0.1:7904\n",
      "* Running on public URL: https://e432556ca25224a21f.gradio.live\n",
      "\n",
      "This share link expires in 72 hours. For free permanent hosting and GPU upgrades, run `gradio deploy` from the terminal in the working directory to deploy to Hugging Face Spaces (https://huggingface.co/spaces)\n"
     ]
    },
    {
     "data": {
      "text/html": [
       "<div><iframe src=\"https://e432556ca25224a21f.gradio.live\" width=\"100%\" height=\"500\" allow=\"autoplay; camera; microphone; clipboard-read; clipboard-write;\" frameborder=\"0\" allowfullscreen></iframe></div>"
      ],
      "text/plain": [
       "<IPython.core.display.HTML object>"
      ]
     },
     "metadata": {},
     "output_type": "display_data"
    },
    {
     "data": {
      "text/plain": []
     },
     "execution_count": 143,
     "metadata": {},
     "output_type": "execute_result"
    },
    {
     "name": "stdout",
     "output_type": "stream",
     "text": [
      "Message History: What is a drug ?\n",
      "Message History: What is a drug ?\n"
     ]
    }
   ],
   "source": [
    "import gradio as gr\n",
    "\n",
    "# def rag_memory_stream(text):\n",
    "#     partial_text = \"\"\n",
    "#     for new_text in rag_chain.stream(text):\n",
    "#         partial_text += new_text\n",
    "#         yield partial_text\n",
    "\n",
    "\n",
    "# title = \"Real-Time AI-Powered Medical Assistant: Drug Side Effect Queries Chatbot\"\n",
    "# demo = gr.Interface(\n",
    "#     title=title,\n",
    "#     fn=rag_memory_stream,\n",
    "#     inputs=\"text\",\n",
    "#     outputs=\"text\",\n",
    "#     allow_flagging=\"never\",\n",
    "# )\n",
    "\n",
    "# demo.launch(share=True)\n",
    "\n",
    "# Define the streaming function\n",
    "def rag_memory_stream(message_history, new_user_input):\n",
    "    # Debug: Print the message history to understand its structure\n",
    "    print(\"Message History:\", message_history)\n",
    "    \n",
    "    # Combine the message history and new user input into a single query\n",
    "    if message_history:\n",
    "        full_query = \"\\n\".join([f\"User: {msg[0]}\\nBot: {msg[1]}\" for msg in message_history if len(msg) == 2]) + f\"\\nUser: {new_user_input}\"\n",
    "    else:\n",
    "        full_query = f\"User: {new_user_input}\"\n",
    "    \n",
    "    # Stream the response from the rag_chain\n",
    "    partial_text = \"\"\n",
    "    for chunk in rag_chain.stream(full_query):  # Ensure rag_chain supports streaming\n",
    "        partial_text += chunk\n",
    "        yield partial_text\n",
    "\n",
    "# Define the title of the application\n",
    "title = \"Real-Time AI-Powered Medical Assistant: Drug Side Effect Queries Chatbot\"\n",
    "\n",
    "# Create a Gradio ChatInterface\n",
    "demo = gr.ChatInterface(\n",
    "    fn=rag_memory_stream,  # Function to process user input\n",
    "    title=title,           # Title of the interface\n",
    "    save_history=True,     # Saves chat history if supported\n",
    "    type=\"messages\"        # Set type to \"messages\" to enable save_history\n",
    ")\n",
    "\n",
    "# Launch the application and make it sharable\n",
    "demo.launch(share=True)"
   ]
  }
 ],
 "metadata": {
  "kernelspec": {
   "display_name": "Python 3",
   "language": "python",
   "name": "python3"
  },
  "language_info": {
   "codemirror_mode": {
    "name": "ipython",
    "version": 3
   },
   "file_extension": ".py",
   "mimetype": "text/x-python",
   "name": "python",
   "nbconvert_exporter": "python",
   "pygments_lexer": "ipython3",
   "version": "3.11.0"
  }
 },
 "nbformat": 4,
 "nbformat_minor": 2
}
